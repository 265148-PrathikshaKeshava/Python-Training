{
 "cells": [
  {
   "cell_type": "code",
   "execution_count": 9,
   "id": "c68d4a3d-3146-4f79-a692-91733feea64a",
   "metadata": {},
   "outputs": [],
   "source": [
    "class student:\n",
    "\n",
    "    # constructor and instance variable intialization\n",
    "    def __init__(self, sname, sage, sgrade):\n",
    "        self.name = sname\n",
    "        self.age  = sage\n",
    "        self.grade = sgrade\n",
    "        self.marks = {}\n",
    "\n",
    "    # class methods\n",
    "    def set_marks(self, subj, marks):\n",
    "        self.marks[subj] = marks\n",
    "\n",
    "    def average(self):\n",
    "        self.average = sum(self.marks.values())/len(self.marks.values())\n",
    "        return self.average\n",
    "\n",
    "    def print_report(self):\n",
    "        print(f\"\\nSELF -> {self}\")\n",
    "        print(\"------------------------------------\")\n",
    "        print(f\"NAME           | {self.name}\")\n",
    "        print(f\"AGE            | {self.age}\")\n",
    "        print(f\"GRADE          | {self.grade}\")\n",
    "        print(\"------------------------------------\")\n",
    "        for k, v in self.marks.items():\n",
    "            print(str(k).rjust(10), \"  |\", str(v).ljust(5) )\n",
    "        print(\"------------------------------------\")\n",
    "        print(\"AVERAGE        | \", self.average())"
   ]
  },
  {
   "cell_type": "code",
   "execution_count": 10,
   "id": "457b2475-1251-46f2-8925-5b3d7c40d761",
   "metadata": {},
   "outputs": [],
   "source": [
    "s1 = student(\"Anil\", 12, \"7\")\n",
    "s2 = student(\"Sunil\", 12, \"7\")"
   ]
  },
  {
   "cell_type": "code",
   "execution_count": 13,
   "id": "8fd35662-aba8-4e5d-ab4f-5ed8143129c6",
   "metadata": {},
   "outputs": [
    {
     "name": "stdout",
     "output_type": "stream",
     "text": [
      "\n",
      "SELF -> <__main__.student object at 0x0000021392234BF0>\n",
      "------------------------------------\n",
      "NAME           | Anil\n",
      "AGE            | 12\n",
      "GRADE          | 7\n",
      "------------------------------------\n",
      "   physics   | 78   \n",
      " chemistry   | 88   \n",
      "------------------------------------\n",
      "AVERAGE        |  83.0\n"
     ]
    }
   ],
   "source": [
    "\n",
    "s1.print_report()"
   ]
  },
  {
   "cell_type": "code",
   "execution_count": 4,
   "id": "e5dde22f-d130-40f9-925e-80c4f0c4e6b9",
   "metadata": {},
   "outputs": [
    {
     "data": {
      "text/plain": [
       "<__main__.student at 0x2127f5e1d90>"
      ]
     },
     "execution_count": 4,
     "metadata": {},
     "output_type": "execute_result"
    }
   ],
   "source": [
    "s2"
   ]
  },
  {
   "cell_type": "code",
   "execution_count": 12,
   "id": "2d2a98a0-e279-494d-9de4-177d73d8a0e8",
   "metadata": {},
   "outputs": [],
   "source": [
    "s1.set_marks(\"physics\", 78)\n",
    "s1.set_marks(\"chemistry\", 88)"
   ]
  },
  {
   "cell_type": "code",
   "execution_count": 6,
   "id": "4fb14be7-0c50-4de6-8e15-3228986c0174",
   "metadata": {},
   "outputs": [],
   "source": [
    "s2.set_marks(\"physics\", 98)\n",
    "s2.set_marks(\"chemistry\", 68)"
   ]
  },
  {
   "cell_type": "code",
   "execution_count": 7,
   "id": "dd26d978-9c7a-41a6-b76d-4607f16f3384",
   "metadata": {},
   "outputs": [
    {
     "name": "stdout",
     "output_type": "stream",
     "text": [
      "\n",
      "SELF -> <__main__.student object at 0x0000021200213770>\n",
      "------------------------------------\n",
      "NAME           | Anil\n",
      "AGE            | 12\n",
      "GRADE          | 7\n",
      "------------------------------------\n",
      "   physics   | 78   \n",
      " chemistry   | 88   \n",
      "------------------------------------\n",
      "AVERAGE        |  83.0\n"
     ]
    }
   ],
   "source": [
    "s1.print_report()"
   ]
  },
  {
   "cell_type": "markdown",
   "id": "2663a36a-c59f-412d-8fe9-944d37db6157",
   "metadata": {},
   "source": [
    "16.2 Exercise\n",
    "\n",
    "Create a employee class with the following features: name, age, company, gross_salary, tax_rate, net_salary Implement methods to: print information, calculate net_salary based on tax rate, set the gross salary, set the tax rate"
   ]
  },
  {
   "cell_type": "code",
   "execution_count": 21,
   "id": "d9aac84a-057a-4279-84ab-9a3b210285db",
   "metadata": {},
   "outputs": [
    {
     "name": "stdout",
     "output_type": "stream",
     "text": [
      "\n",
      "Employee Information\n",
      "------------------------------------\n",
      "Name           | Prathiksha\n",
      "Age            | 25\n",
      "Company        | UST\n",
      "Gross Salary   | 23000\n",
      "Tax Rate (%)   | 5\n",
      "Net Salary     | 21850.0\n",
      "------------------------------------\n"
     ]
    }
   ],
   "source": [
    "class Employee:\n",
    "    def __init__(self, ename, eage,company, gross_salary, tax_rate):\n",
    "        self.name = ename\n",
    "        self.age  = eage\n",
    "        self.company = company\n",
    "        self.gross_salary = gross_salary\n",
    "        self.tax_rate = 5\n",
    "\n",
    "\n",
    "    def net_sal(self):\n",
    "        self.net_salary = self.gross_salary * (1 - self.tax_rate / 100)\n",
    "        return self.net_salary\n",
    "\n",
    "\n",
    "    def bonus():\n",
    "    def set_gross_salary(self, gross_salary):\n",
    "        self.gross_salary = gross_salary\n",
    "\n",
    "    def print_information(self):\n",
    "        print(\"\\nEmployee Information\")\n",
    "        print(\"------------------------------------\")\n",
    "        print(f\"Name           | {self.name}\")\n",
    "        print(f\"Age            | {self.age}\")\n",
    "        print(f\"Company        | {self.company}\")\n",
    "        print(f\"Gross Salary   | {self.gross_salary}\")\n",
    "        print(f\"Tax Rate (%)   | {self.tax_rate}\")\n",
    "        print(f\"Net Salary     | {self.net_sal()}\")\n",
    "        print(\"------------------------------------\")\n",
    "\n",
    "if __name__ == \"__main__\":\n",
    "     emp = Employee(\"Prathiksha\", 25, \"UST\", 23000, 20)\n",
    " \n",
    "    emp.print_information()\n",
    "    \n",
    " \n",
    "\n",
    "    "
   ]
  },
  {
   "cell_type": "code",
   "execution_count": null,
   "id": "4e77f36c-0e59-4788-a1c4-b7a4e8ac785e",
   "metadata": {},
   "outputs": [],
   "source": []
  }
 ],
 "metadata": {
  "kernelspec": {
   "display_name": "Python 3 (ipykernel)",
   "language": "python",
   "name": "python3"
  },
  "language_info": {
   "codemirror_mode": {
    "name": "ipython",
    "version": 3
   },
   "file_extension": ".py",
   "mimetype": "text/x-python",
   "name": "python",
   "nbconvert_exporter": "python",
   "pygments_lexer": "ipython3",
   "version": "3.12.4"
  }
 },
 "nbformat": 4,
 "nbformat_minor": 5
}
