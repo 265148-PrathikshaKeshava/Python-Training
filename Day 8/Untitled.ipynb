{
 "cells": [
  {
   "cell_type": "code",
   "execution_count": 21,
   "id": "161db771-5f78-4c00-8251-2e99e71732f6",
   "metadata": {},
   "outputs": [],
   "source": [
    "import re\n",
    "data = ['ab', 'abc', 'a5e', 'a6f', '123 a6c', 'a5b', 'a55b', 'a555b', 'a5555b',\n",
    "        'a6b','a55555b', 'a555555b', 'a5xb', '1/4', '3+2=5', 'def ghi', 'abc ab']\n"
   ]
  },
  {
   "cell_type": "code",
   "execution_count": 27,
   "id": "ea8f4602-b7ba-4a21-8ace-3595cb33cd39",
   "metadata": {},
   "outputs": [
    {
     "name": "stdout",
     "output_type": "stream",
     "text": [
      "ab matched in 'ab'\n",
      "ab matched in 'abc'\n",
      "ab matched in 'abc ab'\n"
     ]
    }
   ],
   "source": [
    "for item in data:\n",
    "  m = re.match(r'ab', item)\n",
    "  if m:\n",
    "      print(m.group()+ ' matched in ' +'\\'' + item + '\\'')"
   ]
  },
  {
   "cell_type": "code",
   "execution_count": 26,
   "id": "1eef2f26-f4c8-4d8f-b636-d3531a1b75f2",
   "metadata": {},
   "outputs": [
    {
     "name": "stdout",
     "output_type": "stream",
     "text": [
      "a5b matched in 'a5b'\n",
      "a6b matched in 'a6b'\n"
     ]
    }
   ],
   "source": [
    "data = ['ab', 'abc', 'a5e', 'a6f', '123 a6c', 'a5b', 'a55b', 'a555b', 'a5555b',\n",
    "        'a6b','a55555b', 'a555555b', 'a5xb', '1/4', '3+2=5', 'def ghi', 'abc ab']\n",
    "\n",
    "for item in data:\n",
    "    m = re.match(r'a.b', item)\n",
    "    if m:\n",
    "        print(m.group()+ ' matched in ' +'\\'' + item + '\\'')"
   ]
  },
  {
   "cell_type": "code",
   "execution_count": 29,
   "id": "025c2e6e-cd66-436c-90b4-3f55b8a660dc",
   "metadata": {},
   "outputs": [
    {
     "name": "stdout",
     "output_type": "stream",
     "text": [
      "abcmatched in 'abc'\n",
      "a6fmatched in 'a6f'\n",
      "a6cmatched in '123 a6c'\n",
      "a5bmatched in 'a5b'\n",
      "a6bmatched in 'a6b'\n",
      "abcmatched in 'abc ab'\n"
     ]
    }
   ],
   "source": [
    "data = ['ab', 'abc', 'a5e', 'a6f', '123 a6c', 'a5b', 'a55b', 'a555b', 'a5555b',\n",
    "        'a6b','a55555b', 'a555555b', 'a5xb', '1/4', '3+2=5', 'def ghi', 'abc ab']\n",
    "\n",
    "for item in data:\n",
    "    m = re.search(r'a.[bc6f]', item)\n",
    "    if m:\n",
    "        print(m.group() + 'matched in ' +'\\'' + item + '\\'' )\n"
   ]
  },
  {
   "cell_type": "code",
   "execution_count": 30,
   "id": "2f39633f-bc48-4694-b393-5a7221ceae15",
   "metadata": {},
   "outputs": [
    {
     "name": "stdout",
     "output_type": "stream",
     "text": [
      "abcmatched in 'abc'\n",
      "a5ematched in 'a5e'\n",
      "a6fmatched in 'a6f'\n",
      "a6cmatched in '123 a6c'\n",
      "a5bmatched in 'a5b'\n",
      "a6bmatched in 'a6b'\n",
      "a5xmatched in 'a5xb'\n",
      "abcmatched in 'abc ab'\n"
     ]
    }
   ],
   "source": [
    "#a to z\n",
    "data = ['ab', 'abc', 'a5e', 'a6f', '123 a6c', 'a5b', 'a55b', 'a555b', 'a5555b',\n",
    "        'a6b','a55555b', 'a555555b', 'a5xb', '1/4', '3+2=5', 'def ghi', 'abc ab']\n",
    "\n",
    "for item in data:\n",
    "    m = re.search(r'a.[a-z]', item)\n",
    "    if m:\n",
    "        print(m.group() + 'matched in ' +'\\'' + item + '\\'' )\n"
   ]
  },
  {
   "cell_type": "code",
   "execution_count": 32,
   "id": "5a27f49d-2aed-4efd-81f0-6b1f06b3db34",
   "metadata": {},
   "outputs": [
    {
     "name": "stdout",
     "output_type": "stream",
     "text": [
      "abmatched in 'ab'\n",
      "abmatched in 'abc'\n",
      "abmatched in 'abc ab'\n"
     ]
    }
   ],
   "source": [
    "#a,b,g-z\n",
    "data = ['ab', 'abc', 'a5e', 'a6f', '123 a6c', 'a5b', 'a55b', 'a555b', 'a5555b',\n",
    "        'a6b','a55555b', 'a555555b', 'a5xb', '1/4', '3+2=5', 'def ghi', 'abc ab']\n",
    "\n",
    "for item in data:\n",
    "    m = re.search(r'a[abg-z]', item)\n",
    "    if m:\n",
    "        print(m.group() + 'matched in ' +'\\'' + item + '\\'' )"
   ]
  },
  {
   "cell_type": "code",
   "execution_count": 34,
   "id": "af160cbf-6479-434a-a99c-5d0d235f618b",
   "metadata": {},
   "outputs": [
    {
     "name": "stdout",
     "output_type": "stream",
     "text": [
      "a5ematched in 'a5e'\n",
      "a6fmatched in 'a6f'\n",
      "a6cmatched in '123 a6c'\n",
      "a5bmatched in 'a5b'\n",
      "a6bmatched in 'a6b'\n",
      "a5xmatched in 'a5xb'\n"
     ]
    }
   ],
   "source": [
    "#0-9 and a-b\n",
    "data = ['ab', 'abc', 'a5e', 'a6f', '123 a6c', 'a5b', 'a55b', 'a555b', 'a5555b',\n",
    "        'a6b','a55555b', 'a555555b', 'a5xb', '1/4', '3+2=5', 'def ghi', 'abc ab']\n",
    "\n",
    "for item in data:\n",
    "    m = re.search(r'a[0-9][a-z]', item)\n",
    "    if m:\n",
    "        print(m.group() + 'matched in ' +'\\'' + item + '\\'' )\n"
   ]
  },
  {
   "cell_type": "code",
   "execution_count": 42,
   "id": "8a9aeda1-19da-4462-8c22-c4013e4725ed",
   "metadata": {},
   "outputs": [
    {
     "name": "stdout",
     "output_type": "stream",
     "text": [
      "a55 matched in 'a55b'\n",
      "a55 matched in 'a555b'\n",
      "a55 matched in 'a5555b'\n",
      "a55 matched in 'a55555b'\n",
      "a55 matched in 'a555555b'\n"
     ]
    }
   ],
   "source": [
    "#other than [^a-z]\n",
    "data = ['ab', 'abc', 'a5e', 'a6f', '123 a6c', 'a5b', 'a55b', 'a555b', 'a5555b',\n",
    "        'a6b','a55555b', 'a555555b', 'a5xb', '1/4', '3+2=5', '3+6=9', 'def ghi', 'abc ab']\n",
    "\n",
    "for item in data:\n",
    "    m = re.search(r'a[0-9][^a-z]', item)\n",
    "    if m:\n",
    "        print(m.group() + ' matched in ' + '\\'' + item + '\\''  )"
   ]
  },
  {
   "cell_type": "code",
   "execution_count": 44,
   "id": "cc583d2e-4601-47ef-9c40-781fb0de7cbf",
   "metadata": {},
   "outputs": [
    {
     "name": "stdout",
     "output_type": "stream",
     "text": [
      "3+2matched in '3+2=5'\n",
      "3+6matched in '3+6=9'\n"
     ]
    }
   ],
   "source": [
    "# need to match with 3+2\n",
    "\n",
    "for item in data:\n",
    "    m = re.search(r'[0-9]\\+[0-9]', item) # + is a spl character so we use \\\n",
    "    if m:\n",
    "        print(m.group() + 'matched in ' +'\\'' + item + '\\'' )"
   ]
  },
  {
   "cell_type": "code",
   "execution_count": 55,
   "id": "243305ff-c8b8-44fa-b5b5-30ec8fae07cb",
   "metadata": {},
   "outputs": [
    {
     "name": "stdout",
     "output_type": "stream",
     "text": [
      "a5bmatched in 'a5b'\n",
      "a6bmatched in 'a6b'\n",
      "3+matched in '3+2=5'\n",
      "3+matched in '3+6=9'\n"
     ]
    }
   ],
   "source": [
    "# Use pipe symblol | \n",
    "\n",
    "for item in data:\n",
    "    m = re.search(r'[0-9]\\+|a.b', item) # + is a spl character so we use \\\n",
    "    if m:\n",
    "        print(m.group() +  'matched in ' +'\\'' + item + '\\'' )\n"
   ]
  },
  {
   "cell_type": "code",
   "execution_count": 52,
   "id": "d49319c2-6be8-428e-b194-a3f02f965435",
   "metadata": {},
   "outputs": [],
   "source": [
    "# Metacharacter 2"
   ]
  },
  {
   "cell_type": "code",
   "execution_count": 59,
   "id": "748d0f5b-a689-4706-a98c-cb24266867b5",
   "metadata": {},
   "outputs": [
    {
     "name": "stdout",
     "output_type": "stream",
     "text": [
      "3+matched in '3+2=5'\n",
      "3+matched in '3+6=9'\n"
     ]
    }
   ],
   "source": [
    "for item in data:\n",
    "    m = re.search(r'\\d\\+', item) # + is a spl character so we use \\\n",
    "    if m:\n",
    "        print(m.group() +  'matched in ' +'\\'' + item + '\\'' )\n"
   ]
  },
  {
   "cell_type": "code",
   "execution_count": 62,
   "id": "679c12dc-5217-47cc-a26a-6bcd48bee7ab",
   "metadata": {},
   "outputs": [
    {
     "name": "stdout",
     "output_type": "stream",
     "text": [
      "3+amatched in '3+aa6b'\n",
      "3+2matched in '3+2=5'\n",
      "3+6matched in '3+6=9'\n"
     ]
    }
   ],
   "source": [
    "data = ['ab', 'abc', 'a5e', 'a6f', '123 a6c', 'a5b', 'a55b', 'a555b', 'a5555b','3+a'\n",
    "        'a6b','a55555b', 'a555555b', 'a5xb', '1/4', '3+2=5', '3+6=9', 'def ghi', 'abc ab']\n",
    "for item in data:\n",
    "    m = re.search(r'\\d\\+\\w', item) # + is a spl character so we use \\\n",
    "    if m:\n",
    "        print(m.group() +  'matched in ' +'\\'' + item + '\\'' )\n"
   ]
  },
  {
   "cell_type": "code",
   "execution_count": 65,
   "id": "dec0168d-95c2-456c-951c-7ef8538d105a",
   "metadata": {},
   "outputs": [
    {
     "name": "stdout",
     "output_type": "stream",
     "text": [
      "Match found\n"
     ]
    }
   ],
   "source": [
    "pattern = r\"^lo\"\n",
    "text = \"lo, world!\"\n",
    "\n",
    "match = re.match(pattern, text)\n",
    "if match:\n",
    "    print(\"Match found\")\n",
    "else:\n",
    "    print(\"No match found\")"
   ]
  },
  {
   "cell_type": "code",
   "execution_count": 67,
   "id": "e5b4d757-8737-49c5-9d31-3ffa5cfb2c09",
   "metadata": {},
   "outputs": [
    {
     "name": "stdout",
     "output_type": "stream",
     "text": [
      "a6matched in 'a6f'\n",
      "a6matched in '123 a6c'\n",
      "a6matched in '3+aa6b'\n"
     ]
    }
   ],
   "source": [
    "for item in data:\n",
    "    m = re.search(r'a6', item) # getting item contains a6\n",
    "    if m:\n",
    "        print(m.group() +  'matched in ' +'\\'' + item + '\\'' )"
   ]
  },
  {
   "cell_type": "code",
   "execution_count": 69,
   "id": "3bb781c2-3aad-4b52-bfbf-5de72f46c7da",
   "metadata": {},
   "outputs": [
    {
     "name": "stdout",
     "output_type": "stream",
     "text": [
      "a6matched in 'a6f'\n"
     ]
    }
   ],
   "source": [
    "for item in data:\n",
    "    m = re.search(r'^a6', item) #  getting item contains a6 in the begining\n",
    "    if m:\n",
    "        print(m.group() +  'matched in ' +'\\'' + item + '\\'' )"
   ]
  },
  {
   "cell_type": "code",
   "execution_count": 77,
   "id": "47eb55f9-f455-4b02-8044-a26079ba3ea9",
   "metadata": {},
   "outputs": [
    {
     "name": "stdout",
     "output_type": "stream",
     "text": [
      "cmatched in 'abc'\n",
      "cmatched in '123 a6c'\n",
      "cmatched in 'abc ab'\n"
     ]
    }
   ],
   "source": [
    "for item in data:\n",
    "    m = re.search(r'c', item) #  getting item contains c \n",
    "    if m:\n",
    "        print(m.group() +  'matched in ' +'\\'' + item + '\\'' )"
   ]
  },
  {
   "cell_type": "code",
   "execution_count": 78,
   "id": "07e88a02-0517-4e48-9c6d-9784966125b6",
   "metadata": {},
   "outputs": [
    {
     "name": "stdout",
     "output_type": "stream",
     "text": [
      "cmatched in 'abc'\n",
      "cmatched in '123 a6c'\n"
     ]
    }
   ],
   "source": [
    "for item in data:\n",
    "    m = re.search(r'c$', item) #  getting item contains c in the end\n",
    "    if m:\n",
    "        print(m.group() +  'matched in ' +'\\'' + item + '\\'' )"
   ]
  },
  {
   "cell_type": "code",
   "execution_count": 79,
   "id": "2334f1e1-2b66-42bb-9552-a83053e48b24",
   "metadata": {},
   "outputs": [
    {
     "name": "stdout",
     "output_type": "stream",
     "text": [
      "Match found\n"
     ]
    }
   ],
   "source": [
    "pattern = r\"\\Bcat\\B\"\n",
    "text = \"The scattered cat is on the mat.\"\n",
    "\n",
    "match = re.search(pattern, text)\n",
    "if match:\n",
    "    print(\"Match found\")\n",
    "else:\n",
    "    print(\"No match found\")"
   ]
  },
  {
   "cell_type": "code",
   "execution_count": 87,
   "id": "762a1ea2-f2f6-4b4a-bacf-ba94141196c3",
   "metadata": {},
   "outputs": [
    {
     "name": "stdout",
     "output_type": "stream",
     "text": [
      "abmatched in 'ab'\n",
      "abmatched in 'abc ab'\n"
     ]
    }
   ],
   "source": [
    "for item in data:\n",
    "    m = re.search(r'ab\\b', item) \n",
    "    if m:\n",
    "        print(m.group() +  'matched in ' +'\\'' + item + '\\'' )"
   ]
  },
  {
   "cell_type": "code",
   "execution_count": 88,
   "id": "083b016f-45f6-4379-9a02-b6899378df83",
   "metadata": {},
   "outputs": [
    {
     "name": "stdout",
     "output_type": "stream",
     "text": [
      "abmatched in 'abc'\n",
      "abmatched in 'abc ab'\n"
     ]
    }
   ],
   "source": [
    "for item in data:\n",
    "    m = re.search(r'ab\\B', item) \n",
    "    if m:\n",
    "        print(m.group() +  'matched in ' +'\\'' + item + '\\'' )"
   ]
  },
  {
   "cell_type": "code",
   "execution_count": 89,
   "id": "cf1c3099-c89d-4203-8695-7f9c4f67a9ac",
   "metadata": {},
   "outputs": [],
   "source": [
    "#Quantifies"
   ]
  },
  {
   "cell_type": "code",
   "execution_count": 97,
   "id": "acd38713-8dfa-4c4b-b24a-7581ba8bd879",
   "metadata": {},
   "outputs": [
    {
     "name": "stdout",
     "output_type": "stream",
     "text": [
      "abmatched in 'ab'\n",
      "abmatched in 'abc'\n",
      "a5bmatched in 'a5b'\n",
      "a55bmatched in 'a55b'\n",
      "a555bmatched in 'a555b'\n",
      "a5555bmatched in 'a5555b'\n",
      "a55555bmatched in 'a55555b'\n",
      "a555555bmatched in 'a555555b'\n",
      "abmatched in 'abc ab'\n"
     ]
    }
   ],
   "source": [
    "for item in data:\n",
    "    m = re.search(r'a5*b', item) #  5 occurs zero or more tiomes\n",
    "    if m:\n",
    "        print(m.group() +  'matched in ' +'\\'' + item + '\\'' )"
   ]
  },
  {
   "cell_type": "code",
   "execution_count": 98,
   "id": "6d1cf994-49c6-41cc-836a-b5d6c2d9fd1a",
   "metadata": {},
   "outputs": [
    {
     "name": "stdout",
     "output_type": "stream",
     "text": [
      "a5bmatched in 'a5b'\n",
      "a55bmatched in 'a55b'\n",
      "a555bmatched in 'a555b'\n",
      "a5555bmatched in 'a5555b'\n",
      "a55555bmatched in 'a55555b'\n",
      "a555555bmatched in 'a555555b'\n"
     ]
    }
   ],
   "source": [
    "for item in data:\n",
    "    m = re.search(r'a5+b', item) #  5 occurs one or more tiomes\n",
    "    if m:\n",
    "        print(m.group() +  'matched in ' +'\\'' + item + '\\'' )"
   ]
  },
  {
   "cell_type": "code",
   "execution_count": 107,
   "id": "ee534ba1-da4a-4cc8-9f4a-726805c714e4",
   "metadata": {},
   "outputs": [
    {
     "name": "stdout",
     "output_type": "stream",
     "text": [
      "ab matched in 'ab'\n",
      "ab matched in 'abc'\n",
      "a5b matched in 'a5b'\n",
      "ab matched in 'abc ab'\n"
     ]
    }
   ],
   "source": [
    "for item in data:\n",
    "    m = re.search(r'a5?b', item) \n",
    "    if m:\n",
    "        print(m.group() +  ' matched in ' +'\\'' + item + '\\'' )"
   ]
  },
  {
   "cell_type": "markdown",
   "id": "b32cabd5-d39c-4cae-a914-23f0aaad750d",
   "metadata": {},
   "source": [
    "##### "
   ]
  },
  {
   "cell_type": "code",
   "execution_count": 109,
   "id": "063391a3-8286-4c07-9a48-f2c4e26d3a47",
   "metadata": {},
   "outputs": [
    {
     "name": "stdout",
     "output_type": "stream",
     "text": [
      "a55b matched in 'a55b'\n",
      "a555b matched in 'a555b'\n",
      "a5555b matched in 'a5555b'\n"
     ]
    }
   ],
   "source": [
    "for item in data:\n",
    "    m = re.search(r'a5{2,4}b', item) \n",
    "    if m:\n",
    "        print(m.group() +  ' matched in ' +'\\'' + item + '\\'' )"
   ]
  },
  {
   "cell_type": "code",
   "execution_count": 110,
   "id": "eab6e2bb-c076-42d9-acbc-88a1919e3a55",
   "metadata": {},
   "outputs": [
    {
     "name": "stdout",
     "output_type": "stream",
     "text": [
      "a55b matched in 'a55b'\n"
     ]
    }
   ],
   "source": [
    "for item in data:\n",
    "    m = re.search(r'a5{2}b', item) \n",
    "    if m:\n",
    "        print(m.group() +  ' matched in ' +'\\'' + item + '\\'' )"
   ]
  },
  {
   "cell_type": "code",
   "execution_count": null,
   "id": "99d245fd-a76f-4bf7-844a-51ebd697df33",
   "metadata": {},
   "outputs": [],
   "source": []
  }
 ],
 "metadata": {
  "kernelspec": {
   "display_name": "Python 3 (ipykernel)",
   "language": "python",
   "name": "python3"
  },
  "language_info": {
   "codemirror_mode": {
    "name": "ipython",
    "version": 3
   },
   "file_extension": ".py",
   "mimetype": "text/x-python",
   "name": "python",
   "nbconvert_exporter": "python",
   "pygments_lexer": "ipython3",
   "version": "3.12.4"
  }
 },
 "nbformat": 4,
 "nbformat_minor": 5
}
