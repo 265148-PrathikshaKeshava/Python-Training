{
 "cells": [
  {
   "cell_type": "markdown",
   "id": "3561a88c-e1ba-494b-b05d-61d26f6672e0",
   "metadata": {},
   "source": [
    "Extract Floating Point Numbers\n",
    "Text: \"This statement contains +1.234 floating -67.87 point 1.234 number\"\n",
    "Task: Write a regex to extract the floating-point number from the text including sign\n",
    "\n",
    "Find Email Addresses\n",
    "Text: \"Contact us at support@example.com for more details\"\n",
    "Task: Write a regex to extract the email address from the text.\n",
    "\n",
    "Extract Dates\n",
    "Text: \"Today's date is 2025-03-27\"\n",
    "Task: Write a regex to extract the date in YYYY-MM-DD format.\n",
    "\n",
    "Find Words with Double Letters\n",
    "Text: \"I saw a little kitten running across the street\"\n",
    "Task: Write a regex to extract words containing consecutive duplicate letters (e.g., little, kitten).\n",
    "\n",
    "Extract Phone Numbers\n",
    "Text: \"My phone numbers are (123) 456-7890 and 987-654-3210\"\n",
    "Task: Write a regex to extract both phone numbers.\n"
   ]
  },
  {
   "cell_type": "code",
   "execution_count": 17,
   "id": "49d7c4f8-abef-4690-a537-0117059b7379",
   "metadata": {},
   "outputs": [
    {
     "data": {
      "text/plain": [
       "['+1.234', '-67.87', '1.234']"
      ]
     },
     "execution_count": 17,
     "metadata": {},
     "output_type": "execute_result"
    }
   ],
   "source": [
    "import re\n",
    "text = \"This statement contains +1.234 floating -67.87 point 1.234 number\" \n",
    "\n",
    "Text = \"This statement contains +1.234 floating -67.87 point 1.234 number\"\n",
    "p = r\"[+-]?\\d+\\.\\d+\"\n",
    "re.findall(p,Text)"
   ]
  },
  {
   "cell_type": "code",
   "execution_count": 14,
   "id": "34886748-a481-4efb-b4e7-8a046889341c",
   "metadata": {},
   "outputs": [
    {
     "name": "stdout",
     "output_type": "stream",
     "text": [
      "support@example.com\n"
     ]
    }
   ],
   "source": [
    "email =  \"Contact us at support@example.com for more details\"\n",
    "\n",
    "m = re.search(r'[A-Za-z0-9._%+-]+@[A-Za-z0-9.-]+\\.[A-Za-z]{2,}', email)\n",
    "print(m.group())"
   ]
  },
  {
   "cell_type": "code",
   "execution_count": 15,
   "id": "d200bcbd-7126-4b62-baf2-fd5dcf02657c",
   "metadata": {},
   "outputs": [
    {
     "name": "stdout",
     "output_type": "stream",
     "text": [
      "2025-03-27\n"
     ]
    }
   ],
   "source": [
    "\n",
    "today_day =  \"Today's date is 2025-03-27\"\n",
    "\n",
    "m = re.search(r'\\d{4}-\\d{2}-\\d{2}', email)\n",
    "print(m.group())"
   ]
  },
  {
   "cell_type": "code",
   "execution_count": 29,
   "id": "f3a492c8-158f-4e78-839c-1b1fe60db936",
   "metadata": {
    "scrolled": true
   },
   "outputs": [
    {
     "name": "stdout",
     "output_type": "stream",
     "text": [
      "['little', 'kitten', 'running', 'across', 'street']\n"
     ]
    }
   ],
   "source": [
    "\n",
    "# text = \"I saw a little kitten running across the street\"\n",
    "# #result = re.findall(r\"\\b\\w*(\\w)\\1\\w*\\b\", text)\n",
    "# words_with_double_letters = [word for word in text.split() if re.search(r\"\\b\\w*(\\w)\\1\\w*\\b\", word)]\n",
    "# print(words_with_double_letters)\n",
    " \n",
    "# '''\n",
    "# m = re.findall(r'\\b\\w*(\\w)\\1\\w*\\b', text)\n",
    "# print(m)'''\n",
    "\n",
    "text = \"I saw a little kitten running across the street\"\n",
    "result = re.findall(r\"\\b\\w*(\\w)\\1\\w*\\b\", text)\n",
    "words_with_double_letters = [word for word in text.split() if re.search(r\"\\b\\w*(\\w)\\1\\w*\\b\", word)]\n",
    "print(words_with_double_letters)\n",
    " \n"
   ]
  },
  {
   "cell_type": "code",
   "execution_count": 21,
   "id": "17bf3f1a-f7d6-4e56-8370-e1118decbf0e",
   "metadata": {},
   "outputs": [
    {
     "name": "stdout",
     "output_type": "stream",
     "text": [
      "['(123) 456-7890', '987-654-3210']\n"
     ]
    }
   ],
   "source": [
    "\n",
    "\n",
    "text =  \"My phone numbers are (123) 456-7890 and 987-654-3210\"\n",
    "\n",
    "m = re.findall(r'(?:\\(\\d{3}\\)\\s?|\\d{3}-)\\d{3}-\\d{4}', text)\n",
    "print(m)\n"
   ]
  },
  {
   "cell_type": "markdown",
   "id": "560c437a-369d-475f-ae91-0335d969824f",
   "metadata": {},
   "source": [
    "Find Hashtags in a Tweet\n",
    "Text: \"Loving the #Python and #AI vibes today!\"\n",
    "Task: Write a regex to extract all hashtags from the text.\n",
    "\n",
    "Extract Digits from a String\n",
    "Text: \"Order number: 98765, Confirmation code: 54321\"\n",
    "Task: Write a regex to extract all numerical values.\n",
    "\n",
    "Find Words Starting with a Capital Letter\n",
    "Text: \"Alice and Bob went to New York for a Conference\"\n",
    "Task: Write a regex to extract words that start with a capital letter.\n",
    "\n",
    "Extract Domain from URLs\n",
    "Text: \"Visit https://www.example.com or http://test.org for info\"\n",
    "Task: Write a regex to extract domain names from the URLs.\n",
    "\n",
    "Find Repeated Words\n",
    "Text: \"This is is a test test to find repeated repeated words\"\n",
    "Task: Write a regex to find repeated words appearing consecutively."
   ]
  },
  {
   "cell_type": "code",
   "execution_count": 34,
   "id": "767e2a4d-b7cd-4e9f-b21c-4410f414e42c",
   "metadata": {},
   "outputs": [
    {
     "name": "stdout",
     "output_type": "stream",
     "text": [
      "['#Python', '#AI']\n"
     ]
    }
   ],
   "source": [
    "#\\w+\n",
    "import re\n",
    "\n",
    "text = \"Loving the #Python and #AI vibes today!\"\n",
    "\n",
    "hashtags = re.findall(r'#\\w+', text)\n",
    "\n",
    "print(hashtags)"
   ]
  },
  {
   "cell_type": "code",
   "execution_count": 35,
   "id": "f6534a5b-fa0e-4e63-84b5-eb2ca6901fdb",
   "metadata": {},
   "outputs": [
    {
     "name": "stdout",
     "output_type": "stream",
     "text": [
      "['98765', '54321']\n"
     ]
    }
   ],
   "source": [
    "text = \"Order number: 98765, Confirmation code: 54321\"\n",
    "\n",
    "numbers = re.findall(r'\\d+', text)\n",
    "\n",
    "print(numbers)"
   ]
  },
  {
   "cell_type": "code",
   "execution_count": 36,
   "id": "d4b471d3-3025-42d5-afac-a708e3fa35b7",
   "metadata": {},
   "outputs": [
    {
     "name": "stdout",
     "output_type": "stream",
     "text": [
      "['Alice', 'Bob', 'New', 'York', 'Conference']\n"
     ]
    }
   ],
   "source": [
    "text = \"Alice and Bob went to New York for a Conference\"\n",
    "\n",
    "\n",
    "capitalized_words = re.findall(r'\\b[A-Z][a-zA-Z]*\\b', text)\n",
    "\n",
    "print(capitalized_words)"
   ]
  },
  {
   "cell_type": "code",
   "execution_count": 37,
   "id": "3c611d22-0ea8-498f-ab66-24bf0542fcb7",
   "metadata": {},
   "outputs": [
    {
     "name": "stdout",
     "output_type": "stream",
     "text": [
      "['example.com', 'test.org']\n"
     ]
    }
   ],
   "source": [
    "\n",
    "\n",
    "text = \"Visit https://www.example.com or http://test.org for info\"\n",
    "\n",
    "domains = re.findall(r'(?:https?://)?(?:www\\.)?([a-zA-Z0-9-]+\\.[a-zA-Z]{2,})', text)\n",
    "\n",
    "print(domains)\n"
   ]
  },
  {
   "cell_type": "code",
   "execution_count": 38,
   "id": "26e52e16-ef96-4eaf-8f9c-73100c334338",
   "metadata": {},
   "outputs": [
    {
     "name": "stdout",
     "output_type": "stream",
     "text": [
      "['is', 'test', 'repeated']\n"
     ]
    }
   ],
   "source": [
    "\n",
    "text = \"This is is a test test to find repeated repeated words\"\n",
    "\n",
    "repeated_words = re.findall(r'\\b(\\w+)\\s+\\1\\b', text)\n",
    "\n",
    "print(repeated_words)\n"
   ]
  },
  {
   "cell_type": "markdown",
   "id": "1f7fa3a1-286d-45ff-a8b3-2e5045812887",
   "metadata": {},
   "source": [
    "Section C"
   ]
  },
  {
   "cell_type": "code",
   "execution_count": 40,
   "id": "909aec17-05f5-466a-bb55-ae87c72c6605",
   "metadata": {},
   "outputs": [
    {
     "name": "stdout",
     "output_type": "stream",
     "text": [
      "['$59.99', '€10.50']\n"
     ]
    }
   ],
   "source": [
    "\n",
    "text = \"The product costs $59.99 and the discount is €10.50\"\n",
    "currency_values = re.findall(r'[€$]?\\d+(?:\\.\\d{1,2})?', text)\n",
    "print(currency_values)"
   ]
  },
  {
   "cell_type": "code",
   "execution_count": 41,
   "id": "1a03a046-31be-4000-b555-02a18567b6a8",
   "metadata": {},
   "outputs": [
    {
     "name": "stdout",
     "output_type": "stream",
     "text": [
      "['div', 'p']\n"
     ]
    }
   ],
   "source": [
    "text = \"<div>Welcome</div> <p>This is a paragraph.</p>\"\n",
    "html_tags = re.findall(r'<([a-zA-Z]+)>', text)\n",
    "print(html_tags)"
   ]
  },
  {
   "cell_type": "code",
   "execution_count": 42,
   "id": "33c4d1b7-6250-435b-87c3-e26af5e711cc",
   "metadata": {},
   "outputs": [
    {
     "name": "stdout",
     "output_type": "stream",
     "text": [
      "[('192', '168', '1', '1')]\n"
     ]
    }
   ],
   "source": [
    "text = \"Valid IP: 192.168.1.1, Invalid IP: 999.999.999.999\"\n",
    "ips = re.findall(r'(25[0-5]|2[0-4][0-9]|[01]?[0-9][0-9]?)\\.(25[0-5]|2[0-4][0-9]|[01]?[0-9][0-9]?)\\.(25[0-5]|2[0-4][0-9]|[01]?[0-9][0-9]?)\\.(25[0-5]|2[0-4][0-9]|[01]?[0-9][0-9]?)', text)\n",
    "print(ips)"
   ]
  },
  {
   "cell_type": "code",
   "execution_count": 43,
   "id": "4b9ef680-ffcf-4a48-a900-48969ee18141",
   "metadata": {},
   "outputs": [
    {
     "name": "stdout",
     "output_type": "stream",
     "text": [
      "['Running', 'swimming', 'playing']\n"
     ]
    }
   ],
   "source": [
    "text = \"Running, swimming, and playing are fun activities\"\n",
    "words_ending_with_ing = re.findall(r'\\b\\w+ing\\b', text)\n",
    "print(words_ending_with_ing)"
   ]
  },
  {
   "cell_type": "code",
   "execution_count": 44,
   "id": "c8fa6a73-a1f5-4242-b18a-7ac2fe990eb4",
   "metadata": {},
   "outputs": [
    {
     "name": "stdout",
     "output_type": "stream",
     "text": [
      "['Do you know the answer?', \" Let's find out. Are you sure?\"]\n"
     ]
    }
   ],
   "source": [
    "text = \"Do you know the answer? Let's find out. Are you sure?\"\n",
    "sentences_with_question_mark = re.findall(r'[^?]*\\?', text)\n",
    "print(sentences_with_question_mark)"
   ]
  },
  {
   "cell_type": "markdown",
   "id": "96c91c14-9483-4830-b615-1ae6a4d044db",
   "metadata": {},
   "source": [
    "Section D"
   ]
  },
  {
   "cell_type": "code",
   "execution_count": 45,
   "id": "673fac6c-18bb-4fe8-a59a-94e6ed80bf71",
   "metadata": {},
   "outputs": [
    {
     "name": "stdout",
     "output_type": "stream",
     "text": [
      "['FF5733', '00FF00']\n"
     ]
    }
   ],
   "source": [
    "import re\n",
    "\n",
    "text = \"Background color is #FF5733 and text color is #00FF00\"\n",
    "hex_codes = re.findall(r'#([A-Fa-f0-9]{6}|[A-Fa-f0-9]{3})', text)\n",
    "print(hex_codes)\n"
   ]
  },
  {
   "cell_type": "code",
   "execution_count": 46,
   "id": "c21df268-4f0a-487d-bcae-4c12c7f927fd",
   "metadata": {},
   "outputs": [
    {
     "name": "stdout",
     "output_type": "stream",
     "text": [
      "['ChatGPT', 'OpenAI']\n"
     ]
    }
   ],
   "source": [
    "text = \"Follow us @ChatGPT and @OpenAI\"\n",
    "usernames = re.findall(r'@([A-Za-z0-9_]+)', text)\n",
    "print(usernames)"
   ]
  },
  {
   "cell_type": "code",
   "execution_count": 53,
   "id": "e98e8b8f-28d5-4f7f-8eb4-0fa3b6ba8191",
   "metadata": {},
   "outputs": [
    {
     "name": "stdout",
     "output_type": "stream",
     "text": [
      "Password is not strong\n"
     ]
    }
   ],
   "source": [
    "text = \"My password is Str0ngP@ss!\"\n",
    "password_regex = r'[^\\\\/]+(?=\\.[^\\\\/]+$)'\n",
    "\n",
    "\n",
    "if re.match(password_regex, text):\n",
    "    print(\"Password is strong\")\n",
    "else:\n",
    "    print(\"Password is not strong\")"
   ]
  },
  {
   "cell_type": "code",
   "execution_count": 55,
   "id": "a1fa918b-f1bc-423e-8d4b-1ed72947fb30",
   "metadata": {},
   "outputs": [
    {
     "name": "stdout",
     "output_type": "stream",
     "text": [
      "['file']\n"
     ]
    }
   ],
   "source": [
    "text = \"/home/user/documents/report.pdf and C:\\\\Users\\\\Admin\\\\file.txt\"\n",
    "pattern = r\"[^\\\\/]+(?=\\.[^\\\\/]+$)\"\n",
    "\n",
    "file_names = re.findall(pattern, text)\n",
    "print(file_names)"
   ]
  },
  {
   "cell_type": "code",
   "execution_count": 49,
   "id": "ba4a7fe5-3a84-4bf2-b3b5-a39e7d4f615c",
   "metadata": {},
   "outputs": [
    {
     "name": "stdout",
     "output_type": "stream",
     "text": [
      "['Beautiful']\n"
     ]
    }
   ],
   "source": [
    "text = \"Beautiful ocean scenery is amazing\"\n",
    "vowel_words = re.findall(r'\\w*[aeiouAEIOU]{3}\\w*', text)\n",
    "print(vowel_words)"
   ]
  },
  {
   "cell_type": "code",
   "execution_count": null,
   "id": "7d813cd6-f9e5-49a2-8ddc-dc1e82be274b",
   "metadata": {},
   "outputs": [],
   "source": []
  }
 ],
 "metadata": {
  "kernelspec": {
   "display_name": "Python 3 (ipykernel)",
   "language": "python",
   "name": "python3"
  },
  "language_info": {
   "codemirror_mode": {
    "name": "ipython",
    "version": 3
   },
   "file_extension": ".py",
   "mimetype": "text/x-python",
   "name": "python",
   "nbconvert_exporter": "python",
   "pygments_lexer": "ipython3",
   "version": "3.12.4"
  }
 },
 "nbformat": 4,
 "nbformat_minor": 5
}
