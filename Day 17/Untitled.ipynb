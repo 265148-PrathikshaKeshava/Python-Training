{
 "cells": [
  {
   "cell_type": "code",
   "execution_count": 1,
   "id": "37195c1a-1b54-4ac9-9c8b-9e05d46adba5",
   "metadata": {},
   "outputs": [
    {
     "name": "stdin",
     "output_type": "stream",
     "text": [
      "Enter a description:  \n"
     ]
    }
   ],
   "source": [
    "desc = input(\"Enter a description: \")\n",
    "if desc.strip():\n",
    "    print(desc)\n",
    "    task = manager.add_task(desc.strip())\n",
    "    store.save(manager.to_dict_list())\n",
    "    print(f\"Task added with ID: {task.id}\")"
   ]
  },
  {
   "cell_type": "code",
   "execution_count": 2,
   "id": "88d29476-5625-4db3-b9d2-c0016ceb684b",
   "metadata": {},
   "outputs": [],
   "source": [
    "import pickle\n",
    "import json\n",
    "import os\n",
    "\n",
    "def convert_pickle_to_json(pickle_file_path, json_file_path):\n",
    "    if not os.path.exists(pickle_file_path):\n",
    "        print(\"Pickle file not found.\")\n",
    "        return\n",
    "\n",
    "    with open(pickle_file_path, \"rb\") as f:\n",
    "        data = pickle.load(f)  # Load the list of dicts from pickle\n",
    "\n",
    "    # Convert to JSON format and save to file\n",
    "    with open(json_file_path, \"w\") as json_file:\n",
    "        json.dump(data, json_file, indent=4)\n",
    "    \n",
    "    print(f\"Pickle data converted and saved to {json_file_path}\")\n"
   ]
  },
  {
   "cell_type": "code",
   "execution_count": 3,
   "id": "80c6b64e-e94d-4f69-b159-747ce1b92c9c",
   "metadata": {},
   "outputs": [
    {
     "name": "stdout",
     "output_type": "stream",
     "text": [
      "Pickle file not found.\n"
     ]
    }
   ],
   "source": [
    "convert_pickle_to_json(\"employees.pkl\", \"employees_converted.json\")\n"
   ]
  },
  {
   "cell_type": "code",
   "execution_count": null,
   "id": "3dfaadb4-288a-4873-8c5f-9549d0bbbd2e",
   "metadata": {},
   "outputs": [],
   "source": []
  }
 ],
 "metadata": {
  "kernelspec": {
   "display_name": "Python 3 (ipykernel)",
   "language": "python",
   "name": "python3"
  },
  "language_info": {
   "codemirror_mode": {
    "name": "ipython",
    "version": 3
   },
   "file_extension": ".py",
   "mimetype": "text/x-python",
   "name": "python",
   "nbconvert_exporter": "python",
   "pygments_lexer": "ipython3",
   "version": "3.12.4"
  }
 },
 "nbformat": 4,
 "nbformat_minor": 5
}
