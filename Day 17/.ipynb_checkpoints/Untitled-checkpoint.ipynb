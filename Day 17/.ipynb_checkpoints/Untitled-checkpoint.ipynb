{
 "cells": [
  {
   "cell_type": "code",
   "execution_count": 1,
   "id": "37195c1a-1b54-4ac9-9c8b-9e05d46adba5",
   "metadata": {},
   "outputs": [
    {
     "name": "stdin",
     "output_type": "stream",
     "text": [
      "Enter a description:  \n"
     ]
    }
   ],
   "source": [
    "desc = input(\"Enter a description: \")\n",
    "if desc.strip():\n",
    "    print(desc)\n",
    "    task = manager.add_task(desc.strip())\n",
    "    store.save(manager.to_dict_list())\n",
    "    print(f\"Task added with ID: {task.id}\")"
   ]
  },
  {
   "cell_type": "code",
   "execution_count": null,
   "id": "88d29476-5625-4db3-b9d2-c0016ceb684b",
   "metadata": {},
   "outputs": [],
   "source": []
  }
 ],
 "metadata": {
  "kernelspec": {
   "display_name": "Python 3 (ipykernel)",
   "language": "python",
   "name": "python3"
  },
  "language_info": {
   "codemirror_mode": {
    "name": "ipython",
    "version": 3
   },
   "file_extension": ".py",
   "mimetype": "text/x-python",
   "name": "python",
   "nbconvert_exporter": "python",
   "pygments_lexer": "ipython3",
   "version": "3.12.4"
  }
 },
 "nbformat": 4,
 "nbformat_minor": 5
}
