{
 "cells": [
  {
   "cell_type": "code",
   "execution_count": 2,
   "id": "c433972a-eb42-4a9d-9510-95b453923711",
   "metadata": {},
   "outputs": [],
   "source": [
    "def checkprime(m):\n",
    "    for i in range(2,m):\n",
    "        if m % i == 0:\n",
    "            return False\n",
    "    return True"
   ]
  },
  {
   "cell_type": "code",
   "execution_count": 3,
   "id": "4901852e-2fbc-4528-ba0c-2a7315d7d1ed",
   "metadata": {},
   "outputs": [],
   "source": [
    "def check_highest(p, q):\n",
    "    for n in range(q, p-1, -1):\n",
    "        if checkprime(n):\n",
    "            return n\n",
    "    return -1"
   ]
  },
  {
   "cell_type": "code",
   "execution_count": 4,
   "id": "ec354495-8583-465c-bc04-f148ebdd33d8",
   "metadata": {},
   "outputs": [],
   "source": [
    "\n",
    "\n",
    "def getFunc(ch):\n",
    "\n",
    "    def funcadd(a, b):\n",
    "        return a+b\n",
    "\n",
    "    def funcsub(a, b):\n",
    "        return a-b\n",
    "\n",
    "    return funcadd if ch == 1 else funcsub"
   ]
  },
  {
   "cell_type": "code",
   "execution_count": 9,
   "id": "d303670c-ce09-43cd-bee9-6919d9fda3b7",
   "metadata": {},
   "outputs": [],
   "source": [
    "f = getFunc(1)"
   ]
  },
  {
   "cell_type": "code",
   "execution_count": 10,
   "id": "6ac70f43-d41b-48cc-adb5-dc4b23aad8e9",
   "metadata": {},
   "outputs": [
    {
     "data": {
      "text/plain": [
       "30"
      ]
     },
     "execution_count": 10,
     "metadata": {},
     "output_type": "execute_result"
    }
   ],
   "source": [
    "f(10,20)"
   ]
  },
  {
   "cell_type": "code",
   "execution_count": 11,
   "id": "16d865a3-81eb-4eae-ae5c-1b882a5a0669",
   "metadata": {},
   "outputs": [
    {
     "name": "stdout",
     "output_type": "stream",
     "text": [
      "Good Morning\n",
      "HI\n",
      "Hello\n"
     ]
    }
   ],
   "source": [
    "def rec(li):\n",
    "    if li == []:\n",
    "        return\n",
    "    else:\n",
    "        print(li.pop())\n",
    "        rec(li)\n",
    "\n",
    "li = [\"Hello\", \"HI\", \"Good Morning\"]\n",
    "\n",
    "rec(li)\n",
    "        "
   ]
  },
  {
   "cell_type": "code",
   "execution_count": 12,
   "id": "a27fbda8-e7c5-49e9-ac17-a91cc813c34f",
   "metadata": {},
   "outputs": [
    {
     "data": {
      "text/plain": [
       "[]"
      ]
     },
     "execution_count": 12,
     "metadata": {},
     "output_type": "execute_result"
    }
   ],
   "source": [
    "li"
   ]
  },
  {
   "cell_type": "code",
   "execution_count": 14,
   "id": "3987d893-e756-4006-ad25-f1b6535e264c",
   "metadata": {},
   "outputs": [],
   "source": [
    "def rev(s):\n",
    "    if len(s) == 0:\n",
    "        return s\n",
    "    print(f\"{s[-1]} , {s[:-1]}\")\n",
    "    return s[-1] + rev(s[:-1])"
   ]
  },
  {
   "cell_type": "code",
   "execution_count": 17,
   "id": "b4530bac-4e83-4a0b-a48e-38f0a806ba9e",
   "metadata": {},
   "outputs": [
    {
     "name": "stdout",
     "output_type": "stream",
     "text": [
      "s , giggle\n",
      "e , giggl\n",
      "l , gigg\n",
      "g , gig\n",
      "g , gi\n",
      "i , g\n",
      "g , \n"
     ]
    },
    {
     "data": {
      "text/plain": [
       "'selggig'"
      ]
     },
     "execution_count": 17,
     "metadata": {},
     "output_type": "execute_result"
    }
   ],
   "source": [
    "rev(\"giggles\")"
   ]
  },
  {
   "cell_type": "code",
   "execution_count": 18,
   "id": "2e8daa6a-670c-4b68-b77f-15cc49835893",
   "metadata": {},
   "outputs": [],
   "source": [
    "def recJoin(L):\n",
    "    if len(L) == 1:\n",
    "        return L[0]\n",
    "    else:\n",
    "        return str(L[0]) + \" \" + recJoin(L[1:]) "
   ]
  },
  {
   "cell_type": "code",
   "execution_count": 19,
   "id": "fba6a9a4-c9f8-41cd-95be-0e11efc2dbac",
   "metadata": {},
   "outputs": [
    {
     "data": {
      "text/plain": [
       "'Hello HI Good Morning'"
      ]
     },
     "execution_count": 19,
     "metadata": {},
     "output_type": "execute_result"
    }
   ],
   "source": [
    "li = [\"Hello\", \"HI\", \"Good Morning\"]\n",
    "recJoin(li)"
   ]
  },
  {
   "cell_type": "code",
   "execution_count": 24,
   "id": "b82430fb-0fd7-4310-89fa-666d46acd3e3",
   "metadata": {},
   "outputs": [
    {
     "data": {
      "text/plain": [
       "[1, 2, 3, 1, 2, 3, 4, 5, 6, 7, 8]"
      ]
     },
     "execution_count": 24,
     "metadata": {},
     "output_type": "execute_result"
    }
   ],
   "source": [
    "\n",
    "list1 = [1, 2, 3,[1,2,3], [4, 5, [6, 7]], 8] \n",
    "m = []\n",
    "def impl(list1):\n",
    "    for n in list1:\n",
    "        if isinstance(n, list):\n",
    "           impl(n)\n",
    "        else:\n",
    "            m.append(n)\n",
    "    return m\n",
    "    \n",
    "impl(list1)"
   ]
  },
  {
   "cell_type": "code",
   "execution_count": 25,
   "id": "6f5a8952-2bd8-4246-b5df-75e4d789fc3b",
   "metadata": {},
   "outputs": [
    {
     "data": {
      "text/plain": [
       "[1,\n",
       " 2,\n",
       " 3,\n",
       " 1,\n",
       " 2,\n",
       " 3,\n",
       " 1,\n",
       " 2,\n",
       " 3,\n",
       " 4,\n",
       " 5,\n",
       " 6,\n",
       " 7,\n",
       " 8,\n",
       " 1,\n",
       " 2,\n",
       " 3,\n",
       " 1,\n",
       " 2,\n",
       " 3,\n",
       " 1,\n",
       " 2,\n",
       " 3,\n",
       " 4,\n",
       " 5,\n",
       " 6,\n",
       " 7,\n",
       " 8,\n",
       " 1,\n",
       " 2,\n",
       " 3,\n",
       " 4,\n",
       " 5,\n",
       " 6,\n",
       " 7,\n",
       " 8]"
      ]
     },
     "execution_count": 25,
     "metadata": {},
     "output_type": "execute_result"
    }
   ],
   "source": [
    "def impl1(list1):\n",
    "    m = []\n",
    "    for n in list1:\n",
    "        if isinstance(n, list):\n",
    "           m.extend(impl(n))\n",
    "        else:\n",
    "            m.append(n)\n",
    "    return m\n",
    "    \n",
    "impl1(list1)"
   ]
  },
  {
   "cell_type": "code",
   "execution_count": null,
   "id": "f74f713a-20a7-4131-8ab9-1b3464a95220",
   "metadata": {},
   "outputs": [],
   "source": []
  }
 ],
 "metadata": {
  "kernelspec": {
   "display_name": "Python 3 (ipykernel)",
   "language": "python",
   "name": "python3"
  },
  "language_info": {
   "codemirror_mode": {
    "name": "ipython",
    "version": 3
   },
   "file_extension": ".py",
   "mimetype": "text/x-python",
   "name": "python",
   "nbconvert_exporter": "python",
   "pygments_lexer": "ipython3",
   "version": "3.12.4"
  }
 },
 "nbformat": 4,
 "nbformat_minor": 5
}
