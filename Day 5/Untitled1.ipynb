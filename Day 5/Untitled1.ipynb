{
 "cells": [
  {
   "cell_type": "markdown",
   "id": "f1517f03-b785-4425-ac09-44d6cad0cbc8",
   "metadata": {},
   "source": [
    "Session 1: [40]\n",
    "---------------------------------------------------------------------------------------------------\n",
    "\n",
    "1. Write a function to return the time required to double the invested amount and given rate of \n",
    "   interest\n",
    "2. Write a function to find the second largest number in the list\n",
    "   Example: Input <- [34, 56, 67, 43]\n",
    "            Outupt -> 56\n",
    "3. Write a function to print charecter pyramid\n",
    "   Example: genPyramic(3, '*')\n",
    "                 *\n",
    "                ***\n",
    "               *****"
   ]
  },
  {
   "cell_type": "code",
   "execution_count": 2,
   "id": "60a0ccd6-1516-43fb-a42e-29c5814dd4ed",
   "metadata": {},
   "outputs": [
    {
     "name": "stdout",
     "output_type": "stream",
     "text": [
      "Time required to double the investment at 8% interest is 9.0 years.\n"
     ]
    }
   ],
   "source": [
    "'''def timeRequ(amt):\n",
    "    si = prt/100\n",
    "\n",
    "    si = amt * 2\n",
    "    r = 8.5'''\n",
    "    \n",
    "\n",
    "def time_to_double(rate):\n",
    "    time = 72 / rate\n",
    "    return time\n",
    "\n",
    "rate_of_interest = 8\n",
    "time_required = time_to_double(rate_of_interest)\n",
    "print(f\"Time required to double the investment at {rate_of_interest}% interest is {time_required} years.\")\n",
    "\n"
   ]
  },
  {
   "cell_type": "markdown",
   "id": "b479e5c1-db8d-463c-aa24-266d2a55432c",
   "metadata": {},
   "source": [
    "2. Write a function to find the second largest number in the list\n",
    "   Example: Input <- [34, 56, 67, 43]"
   ]
  },
  {
   "cell_type": "code",
   "execution_count": 5,
   "id": "d0108661-b1c5-44dd-9917-a30ad32786c5",
   "metadata": {},
   "outputs": [
    {
     "data": {
      "text/plain": [
       "56"
      ]
     },
     "execution_count": 5,
     "metadata": {},
     "output_type": "execute_result"
    }
   ],
   "source": [
    "def secondLargest(lis):\n",
    "    lis.sort(reverse = True)\n",
    "    return lis[1]\n",
    "    \n",
    "lis = [34, 56, 67, 43]\n",
    "secondLargest(lis)"
   ]
  },
  {
   "cell_type": "markdown",
   "id": "1d7218b3-1756-4923-9402-72e3fb92c3ac",
   "metadata": {},
   "source": [
    "Write a function to print charecter pyramid\n",
    "   Example: genPyramic(3, '*')\n",
    "                 *\n",
    "                ***\n",
    "               *****"
   ]
  },
  {
   "cell_type": "code",
   "execution_count": 54,
   "id": "f7ed5345-8719-4171-b811-3e9a34c1cead",
   "metadata": {},
   "outputs": [
    {
     "name": "stdout",
     "output_type": "stream",
     "text": [
      "    * \n",
      "  * * * \n",
      "* * * * * \n"
     ]
    }
   ],
   "source": [
    "def print_pyramid(n):\n",
    "    # Loop for each row\n",
    "    for i in range(n):\n",
    "        \n",
    "        for j in range(n - i - 1):\n",
    "            print(\" \", end=\" \")  # Print spaces\n",
    "        \n",
    "        \n",
    "        for j in range(2 * i + 1):\n",
    "            print(\"*\",end = \" \")  # Print stars\n",
    "        \n",
    "        \n",
    "        print()\n",
    "\n",
    "\n",
    "print_pyramid(3)\n"
   ]
  },
  {
   "cell_type": "code",
   "execution_count": 70,
   "id": "16ba7f91-267a-4b27-b803-25dbc637e840",
   "metadata": {},
   "outputs": [],
   "source": [
    "a = 10\n",
    "b = 20\n",
    "\n",
    "a,b = b,a"
   ]
  },
  {
   "cell_type": "code",
   "execution_count": 57,
   "id": "8e78f325-8e36-4408-bdba-06b66960ba06",
   "metadata": {},
   "outputs": [
    {
     "data": {
      "text/plain": [
       "20"
      ]
     },
     "execution_count": 57,
     "metadata": {},
     "output_type": "execute_result"
    }
   ],
   "source": [
    "a"
   ]
  },
  {
   "cell_type": "code",
   "execution_count": 58,
   "id": "aa69b110-a5d9-451b-a83e-9f726482b1ce",
   "metadata": {},
   "outputs": [
    {
     "data": {
      "text/plain": [
       "10"
      ]
     },
     "execution_count": 58,
     "metadata": {},
     "output_type": "execute_result"
    }
   ],
   "source": [
    "b"
   ]
  },
  {
   "cell_type": "code",
   "execution_count": 76,
   "id": "0fdd0946-f702-4900-8171-2154c1a211c1",
   "metadata": {},
   "outputs": [
    {
     "name": "stdout",
     "output_type": "stream",
     "text": [
      "(20, 10)\n"
     ]
    },
    {
     "data": {
      "text/plain": [
       "10"
      ]
     },
     "execution_count": 76,
     "metadata": {},
     "output_type": "execute_result"
    }
   ],
   "source": [
    "a = 10\n",
    "b = 20\n",
    "def swap(a, b):\n",
    "    a,b = b,a\n",
    "    return a,b\n",
    "print(swap(a,b))\n",
    "a"
   ]
  },
  {
   "cell_type": "code",
   "execution_count": 77,
   "id": "9f867d74-511a-4a77-9fa3-a602b990066e",
   "metadata": {},
   "outputs": [
    {
     "data": {
      "text/plain": [
       "10"
      ]
     },
     "execution_count": 77,
     "metadata": {},
     "output_type": "execute_result"
    }
   ],
   "source": [
    "a"
   ]
  },
  {
   "cell_type": "code",
   "execution_count": 85,
   "id": "cacf9b5e-d45f-4370-b4d8-592c8e805bd0",
   "metadata": {},
   "outputs": [
    {
     "name": "stdout",
     "output_type": "stream",
     "text": [
      "10 20\n",
      "(30, 40)\n",
      "{'name': 'Pra', 'age': '25'}\n"
     ]
    }
   ],
   "source": [
    "def fun(a,b,*targs,**kargs):\n",
    "    print(a,b)\n",
    "    print(targs)\n",
    "    print(kargs)\n",
    "\n",
    "fun(10,20,30,40,name='Pra',age='25')"
   ]
  },
  {
   "cell_type": "code",
   "execution_count": null,
   "id": "42542fdf-3c79-4532-9b6a-65741e0056ea",
   "metadata": {},
   "outputs": [],
   "source": []
  }
 ],
 "metadata": {
  "kernelspec": {
   "display_name": "Python 3 (ipykernel)",
   "language": "python",
   "name": "python3"
  },
  "language_info": {
   "codemirror_mode": {
    "name": "ipython",
    "version": 3
   },
   "file_extension": ".py",
   "mimetype": "text/x-python",
   "name": "python",
   "nbconvert_exporter": "python",
   "pygments_lexer": "ipython3",
   "version": "3.12.4"
  }
 },
 "nbformat": 4,
 "nbformat_minor": 5
}
