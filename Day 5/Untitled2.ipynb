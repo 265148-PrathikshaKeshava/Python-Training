{
 "cells": [
  {
   "cell_type": "markdown",
   "id": "1a63fb3f-5d06-47aa-93a0-5349a9de6038",
   "metadata": {},
   "source": [
    "Session 2: [40]\n",
    "---------------------------------------------------------------------------------------------------\n",
    "\n",
    "1. Write a functions that returns the jumbled version of the words with spaces and capital letters\n",
    "   Example: Input <- jumble(\"apples\")\n",
    "            Output -> P P L A E S \n",
    "2. Write a function to determine if a number is a fibonacci number\n",
    "   Example: Input <- 8\n",
    "            OUtput -> 8 is in the fibonacci range\n",
    "3. Write a python function to merge two dictionaries\n",
    "   Example: d1 = { 'a': 20, 'b': 30 }\n",
    "            d2 = { 'b': 40, 'c': 50 }\n",
    "            Output -> { 'a' : 20, 'b':70, 'c' : 50 }\n",
    "    Merge rules: Numbers -> add\n",
    "                 Strings -> concatenate\n",
    "                 List, set -> Merge\n",
    "                 Tuple -> List of tuples\n",
    "                 Dictionary -> Merge\n",
    "\n",
    "4. Write a function that takes a mix of numbers and categorizes them into positives, negatives, and zeros. \n",
    "   It should return the count of each category and their respective sums.\n",
    "5. Create a function authenticator(username, password) that returns another function, \n",
    "   which can be called to access a secure message only if the username and password match."
   ]
  },
  {
   "cell_type": "code",
   "execution_count": 1,
   "id": "faa6c0e3-8907-4d4e-8bcc-49ea0dccfc99",
   "metadata": {},
   "outputs": [
    {
     "name": "stdout",
     "output_type": "stream",
     "text": [
      "S L P E A P\n"
     ]
    }
   ],
   "source": [
    "#Write a functions that returns the jumbled version of the words with spaces and capital letters Example: Input <- jumble(\"apples\") Output -> P P L A E S\n",
    "\n",
    "import random\n",
    "\n",
    "def jumble(word):\n",
    "\n",
    "    characters = list(word)\n",
    "    \n",
    "    random.shuffle(characters)\n",
    "    \n",
    "    shuffled_word = [char.upper() for char in characters]\n",
    "    \n",
    "    jumbled_word = ' '.join(shuffled_word)\n",
    "    \n",
    "    return jumbled_word\n",
    "\n",
    "input_word = \"apples\"\n",
    "output = jumble(input_word)\n",
    "print(output)\n",
    "\n"
   ]
  },
  {
   "cell_type": "code",
   "execution_count": 16,
   "id": "88f494e5-81d0-4473-8fa3-2642c689b0d1",
   "metadata": {},
   "outputs": [
    {
     "name": "stdout",
     "output_type": "stream",
     "text": [
      "10 is not in the Fibonacci series\n"
     ]
    }
   ],
   "source": [
    "def fibonacci_series_check(n):\n",
    "    a, b = 0, 1\n",
    "    \n",
    "    while a < n:\n",
    "        a, b = b, a + b\n",
    "    \n",
    "    if a == n:\n",
    "        return f\"{n} is in the Fibonacci series\"\n",
    "    else:\n",
    "        return f\"{n} is not in the Fibonacci series\"\n",
    "\n",
    "\n",
    "input_number = 10\n",
    "output = fibonacci_series_check(input_number)\n",
    "print(output)\n"
   ]
  },
  {
   "cell_type": "code",
   "execution_count": 19,
   "id": "b5356d8e-fbda-4287-a7ba-919fec9f9073",
   "metadata": {},
   "outputs": [],
   "source": [
    "#Write a python function to merge two dictionaries \n",
    "#Example: d1 = { 'a': 20, 'b': 30 } d2 = { 'b': 40, 'c': 50 } Output -> { 'a' : 20, 'b':70, 'c' : 50 } \n",
    "#Merge rules: Numbers -> add Strings -> concatenate List, set -> Merge Tuple -> List of tuples Dictionary -> Merge\n",
    "\n",
    "\n",
    "\n",
    "def num_str(val1, val2):\n",
    "    if isinstance(val1, int) and isinstance(val2, int):\n",
    "        return val1 + val2\n",
    "    elif isinstance(val1, str) or isinstance(val2, str):\n",
    "        return str(val1) + str(val2)   \n",
    "    \n",
    "        "
   ]
  },
  {
   "cell_type": "code",
   "execution_count": 18,
   "id": "0da2173f-fa6f-4d1f-8343-3bff5968ed3e",
   "metadata": {},
   "outputs": [
    {
     "data": {
      "text/plain": [
       "'Prathiksha10'"
      ]
     },
     "execution_count": 18,
     "metadata": {},
     "output_type": "execute_result"
    }
   ],
   "source": [
    "num_str('Prathiksha',10)"
   ]
  },
  {
   "cell_type": "code",
   "execution_count": 20,
   "id": "24bf08e6-1769-4543-a0b5-4380fc85e10d",
   "metadata": {},
   "outputs": [
    {
     "name": "stdout",
     "output_type": "stream",
     "text": [
      "{'a': '20', 'b': 70, 'c': '50'}\n"
     ]
    }
   ],
   "source": [
    "def merge_dicts(d1, d2):\n",
    "    merged = {}\n",
    " \n",
    "    all_keys = set(d1.keys()).union(set(d2.keys()))\n",
    " \n",
    "    for key in all_keys:\n",
    "        val1 = d1.get(key, 0) if isinstance(d1.get(key), (int, float)) else d1.get(key, '')\n",
    "        val2 = d2.get(key, 0) if isinstance(d2.get(key), (int, float)) else d2.get(key, '')\n",
    " \n",
    "        if isinstance(val1, (int, float)) and isinstance(val2, (int, float)):\n",
    "            merged[key] = val1 + val2\n",
    "        elif isinstance(val1, str) and isinstance(val2, str):\n",
    "            merged[key] = val1 + val2  # Concatenate strings\n",
    "        elif isinstance(val1, (int, float)) and isinstance(val2, str):\n",
    "            merged[key] = str(val1) + val2\n",
    "        elif isinstance(val1, str) and isinstance(val2, (int, float)):\n",
    "            merged[key] = val1 + str(val2)\n",
    "        else:\n",
    "            merged[key] = val1 if key in d1 else val2\n",
    " \n",
    "    return merged\n",
    "d1 = {'a': 20, 'b': 30}\n",
    "d2 = {'b': 40, 'c': 50}\n",
    " \n",
    "result = merge_dicts(d1, d2)\n",
    "print(dict(sorted(result.items(), key=lambda item: item[0])))"
   ]
  },
  {
   "cell_type": "code",
   "execution_count": 24,
   "id": "23557e74-dd7d-4f8a-b745-a1efe46dbb07",
   "metadata": {},
   "outputs": [
    {
     "data": {
      "text/plain": [
       "[2, 4, 5]"
      ]
     },
     "execution_count": 24,
     "metadata": {},
     "output_type": "execute_result"
    }
   ],
   "source": [
    "#Write a function that takes a mix of numbers and categorizes them into positives, negatives, and zeros.\n",
    "#It should return the count of each category and their respective sums.\n",
    "\n",
    "N = [2,4,5,-3]\n",
    "\n",
    "[n for n in N if n > 0]\n"
   ]
  },
  {
   "cell_type": "code",
   "execution_count": 25,
   "id": "9ad053f4-2e6a-43a8-a9fd-17dd106f5315",
   "metadata": {},
   "outputs": [],
   "source": [
    "def getCat(*t):\n",
    "    positives = [n for n in N if n > 0]\n",
    "    negatives = [n for n in N if n < 0]\n",
    "    zeros     = [n for n in N if n == 0]\n",
    "\n",
    "    return {\"Positive\": (len(positives), sum(positives)), \\\n",
    "            \"Negative\": (len(negatives), sum(negatives)), \\\n",
    "            \"Zeros\": (len(zeros), sum(zeros))}"
   ]
  },
  {
   "cell_type": "code",
   "execution_count": 28,
   "id": "2257c7a4-3ca2-4268-a696-96cde0278dc9",
   "metadata": {},
   "outputs": [],
   "source": [
    "L = [10,20,30,0,-1,-2,0]"
   ]
  },
  {
   "cell_type": "code",
   "execution_count": 27,
   "id": "fa09cad9-692f-434f-85cb-22ed102eb956",
   "metadata": {},
   "outputs": [
    {
     "data": {
      "text/plain": [
       "{'Positive': (3, 11), 'Negative': (1, -3), 'Zeros': (0, 0)}"
      ]
     },
     "execution_count": 27,
     "metadata": {},
     "output_type": "execute_result"
    }
   ],
   "source": [
    "getCat(L)"
   ]
  },
  {
   "cell_type": "markdown",
   "id": "3d0d77b6-a066-4565-bb05-80641da34167",
   "metadata": {},
   "source": [
    "1. Write a recursive function to compute the nth Fibonacci number.\n",
    "2. Write a recursive function to compute the factorial of a number. \n",
    "3. Generate all the subsets of a given set - explore and explain\n",
    "    Input: generate_subsets([1, 2, 3])\n",
    "    Output: []\n",
    "            [3]\n",
    "            [2]\n",
    "            [2, 3]\n",
    "            [1]\n",
    "            [1, 3]\n",
    "            [1, 2]\n",
    "            [1, 2, 3]\n",
    "4. Write a function that takes any number of lists and returns a list of elements that are common to all.\n",
    " \n",
    "    # Example usage:\n",
    "    list1 = [1, 2, 3, 4, 5]\n",
    "    list2 = [2, 3, 5, 7, 9]\n",
    "    list3 = [1, 2, 5, 8, 10]\n",
    " \n",
    "    print(find_common(list1, list2, list3))"
   ]
  },
  {
   "cell_type": "code",
   "execution_count": null,
   "id": "74f0621f-2bbe-4efb-98f8-7260207fe298",
   "metadata": {},
   "outputs": [],
   "source": [
    "Write a recursive function to compute the nth Fibonacci number."
   ]
  }
 ],
 "metadata": {
  "kernelspec": {
   "display_name": "Python 3 (ipykernel)",
   "language": "python",
   "name": "python3"
  },
  "language_info": {
   "codemirror_mode": {
    "name": "ipython",
    "version": 3
   },
   "file_extension": ".py",
   "mimetype": "text/x-python",
   "name": "python",
   "nbconvert_exporter": "python",
   "pygments_lexer": "ipython3",
   "version": "3.12.4"
  }
 },
 "nbformat": 4,
 "nbformat_minor": 5
}
