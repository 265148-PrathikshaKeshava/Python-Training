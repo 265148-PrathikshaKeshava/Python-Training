{
 "cells": [
  {
   "cell_type": "code",
   "execution_count": 1,
   "id": "31ee9e28-4fee-4fe5-83cc-6da8f2191acb",
   "metadata": {},
   "outputs": [],
   "source": [
    "#Write a recursive function to compute the nth Fibonacci number."
   ]
  },
  {
   "cell_type": "code",
   "execution_count": 3,
   "id": "7f805c46-9c84-490a-8e06-cc57551bbc2f",
   "metadata": {},
   "outputs": [
    {
     "name": "stdout",
     "output_type": "stream",
     "text": [
      "21\n"
     ]
    }
   ],
   "source": [
    "def fibonacci_series_check(n):\n",
    "    a, b = 0, 1\n",
    "    if n == 0:\n",
    "        return 0\n",
    "    elif n == 1:\n",
    "        return 1\n",
    "    else:\n",
    "        return fibonacci_series_check(n-1) + fibonacci_series_check(n-2)\n",
    "\n",
    "\n",
    "input_number = 8\n",
    "output = fibonacci_series_check(input_number)\n",
    "print(output)"
   ]
  },
  {
   "cell_type": "code",
   "execution_count": 4,
   "id": "57c7c3c6-6883-4396-851f-8b952654af18",
   "metadata": {},
   "outputs": [],
   "source": [
    "#Write a recursive function to compute the factorial of a number."
   ]
  },
  {
   "cell_type": "code",
   "execution_count": 14,
   "id": "c00db244-99ea-46d4-9ebb-05bc1c7d2e90",
   "metadata": {},
   "outputs": [],
   "source": [
    "def fact(num):\n",
    "    if num == 0:\n",
    "        return 1\n",
    "    else:\n",
    "        return num * fact(num-1)"
   ]
  },
  {
   "cell_type": "code",
   "execution_count": 15,
   "id": "d3bece04-d876-4f50-aa01-cb4555a76c08",
   "metadata": {},
   "outputs": [
    {
     "data": {
      "text/plain": [
       "120"
      ]
     },
     "execution_count": 15,
     "metadata": {},
     "output_type": "execute_result"
    }
   ],
   "source": [
    "fact(5)"
   ]
  },
  {
   "cell_type": "code",
   "execution_count": 16,
   "id": "5898f78f-0443-403f-9b73-3497f5d53258",
   "metadata": {},
   "outputs": [
    {
     "name": "stdout",
     "output_type": "stream",
     "text": [
      "[(1, 2, 3)]\n",
      "[(1, 2), (1, 3), (2, 3)]\n",
      "[(1,), (2,), (3,)]\n",
      "[()]\n"
     ]
    }
   ],
   "source": [
    "#Generate all the subsets of a given set - \n",
    "#explore and explain Input: generate_subsets([1, 2, 3]) Output: [] [3] [2] [2, 3] [1] [1, 3] [1, 2] [1, 2, 3]\n",
    "\n",
    "from itertools import combinations\n",
    "def generate_subsets(n, s):\n",
    "    if (s>=0):\n",
    "        print(list(combinations(n,s)))\n",
    "        generate_subsets(n,s-1)\n",
    " \n",
    "    else:\n",
    "        return '[]'\n",
    "   \n",
    "generate_subsets([1,2,3], len([1,2,3]))"
   ]
  },
  {
   "cell_type": "code",
   "execution_count": null,
   "id": "bd85ff9f-8e5c-4ac8-a24a-37ef690a30b1",
   "metadata": {},
   "outputs": [],
   "source": [
    "''Write a function that takes any number of lists and returns a list of elements that are common to all.\n",
    "\n",
    "Example usage:\n",
    "list1 = [1, 2, 3, 4, 5] list2 = [2, 3, 5, 7, 9] list3 = [1, 2, 5, 8, 10]\n",
    "\n",
    "print(find_common(list1, list2, list3))'''"
   ]
  },
  {
   "cell_type": "code",
   "execution_count": null,
   "id": "1c62a59d-7f02-4a9d-824f-dc04f586ebbc",
   "metadata": {},
   "outputs": [],
   "source": [
    "n = int(input(\"enter the no.of lists wanted: \"))\n",
    "for i in range(n):\n",
    "    lists  = list(map(int, input(f\"enter list{i+1}:\").split()))\n",
    "    globals()[f'list{i+1}'] = lists\n",
    " \n",
    "def common(*lists):\n",
    "    if not lists:\n",
    "        return []\n",
    "    return list(set(lists[0]).intersection(*map(set, lists[1:])))\n",
    " \n",
    "all_lists = [globals()[f'list{i+1}'] for i in range(n)]\n",
    "print(common(*all_lists))"
   ]
  }
 ],
 "metadata": {
  "kernelspec": {
   "display_name": "Python 3 (ipykernel)",
   "language": "python",
   "name": "python3"
  },
  "language_info": {
   "codemirror_mode": {
    "name": "ipython",
    "version": 3
   },
   "file_extension": ".py",
   "mimetype": "text/x-python",
   "name": "python",
   "nbconvert_exporter": "python",
   "pygments_lexer": "ipython3",
   "version": "3.12.4"
  }
 },
 "nbformat": 4,
 "nbformat_minor": 5
}
