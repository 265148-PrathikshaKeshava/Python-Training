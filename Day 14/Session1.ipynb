{
 "cells": [
  {
   "cell_type": "markdown",
   "id": "aeb468a3-ad12-41f4-9b05-7ca191ceee11",
   "metadata": {},
   "source": [
    "Decorator"
   ]
  },
  {
   "cell_type": "markdown",
   "id": "37026773-2522-4fb6-81ab-d635d4c4b241",
   "metadata": {},
   "source": [
    "Write a decorator called @log_function that prints the name of the \n",
    "function being called and its arguments before executing it.\n",
    "\n",
    "@log_function\n",
    "def greet(name):\n",
    "    print(f\"Hello, {name}!\")\n",
    "\n",
    "greet(\"Alice\") \n",
    "\n",
    "# Output: \n",
    "# Calling function: greet \n",
    "# Arguments: 'Alice'\n",
    "# Hello, Alice. How are you today?\n"
   ]
  },
  {
   "cell_type": "code",
   "execution_count": 21,
   "id": "e6e27216-5baa-442e-a848-72add98df524",
   "metadata": {},
   "outputs": [
    {
     "name": "stdout",
     "output_type": "stream",
     "text": [
      "Calling function: greet\n",
      "Hello, 'Alice'. How are you today!\n",
      "Arguments: 'Alice'\n"
     ]
    }
   ],
   "source": [
    "def log_function(func):\n",
    "    def wrapper(*args):\n",
    "        print(f\"Calling function: {func.__name__}\")\n",
    "        func(', '.join(map(repr, args)))\n",
    "        print(f\"Arguments: {', '.join(map(repr, args))}\")\n",
    "        \n",
    "    return wrapper\n",
    "\n",
    "@log_function\n",
    "def greet(name):\n",
    "    print(f\"Hello, {name}. How are you today!\")\n",
    "\n",
    "\n",
    "greet(\"Alice\")\n",
    "\n"
   ]
  },
  {
   "cell_type": "markdown",
   "id": "46ce45f9-2f1e-427c-811a-788e056aea97",
   "metadata": {},
   "source": [
    "\n",
    "Problem Statement #2:\n",
    "--------------------------------------------------------\n",
    "\n",
    "Write a decorator @double_result that doubles the result returned by any function.\n",
    "\n",
    "Example:\n",
    "\n",
    "@double_result\n",
    "def add(x, y):\n",
    "    return x + y\n",
    "\n",
    "print(add(3, 4))  # Output: 14"
   ]
  },
  {
   "cell_type": "code",
   "execution_count": 24,
   "id": "7825e532-d5a3-49cb-ae08-8f52776f0d88",
   "metadata": {},
   "outputs": [
    {
     "name": "stdout",
     "output_type": "stream",
     "text": [
      "34\n"
     ]
    }
   ],
   "source": [
    "def double_result(func):\n",
    "    \n",
    "    def wrapper(*args):\n",
    "        result = func(*args)\n",
    "        \n",
    "        return result * 2\n",
    "    return wrapper\n",
    "\n",
    "@double_result\n",
    "def add(x, y):\n",
    "    return x + y\n",
    "\n",
    "print(add(3, 14))  \n"
   ]
  },
  {
   "cell_type": "markdown",
   "id": "3d771aa7-a688-48b6-8902-9fb7ecfeda76",
   "metadata": {},
   "source": [
    "\n",
    "Write a decorator @timer that prints how long a function takes to execute.\n",
    "\n",
    "import time\n",
    "\n",
    "@timer\n",
    "def slow_function():\n",
    "    time.sleep(1)\n",
    "    print(\"Done!\")\n",
    "\n",
    "slow_function() # 1 seconds\n"
   ]
  },
  {
   "cell_type": "code",
   "execution_count": 32,
   "id": "34b82b35-b1fc-42b5-92bd-f6a7870956e7",
   "metadata": {},
   "outputs": [
    {
     "name": "stdout",
     "output_type": "stream",
     "text": [
      "Done!\n",
      "Function 'slow_function' executed in 1.00 seconds\n"
     ]
    }
   ],
   "source": [
    "import time\n",
    "\n",
    "def timer(func):\n",
    "    def wrapper(*args):\n",
    "        start_time = time.time()  \n",
    "        result = func(*args)  \n",
    "        end_time = time.time()   \n",
    "\n",
    "        execution_time = end_time - start_time\n",
    "        print(f\"Function '{func.__name__}' executed in {execution_time:.2f} seconds\")\n",
    "        return result\n",
    "    return wrapper\n",
    "\n",
    "@timer\n",
    "def slow_function():\n",
    "    time.sleep(1)\n",
    "    print(\"Done!\")\n",
    "\n",
    "\n",
    "slow_function()\n"
   ]
  },
  {
   "cell_type": "markdown",
   "id": "140098a8-52cc-4539-addb-1809d5d13d1e",
   "metadata": {},
   "source": [
    "Problem Statement #4:\n",
    "--------------------------------------------------------\n",
    "\n",
    "Write a decorator @requires_admin that allows access to a function only \n",
    "if the user is an admin.\n",
    "\n",
    "Example:\n",
    "\n",
    "@requires_admin\n",
    "def delete_data(user_role):\n",
    "    print(\"Data deleted.\")\n",
    "\n",
    "delete_data(\"admin\")      # Allowed\n",
    "delete_data(\"guest\")      # Denied"
   ]
  },
  {
   "cell_type": "code",
   "execution_count": null,
   "id": "7e336af8-2a89-49c2-a0ef-885073982738",
   "metadata": {},
   "outputs": [],
   "source": [
    "\n",
    "            "
   ]
  },
  {
   "cell_type": "code",
   "execution_count": null,
   "id": "86917e75-0584-4446-8374-e9ad8825a0de",
   "metadata": {},
   "outputs": [],
   "source": []
  }
 ],
 "metadata": {
  "kernelspec": {
   "display_name": "Python 3 (ipykernel)",
   "language": "python",
   "name": "python3"
  },
  "language_info": {
   "codemirror_mode": {
    "name": "ipython",
    "version": 3
   },
   "file_extension": ".py",
   "mimetype": "text/x-python",
   "name": "python",
   "nbconvert_exporter": "python",
   "pygments_lexer": "ipython3",
   "version": "3.12.4"
  }
 },
 "nbformat": 4,
 "nbformat_minor": 5
}
