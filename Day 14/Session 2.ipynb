{
 "cells": [
  {
   "cell_type": "markdown",
   "id": "a85cfa12-ae0a-4995-bee2-1c61ba9ef26c",
   "metadata": {},
   "source": [
    "Problem Statement #1:\n",
    "--------------------------------------------------------\n",
    "\n",
    "Create a Python class called Circle that represents a circle. The class should allow the following:\n",
    "\n",
    "Use @property to return the circumference of the circle using the formula 2 * π * radius.\n",
    "\n",
    "Use @classmethod to create a Circle instance from a diameter.\n",
    "\n",
    "Use @staticmethod to check if a given value is a valid radius (i.e., a positive number).\n",
    "\n"
   ]
  },
  {
   "cell_type": "code",
   "execution_count": 11,
   "id": "e400e4e0-8b3e-4507-a48c-a6af30ab88ac",
   "metadata": {},
   "outputs": [],
   "source": [
    "import math\n",
    "\n",
    "class Circle:\n",
    "    def __init__(self, radius):\n",
    "        self._radius = radius\n",
    "\n",
    "    # Property\n",
    "    @property\n",
    "    def circumference(self):\n",
    "        return 2 * math.pi * self._radius\n",
    "\n",
    "    # Class Method\n",
    "    @classmethod\n",
    "    def from_diameter(cls, diameter):\n",
    "        if diameter <= 0:\n",
    "            raise ValueError(\"Diameter must be a positive number.\")\n",
    "        radius = diameter / 2\n",
    "        return cls(radius)\n",
    "\n",
    "    # Static Method\n",
    "    @staticmethod\n",
    "    def is_valid_radius(value):\n",
    "        return isinstance(value, (int, float)) and value > 0\n",
    "\n"
   ]
  },
  {
   "cell_type": "code",
   "execution_count": 6,
   "id": "89367280-f851-41e3-8f57-7e1c0145a24d",
   "metadata": {},
   "outputs": [
    {
     "name": "stdout",
     "output_type": "stream",
     "text": [
      "Circumference of circle1: 31.42\n",
      "Circumference of circle2: 31.42\n",
      "True\n",
      "False\n",
      "False\n"
     ]
    }
   ],
   "source": [
    "\n",
    "circle1 = Circle(5)\n",
    "print(f\"Circumference of circle1: {circle1.circumference:.2f}\") \n",
    "\n",
    "circle2 = Circle.from_diameter(10)\n",
    "print(f\"Circumference of circle2: {circle2.circumference:.2f}\")  \n",
    "\n",
    "print(Circle.is_valid_radius(7))    \n",
    "print(Circle.is_valid_radius(-3))    \n",
    "print(Circle.is_valid_radius(\"abc\"))  \n"
   ]
  },
  {
   "cell_type": "markdown",
   "id": "cdb747a6-e22f-48b0-a3ba-e273f3a7a936",
   "metadata": {},
   "source": [
    "\n",
    "Problem Statement #2\n",
    "--------------------------------------------------------\n",
    "\n",
    "Create a class called BankAccount to represent a user’s bank account. \n",
    "The class should allow the following:\n",
    "\n",
    "Use @property to return the current balance with a message like \"Your balance is ₹5000\".\n",
    "\n",
    "Use @classmethod to create a BankAccount from a dictionary containing account details like:\n",
    "{\"name\": \"Alice\", \"balance\": 10000}\n",
    "\n",
    "Use @staticmethod to check if a given withdrawal amount is valid, i.e., \n",
    "it must be a positive number and less than or equal to the current balance."
   ]
  },
  {
   "cell_type": "code",
   "execution_count": 9,
   "id": "0022293b-6a31-4f6f-95fb-0eb38d0c0417",
   "metadata": {},
   "outputs": [],
   "source": [
    "class BankAccount:\n",
    "    def __init__(self, name, balance):\n",
    "        self.name = name\n",
    "        self._balance = balance\n",
    "\n",
    "    # Property\n",
    "    @property\n",
    "    def balance(self):\n",
    "        return f\"Your balance is ₹{self._balance}\"\n",
    "\n",
    "    # Class Method\n",
    "    @classmethod\n",
    "    def from_dict(cls, account_details):\n",
    "        name = account_details.get(\"name\")\n",
    "        balance = account_details.get(\"balance\", 0)\n",
    "        return cls(name, balance)\n",
    "\n",
    "    # Static Method\n",
    "    @staticmethod\n",
    "    def is_valid_withdrawal(amount, current_balance):\n",
    "        return isinstance(amount, (int, float)) and amount > 0 and amount <= current_balance\n",
    "\n",
    "    # Method to withdraw money\n",
    "    def withdraw(self, amount):\n",
    "        if self.is_valid_withdrawal(amount, self._balance):\n",
    "            self._balance -= amount\n",
    "            print(f\"Withdrawal successful! New balance: ₹{self._balance}\")\n",
    "        else:\n",
    "            print(\"Invalid withdrawal amount!\")\n",
    "\n"
   ]
  },
  {
   "cell_type": "code",
   "execution_count": 10,
   "id": "adcc25c2-84bc-4c76-972d-634d6739b4b8",
   "metadata": {},
   "outputs": [
    {
     "name": "stdout",
     "output_type": "stream",
     "text": [
      "Your balance is ₹10000\n",
      "True\n",
      "False\n",
      "Withdrawal successful! New balance: ₹7000\n",
      "Your balance is ₹7000\n",
      "Invalid withdrawal amount!\n"
     ]
    }
   ],
   "source": [
    "account_data = {\"name\": \"Alice\", \"balance\": 10000}\n",
    "account = BankAccount.from_dict(account_data)\n",
    "\n",
    "print(account.balance)  \n",
    "\n",
    "print(BankAccount.is_valid_withdrawal(5000, account._balance)) \n",
    "print(BankAccount.is_valid_withdrawal(15000, account._balance)) \n",
    "\n",
    "account.withdraw(3000)   \n",
    "print(account.balance)   \n",
    "\n",
    "account.withdraw(8000)   \n"
   ]
  },
  {
   "cell_type": "code",
   "execution_count": null,
   "id": "cf73b85d-8db2-47fc-a1f9-57b478ba39e2",
   "metadata": {},
   "outputs": [],
   "source": []
  }
 ],
 "metadata": {
  "kernelspec": {
   "display_name": "Python 3 (ipykernel)",
   "language": "python",
   "name": "python3"
  },
  "language_info": {
   "codemirror_mode": {
    "name": "ipython",
    "version": 3
   },
   "file_extension": ".py",
   "mimetype": "text/x-python",
   "name": "python",
   "nbconvert_exporter": "python",
   "pygments_lexer": "ipython3",
   "version": "3.12.4"
  }
 },
 "nbformat": 4,
 "nbformat_minor": 5
}
