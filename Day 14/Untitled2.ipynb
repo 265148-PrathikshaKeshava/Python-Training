{
 "cells": [
  {
   "cell_type": "code",
   "execution_count": 1,
   "id": "c413ebf4-3659-4f6c-8388-5681aa402b10",
   "metadata": {},
   "outputs": [
    {
     "name": "stdout",
     "output_type": "stream",
     "text": [
      "[2, 1]\n"
     ]
    }
   ],
   "source": [
    "def BobnBot(N, M, games, Q, queries):\n",
    "    result = []\n",
    "    \n",
    "    for query in queries:\n",
    "        # Filter out -1 from the query to get the prefix\n",
    "        prefix = [x for x in query if x != -1]\n",
    "        \n",
    "        # Count games that start with the prefix\n",
    "        count = 0\n",
    "        for game in games:\n",
    "            if game[:len(prefix)] == prefix:\n",
    "                count += 1\n",
    "                \n",
    "        result.append(count)\n",
    "    \n",
    "    return result\n",
    "\n",
    "# Test Case Example\n",
    "N = 3\n",
    "M = 5\n",
    "games = [\n",
    "    [1, 2, 3, 4, 5],\n",
    "    [1, 2, 3, 6, 7],\n",
    "    [4, 5, 6, 7, 8]\n",
    "]\n",
    "\n",
    "Q = 2\n",
    "queries = [\n",
    "    [1, 2, 3, -1, -1],  # Prefix: [1, 2, 3]\n",
    "    [4, 5, -1, -1, -1]  # Prefix: [4, 5]\n",
    "]\n",
    "\n",
    "# Function Call\n",
    "print(BobnBot(N, M, games, Q, queries))\n"
   ]
  },
  {
   "cell_type": "code",
   "execution_count": 3,
   "id": "bd9a710c-da1c-4321-b6d0-1e87c487cd5d",
   "metadata": {},
   "outputs": [
    {
     "name": "stdout",
     "output_type": "stream",
     "text": [
      "0\n",
      "2\n",
      "4\n",
      "6\n",
      "8\n",
      "10\n",
      "12\n",
      "14\n",
      "16\n",
      "18\n",
      "20\n"
     ]
    }
   ],
   "source": [
    "def generate_even_numbers(n):\n",
    "    for i in range(0, n + 1):\n",
    "        if i % 2 == 0:\n",
    "            yield i  # Yield the even number\n",
    "\n",
    "# Using the generator\n",
    "even_numbers = generate_even_numbers(20)\n",
    "\n",
    "# Printing the even numbers\n",
    "for number in even_numbers:\n",
    "    print(number)\n"
   ]
  },
  {
   "cell_type": "code",
   "execution_count": 5,
   "id": "f6998ca6-2810-41de-a55d-e2380c43761b",
   "metadata": {},
   "outputs": [
    {
     "name": "stdout",
     "output_type": "stream",
     "text": [
      "0\n",
      "1\n",
      "1\n",
      "2\n",
      "3\n",
      "5\n",
      "8\n",
      "13\n",
      "21\n",
      "34\n",
      "55\n",
      "89\n",
      "144\n",
      "233\n",
      "377\n",
      "610\n",
      "987\n",
      "1597\n",
      "2584\n",
      "4181\n"
     ]
    }
   ],
   "source": [
    "def fibonacci(n):\n",
    "    a, b = 0, 1\n",
    "    for _ in range(n):\n",
    "        yield a  # Yield the current Fibonacci number\n",
    "        a, b = b, a + b  # Update values for next number\n",
    "\n",
    "# Generating the first 10 Fibonacci numbers\n",
    "fib = fibonacci(20)\n",
    "\n",
    "for number in fib:\n",
    "    print(number)\n"
   ]
  },
  {
   "cell_type": "code",
   "execution_count": 6,
   "id": "6db9c0f8-261f-44c6-b5ca-8c90b1eb0d09",
   "metadata": {},
   "outputs": [],
   "source": [
    "def names_starts_with(names, letter):\n",
    "    if names:\n",
    "        pass\n",
    "\n",
    "\n",
    "names = [\"Abhi\",\"Aditya\",\"Anvitha\",\"Prathiksha\",\"Priyanka\"]"
   ]
  },
  {
   "cell_type": "code",
   "execution_count": 7,
   "id": "a9d7c728-82fd-4492-9806-14f23167145e",
   "metadata": {},
   "outputs": [
    {
     "name": "stdout",
     "output_type": "stream",
     "text": [
      "[1, 2, 3]\n",
      "[2, 3, 4]\n",
      "[3, 4, 5]\n"
     ]
    }
   ],
   "source": [
    "def sliding_window(iterable, window_size):\n",
    "    \"\"\"Generates sliding windows of a given size.\"\"\"\n",
    "    # Convert iterable to a list if it's not already (for indexing)\n",
    "    iterable = list(iterable)\n",
    "    for i in range(len(iterable) - window_size + 1):\n",
    "        yield iterable[i:i + window_size]\n",
    "\n",
    "# Example usage\n",
    "data = [1, 2, 3, 4, 5]\n",
    "window_size = 3\n",
    "\n",
    "for window in sliding_window(data, window_size):\n",
    "    print(window)"
   ]
  },
  {
   "cell_type": "code",
   "execution_count": 10,
   "id": "5564a22f-09cc-4336-8c47-01da551fb8ca",
   "metadata": {},
   "outputs": [
    {
     "name": "stdout",
     "output_type": "stream",
     "text": [
      "[1, 2, 3]\n",
      "[2, 3, 4]\n",
      "[3, 4, 5]\n"
     ]
    }
   ],
   "source": [
    "iterable = [1, 2, 3, 4, 5]\n",
    "for i in range(len(iterable) - window_size + 1):\n",
    "    print( iterable[i:i + window_size])\n"
   ]
  },
  {
   "cell_type": "code",
   "execution_count": 14,
   "id": "6ff64472-0f6c-4956-9ae9-506f9e2be7e6",
   "metadata": {},
   "outputs": [],
   "source": [
    "def sliding_win(data,size):\n",
    "    ran = len(data) - size\n",
    "    for i in range(ran+1):\n",
    "        yield data[i:i + size]\n",
    "\n",
    "    "
   ]
  },
  {
   "cell_type": "code",
   "execution_count": 16,
   "id": "402ab89c-72b9-474c-b26d-afb0cd87cb81",
   "metadata": {},
   "outputs": [
    {
     "name": "stdout",
     "output_type": "stream",
     "text": [
      "[1, 2, 3]\n",
      "[2, 3, 4]\n",
      "[3, 4, 5]\n"
     ]
    }
   ],
   "source": [
    "for window in sliding_win(data, window_size):\n",
    "    print(window)"
   ]
  },
  {
   "cell_type": "code",
   "execution_count": null,
   "id": "55dc38b5-9479-4321-89b4-dc6968a12fb3",
   "metadata": {},
   "outputs": [],
   "source": []
  }
 ],
 "metadata": {
  "kernelspec": {
   "display_name": "Python 3 (ipykernel)",
   "language": "python",
   "name": "python3"
  },
  "language_info": {
   "codemirror_mode": {
    "name": "ipython",
    "version": 3
   },
   "file_extension": ".py",
   "mimetype": "text/x-python",
   "name": "python",
   "nbconvert_exporter": "python",
   "pygments_lexer": "ipython3",
   "version": "3.12.4"
  }
 },
 "nbformat": 4,
 "nbformat_minor": 5
}
