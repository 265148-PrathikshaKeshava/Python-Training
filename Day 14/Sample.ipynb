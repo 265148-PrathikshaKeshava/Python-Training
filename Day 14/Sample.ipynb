{
 "cells": [
  {
   "cell_type": "code",
   "execution_count": 17,
   "id": "e8b7c486-c443-4e86-834e-3ce3c5b3b474",
   "metadata": {},
   "outputs": [],
   "source": [
    "import time\n",
    "\n",
    "def retry(max_attempts=4, delay=1):\n",
    "    def decorator(func):\n",
    "        def wrapper(*args, **kwargs):\n",
    "            attempts = 0\n",
    "            while attempts < max_attempts:\n",
    "                try:\n",
    "                    return func(*args, **kwargs)\n",
    "                except Exception as e:\n",
    "                    attempts += 1\n",
    "                    print(f\"Attempt {attempts} failed: {e}\")\n",
    "                    if attempts < max_attempts:\n",
    "                        time.sleep(delay)\n",
    "                    else:\n",
    "                        print(\"All attempts failed.\")\n",
    "                        raise\n",
    "        return wrapper\n",
    "    return decorator\n",
    "\n"
   ]
  },
  {
   "cell_type": "code",
   "execution_count": 16,
   "id": "c75ce58d-d4db-4c61-8d39-b11f4389cc05",
   "metadata": {},
   "outputs": [
    {
     "name": "stdout",
     "output_type": "stream",
     "text": [
      "Success!\n"
     ]
    }
   ],
   "source": [
    "# Example usage\n",
    "@retry(max_attempts=4, delay=4)\n",
    "def risky_function():\n",
    "    if time.time() % 2 < 1:  # Random failure condition\n",
    "        raise ValueError(\"Random failure!\")\n",
    "    return \"Success!\"\n",
    "\n",
    "# Test the decorated function\n",
    "print(risky_function())\n"
   ]
  },
  {
   "cell_type": "code",
   "execution_count": 21,
   "id": "6283d3b3-4fa4-4dd8-9962-fc07073d8f57",
   "metadata": {},
   "outputs": [],
   "source": [
    "\n",
    "def retry(max_attempts=4, delay=1):\n",
    "    def decorator(func):\n",
    "        def wrapper(*args, **kwargs):\n",
    "            attempts = 0\n",
    "            \n",
    "            try:\n",
    "                return func(*args, **kwargs)\n",
    "                attempts += 1\n",
    "               \n",
    "                print(f\"Attempt {attempts} failed: {e}\")\n",
    "            except:\n",
    "                print(\"All attempts failed.\")\n",
    "                raise\n",
    "        return wrapper\n",
    "    return decorator"
   ]
  },
  {
   "cell_type": "code",
   "execution_count": 25,
   "id": "e321dcdd-3798-405a-8b22-b7693b327dd2",
   "metadata": {},
   "outputs": [
    {
     "name": "stdout",
     "output_type": "stream",
     "text": [
      "Success!\n"
     ]
    }
   ],
   "source": [
    "@retry(max_attempts=4, delay=4)\n",
    "def risky_function():\n",
    "    if time.time() % 2 < 1:  # Random failure condition\n",
    "        raise ValueError(\"Random failure!\")\n",
    "    return \"Success!\"\n",
    "\n",
    "# Test the decorated function\n",
    "print(risky_function())"
   ]
  },
  {
   "cell_type": "code",
   "execution_count": 26,
   "id": "5ccb3352-3d6c-4d76-9a6f-c03108472d34",
   "metadata": {},
   "outputs": [
    {
     "name": "stdout",
     "output_type": "stream",
     "text": [
      "True\n",
      "False\n",
      "Square - Width: 4, Height: 4\n",
      "Area: 15\n",
      "Updated Dimensions: Width: 6, Height: 8\n",
      "Updated Area: 48\n"
     ]
    }
   ],
   "source": [
    "class Rectangle:\n",
    "    def __init__(self, width, height):\n",
    "        self.width = width\n",
    "        self.height = height\n",
    "\n",
    "    # Static method: A helper to validate dimensions\n",
    "    @staticmethod\n",
    "    def is_valid_dimension(value):\n",
    "        return value > 0\n",
    "\n",
    "    # Class method: Factory method to create a square\n",
    "    @classmethod\n",
    "    def square(cls, side_length):\n",
    "        return cls(side_length, side_length)\n",
    "\n",
    "    # Property: Calculate area\n",
    "    @property\n",
    "    def area(self):\n",
    "        return self.width * self.height\n",
    "\n",
    "    # Property with setter: Update dimensions\n",
    "    @property\n",
    "    def dimensions(self):\n",
    "        return f\"Width: {self.width}, Height: {self.height}\"\n",
    "\n",
    "    @dimensions.setter\n",
    "    def dimensions(self, dims):\n",
    "        self.width, self.height = dims\n",
    "\n",
    "# Test the Rectangle class\n",
    "# Using static method\n",
    "print(Rectangle.is_valid_dimension(5))   # True\n",
    "print(Rectangle.is_valid_dimension(-3))  # False\n",
    "\n",
    "# Using class method\n",
    "square = Rectangle.square(4)\n",
    "print(f\"Square - Width: {square.width}, Height: {square.height}\")\n",
    "\n",
    "# Using property\n",
    "rect = Rectangle(3, 5)\n",
    "print(f\"Area: {rect.area}\")  # 15\n",
    "\n",
    "# Using property setter\n",
    "rect.dimensions = (6, 8)\n",
    "print(f\"Updated Dimensions: {rect.dimensions}\")  # Width: 6, Height: 8\n",
    "print(f\"Updated Area: {rect.area}\")  # 48\n"
   ]
  },
  {
   "cell_type": "code",
   "execution_count": 27,
   "id": "1793116f-2ca7-4df4-80a1-a9efd6e99d44",
   "metadata": {},
   "outputs": [],
   "source": [
    "class Rectangle:\n",
    "    def __init__(self, width, height):\n",
    "        self.width = width\n",
    "        self.height = height\n",
    "\n",
    "    # Class Method: Create a rectangle from a string (e.g., \"5,10\")\n",
    "    @classmethod\n",
    "    def from_string(cls, rect_string):\n",
    "        try:\n",
    "            width, height = map(int, rect_string.split(','))\n",
    "            return cls(width, height)\n",
    "        except ValueError:\n",
    "            raise ValueError(\"Invalid string format. Use 'width,height' with integers.\")\n",
    "\n",
    "    # Property: Calculate the area\n",
    "    @property\n",
    "    def area(self):\n",
    "        return self.width * self.height\n",
    "\n",
    "\n",
    "    # Static Method: Check if two rectangles are equal\n",
    "    @staticmethod\n",
    "    def is_equal(rect1, rect2):\n",
    "        return rect1.width == rect2.width and rect1.height == rect2.height\n",
    "\n",
    "\n"
   ]
  },
  {
   "cell_type": "code",
   "execution_count": 28,
   "id": "4d521924-4e33-4f12-9441-c71547795198",
   "metadata": {},
   "outputs": [
    {
     "name": "stdout",
     "output_type": "stream",
     "text": [
      "Area of rect1: 24\n",
      "rect1 is equal to rect2: True\n",
      "rect1 is equal to rect3: False\n"
     ]
    }
   ],
   "source": [
    "# Test the Rectangle class\n",
    "# Using from_string (Class Method)\n",
    "rect1 = Rectangle.from_string(\"4,6\")\n",
    "rect2 = Rectangle.from_string(\"4,6\")\n",
    "rect3 = Rectangle.from_string(\"5,7\")\n",
    "\n",
    "# Using area (Property)\n",
    "print(f\"Area of rect1: {rect1.area}\")   # 24\n",
    "\n",
    "# Using is_equal (Static Method)\n",
    "print(f\"rect1 is equal to rect2: {Rectangle.is_equal(rect1, rect2)}\")  # True\n",
    "print(f\"rect1 is equal to rect3: {Rectangle.is_equal(rect1, rect3)}\")  # False"
   ]
  },
  {
   "cell_type": "code",
   "execution_count": null,
   "id": "00878e04-21f1-4937-8cfa-6ea893283e99",
   "metadata": {},
   "outputs": [],
   "source": []
  }
 ],
 "metadata": {
  "kernelspec": {
   "display_name": "Python 3 (ipykernel)",
   "language": "python",
   "name": "python3"
  },
  "language_info": {
   "codemirror_mode": {
    "name": "ipython",
    "version": 3
   },
   "file_extension": ".py",
   "mimetype": "text/x-python",
   "name": "python",
   "nbconvert_exporter": "python",
   "pygments_lexer": "ipython3",
   "version": "3.12.4"
  }
 },
 "nbformat": 4,
 "nbformat_minor": 5
}
