{
 "cells": [
  {
   "cell_type": "code",
   "execution_count": 1,
   "id": "5e0c2d22-faaa-4a1a-bb61-0309b103eb9a",
   "metadata": {},
   "outputs": [],
   "source": [
    "class Vector2D:\n",
    "    def __init__(self, x, y):\n",
    "        self.x = x\n",
    "        self.y = y\n",
    "\n",
    "    def __add__(self, other):\n",
    "        return Vector2D(self.x + other.x, self.y + other.y)\n",
    "\n",
    "    def __sub__(self, other):\n",
    "        return Vector2D(self.x - other.x, self.y - other.y)\n",
    "\n",
    "    def __eq__(self, other):\n",
    "        return self.x == other.x and self.y == other.y\n",
    "\n",
    "    def __str__(self):\n",
    "        return f\"({self.x}, {self.y})\"\n"
   ]
  },
  {
   "cell_type": "code",
   "execution_count": 2,
   "id": "5c11730e-bbf1-41b9-81f0-a96eb1978c19",
   "metadata": {},
   "outputs": [
    {
     "name": "stdout",
     "output_type": "stream",
     "text": [
      "(4, 6)\n",
      "(2, 2)\n",
      "True\n",
      "False\n"
     ]
    }
   ],
   "source": [
    "v1 = Vector2D(3, 4)\n",
    "v2 = Vector2D(1, 2)\n",
    "v3 = v1 + v2 \n",
    "v4 = v1 - v2\n",
    "\n",
    "\n",
    "print(v3)                  \n",
    "print(v4)                   \n",
    "print(v3 == Vector2D(4, 6)) \n",
    "print(v4 == Vector2D(2, 3))  "
   ]
  },
  {
   "cell_type": "code",
   "execution_count": 11,
   "id": "37cd96d7-4117-459b-9fb1-b2b4eb10f064",
   "metadata": {},
   "outputs": [],
   "source": [
    "class Time:\n",
    "    def __init__(self, hours=0, minutes=0, seconds=0):\n",
    "        self.hours = hours\n",
    "        self.minutes = minutes\n",
    "        self.seconds = seconds\n",
    "        self.normalize_time()\n",
    " \n",
    "    def normalize_time(self):\n",
    "        total_seconds = self.hours * 3600 + self.minutes * 60 + self.seconds\n",
    "        self.hours = total_seconds // 3600\n",
    "        total_seconds %= 3600\n",
    "        self.minutes = total_seconds // 60\n",
    "        self.seconds = total_seconds % 60\n",
    " \n",
    "    def __add__(self, other):\n",
    "        return Time(\n",
    "            self.hours + other.hours,\n",
    "            self.minutes + other.minutes,\n",
    "            self.seconds + other.seconds,\n",
    "        )\n",
    " \n",
    "    def __gt__(self, other):\n",
    "        return (\n",
    "            (self.hours * 3600 + self.minutes * 60 + self.seconds)\n",
    "            > (other.hours * 3600 + other.minutes * 60 + other.seconds)\n",
    "        )\n",
    " \n",
    "    def __str__(self):\n",
    "        return f\"{self.hours:02}:{self.minutes:02}:{self.seconds:02}\"\n",
    " \n",
    "\n",
    " "
   ]
  },
  {
   "cell_type": "code",
   "execution_count": 12,
   "id": "722c4a83-63b8-45b2-a0c5-d556da9a9ff4",
   "metadata": {},
   "outputs": [
    {
     "name": "stdout",
     "output_type": "stream",
     "text": [
      "02:16:10\n",
      "True\n"
     ]
    }
   ],
   "source": [
    "t1 = Time(1, 45, 50)\n",
    "t2 = Time(0, 30, 20)\n",
    "t3 = t1 + t2\n",
    " \n",
    "print(t3)\n",
    "print(t1 > t2)\n",
    " "
   ]
  },
  {
   "cell_type": "code",
   "execution_count": null,
   "id": "7ef574a6-29f7-4ee5-9438-278e9bb4bd65",
   "metadata": {},
   "outputs": [],
   "source": []
  }
 ],
 "metadata": {
  "kernelspec": {
   "display_name": "Python 3 (ipykernel)",
   "language": "python",
   "name": "python3"
  },
  "language_info": {
   "codemirror_mode": {
    "name": "ipython",
    "version": 3
   },
   "file_extension": ".py",
   "mimetype": "text/x-python",
   "name": "python",
   "nbconvert_exporter": "python",
   "pygments_lexer": "ipython3",
   "version": "3.12.4"
  }
 },
 "nbformat": 4,
 "nbformat_minor": 5
}
