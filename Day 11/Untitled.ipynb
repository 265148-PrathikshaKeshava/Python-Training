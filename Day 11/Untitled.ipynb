{
 "cells": [
  {
   "cell_type": "code",
   "execution_count": 1,
   "id": "5ec77c5f-1894-455f-ae9c-184e0a0505ca",
   "metadata": {},
   "outputs": [],
   "source": [
    "from operator import itemgetter, getitem, attrgetter"
   ]
  },
  {
   "cell_type": "code",
   "execution_count": 2,
   "id": "5704fcd4-1d06-4c97-b2ce-12aa90880aa9",
   "metadata": {},
   "outputs": [
    {
     "data": {
      "text/plain": [
       "'mango'"
      ]
     },
     "execution_count": 2,
     "metadata": {},
     "output_type": "execute_result"
    }
   ],
   "source": [
    "itemgetter(1)([\"apple\",\"mango\",\"banana\"])"
   ]
  },
  {
   "cell_type": "code",
   "execution_count": 3,
   "id": "bf702e7a-b277-49da-9e71-4964c1a2d323",
   "metadata": {},
   "outputs": [],
   "source": [
    "class student:\n",
    "\n",
    "    # constructor and instance variable intialization\n",
    "    def __init__(self, sname, sage, sgrade):\n",
    "        self.name = sname\n",
    "        self.age  = sage\n",
    "        self.grade = sgrade\n",
    "        self.marks = {}\n",
    "\n",
    "    # class methods\n",
    "    def set_marks(self, subj, marks):\n",
    "        self.marks[subj] = marks\n",
    "\n",
    "    def average(self):\n",
    "        self.average = sum(self.marks.values())/len(self.marks.values())\n",
    "        return self.average\n",
    "\n",
    "    def print_report(self):\n",
    "        print(f\"\\nSELF -> {self}\")\n",
    "        print(\"------------------------------------\")\n",
    "        print(f\"NAME           | {self.name}\")\n",
    "        print(f\"AGE            | {self.age}\")\n",
    "        print(f\"GRADE          | {self.grade}\")\n",
    "        print(\"------------------------------------\")\n",
    "        for k, v in self.marks.items():\n",
    "            print(str(k).rjust(10), \"  |\", str(v).ljust(5) )\n",
    "        print(\"------------------------------------\")\n",
    "        print(\"AVERAGE        | \", self.average())"
   ]
  },
  {
   "cell_type": "code",
   "execution_count": 13,
   "id": "5090bd49-168e-4c3b-8bc4-8373ceb224f9",
   "metadata": {},
   "outputs": [],
   "source": [
    "stud =[student(\"Anil\", 12, \"7\"),\n",
    "     student(\"Sunil\", 12, \"7\")]"
   ]
  },
  {
   "cell_type": "code",
   "execution_count": 14,
   "id": "73498ea6-4143-4fdd-85be-1048472c75e2",
   "metadata": {},
   "outputs": [],
   "source": [
    "s1.set_marks(\"physics\", 78)\n",
    "s1.set_marks(\"chemistry\", 88)"
   ]
  },
  {
   "cell_type": "code",
   "execution_count": 15,
   "id": "d7b7edf3-5ab5-4d85-9932-af171b7aa57a",
   "metadata": {},
   "outputs": [],
   "source": [
    "s2.set_marks(\"physics\", 98)\n",
    "s2.set_marks(\"chemistry\", 68)"
   ]
  },
  {
   "cell_type": "code",
   "execution_count": 16,
   "id": "0a1eb395-5c51-4513-9ca9-713344814b94",
   "metadata": {},
   "outputs": [
    {
     "data": {
      "text/plain": [
       "'Anil'"
      ]
     },
     "execution_count": 16,
     "metadata": {},
     "output_type": "execute_result"
    }
   ],
   "source": [
    "attrgetter('name')(stud[0])"
   ]
  },
  {
   "cell_type": "code",
   "execution_count": null,
   "id": "8a7ddfed-515d-4dbf-a7f8-fa246bee9ca4",
   "metadata": {},
   "outputs": [],
   "source": []
  }
 ],
 "metadata": {
  "kernelspec": {
   "display_name": "Python 3 (ipykernel)",
   "language": "python",
   "name": "python3"
  },
  "language_info": {
   "codemirror_mode": {
    "name": "ipython",
    "version": 3
   },
   "file_extension": ".py",
   "mimetype": "text/x-python",
   "name": "python",
   "nbconvert_exporter": "python",
   "pygments_lexer": "ipython3",
   "version": "3.12.4"
  }
 },
 "nbformat": 4,
 "nbformat_minor": 5
}
