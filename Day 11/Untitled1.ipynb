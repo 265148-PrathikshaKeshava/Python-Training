{
 "cells": [
  {
   "cell_type": "code",
   "execution_count": 2,
   "id": "b7b879da-546f-437c-af0d-2453e1bd54ef",
   "metadata": {},
   "outputs": [],
   "source": [
    "class ComplexNumber():\n",
    "\n",
    "    def __init__(self, a, b):\n",
    "        self.real = a\n",
    "        self.img = b\n",
    "\n",
    "    def __add__(self, other):\n",
    "        return ComplexNumber((self.real + other.real), (self.img + self.img))\n",
    "\n",
    "    def print(self):\n",
    "        return f'{self.real} + {self.img}'\n",
    "    "
   ]
  },
  {
   "cell_type": "code",
   "execution_count": 5,
   "id": "645fb24d-14d8-4c69-80bc-aa0daf27d355",
   "metadata": {},
   "outputs": [],
   "source": [
    "num1 = ComplexNumber(10, 5)\n",
    "num2 = ComplexNumber(5,44)"
   ]
  },
  {
   "cell_type": "code",
   "execution_count": 9,
   "id": "d33e9455-49ad-40fd-8303-3670b69ca43f",
   "metadata": {},
   "outputs": [],
   "source": [
    "p = num1 + num2"
   ]
  },
  {
   "cell_type": "code",
   "execution_count": 11,
   "id": "5cac0d20-6d7e-46e6-b916-3bebeb05dd49",
   "metadata": {},
   "outputs": [
    {
     "data": {
      "text/plain": [
       "'15 + 10'"
      ]
     },
     "execution_count": 11,
     "metadata": {},
     "output_type": "execute_result"
    }
   ],
   "source": [
    "p.print()"
   ]
  },
  {
   "cell_type": "code",
   "execution_count": null,
   "id": "6332a35b-45e2-46e8-9aa5-de63d15cff63",
   "metadata": {},
   "outputs": [],
   "source": []
  }
 ],
 "metadata": {
  "kernelspec": {
   "display_name": "Python 3 (ipykernel)",
   "language": "python",
   "name": "python3"
  },
  "language_info": {
   "codemirror_mode": {
    "name": "ipython",
    "version": 3
   },
   "file_extension": ".py",
   "mimetype": "text/x-python",
   "name": "python",
   "nbconvert_exporter": "python",
   "pygments_lexer": "ipython3",
   "version": "3.12.4"
  }
 },
 "nbformat": 4,
 "nbformat_minor": 5
}
