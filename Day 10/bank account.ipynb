{
 "cells": [
  {
   "cell_type": "markdown",
   "id": "53074a23-ed46-4077-a50d-120f93326102",
   "metadata": {},
   "source": [
    "2️⃣ Class with Encapsulation: BankAccount\n",
    "------------------------------------------------------------------\n",
    "Task: Implement a BankAccount class with:\n",
    "\n",
    "Attributes: balance, account_number\n",
    "\n",
    "Methods:\n",
    "\n",
    "deposit(amount): Adds money to balance.\n",
    "\n",
    "withdraw(amount): Deducts money if enough balance is available.\n",
    "\n",
    "get_balance(): Returns balance.\n",
    "\n",
    "✅ Enhance: Prevent withdrawal if balance falls below a minimum threshold."
   ]
  },
  {
   "cell_type": "code",
   "execution_count": 2,
   "id": "749d6515-cff6-4043-ab73-d023d2ec96db",
   "metadata": {},
   "outputs": [
    {
     "name": "stdout",
     "output_type": "stream",
     "text": [
      "Deposited 200 INR. New balance: 700 INR\n",
      "Withdrew 300 INR. New balance: 400 INR\n",
      "Withdrawal denied. Minimum balance of 100 INR required.\n",
      "Deposited 50 INR. New balance: 450 INR\n",
      "Final Balance: 450 INR\n"
     ]
    }
   ],
   "source": [
    "class BankAccount:\n",
    "    def __init__(self, account_number, balance):\n",
    "        self.account_number = account_number    # Public \n",
    "        self.__balance = balance                # Private \n",
    "        self.__min_balance = 100               # Minimum balance \n",
    "\n",
    "\n",
    "    def deposit(self, amount):\n",
    "        if amount > 0:\n",
    "            self.__balance += amount\n",
    "            print(f\"Deposited {amount} INR. New balance: {self.__balance} INR\")\n",
    "        else:\n",
    "            print(\"Invalid deposit amount.\")\n",
    "\n",
    "\n",
    "    def withdraw(self, amount):\n",
    "        if amount > 0:\n",
    "            if self.__balance - amount >= self.__min_balance:\n",
    "                self.__balance -= amount\n",
    "                print(f\"Withdrew {amount} INR. New balance: {self.__balance} INR\")\n",
    "            else:\n",
    "                print(f\"Withdrawal denied. Minimum balance of {self.__min_balance} INR required.\")\n",
    "        else:\n",
    "            print(\"Invalid withdrawal amount.\")\n",
    "\n",
    "\n",
    "    def get_balance(self):\n",
    "        return self.__balance\n",
    "\n",
    "\n",
    "account = BankAccount(\"123456789\", 500)\n",
    "\n",
    "account.deposit(200)        \n",
    "account.withdraw(300)       \n",
    "account.withdraw(350)       \n",
    "account.deposit(50)         \n",
    "\n",
    "\n",
    "print(f\"Final Balance: {account.get_balance()} INR\")\n"
   ]
  },
  {
   "cell_type": "code",
   "execution_count": 11,
   "id": "ec55275d-30cd-4302-a8e9-d50fb789718b",
   "metadata": {},
   "outputs": [],
   "source": [
    "class SavingsAccount(BankAccount):\n",
    "    def __init__(self, account_number, balance=0, interest_rate=2.5):\n",
    "        super().__init__(account_number, balance)\n",
    "        self.interest_rate = interest_rate  \n",
    "\n",
    "    def add_interest(self):\n",
    "        \n",
    "        current_balance = self.get_balance()  \n",
    "        interest = (current_balance * self.interest_rate) / 100\n",
    "       \n",
    "        self.deposit(interest)\n",
    "        print(f\"Added interest of {interest:.2f} INR. New balance: {self.get_balance():.2f} INR\")\n"
   ]
  },
  {
   "cell_type": "code",
   "execution_count": 12,
   "id": "bab91e32-b504-4e6c-9f83-d7a127b23573",
   "metadata": {},
   "outputs": [
    {
     "name": "stdout",
     "output_type": "stream",
     "text": [
      "Deposited 1000 INR. New balance: 3000 INR\n",
      "Withdrew 500 INR. New balance: 2500 INR\n",
      "Deposited 62.5 INR. New balance: 2562.5 INR\n",
      "Added interest of 62.50 INR. New balance: 2562.50 INR\n",
      "Balance: $2562.50\n"
     ]
    }
   ],
   "source": [
    "savings = SavingsAccount(\"987654321\", 2000)\n",
    "savings.deposit(1000)\n",
    "savings.withdraw(500)\n",
    "savings.add_interest()\n",
    "print(f\"Balance: ${savings.get_balance():.2f}\")"
   ]
  },
  {
   "cell_type": "code",
   "execution_count": null,
   "id": "7ac7d55f-098e-4ae7-b9eb-609d54ce3672",
   "metadata": {},
   "outputs": [],
   "source": []
  }
 ],
 "metadata": {
  "kernelspec": {
   "display_name": "Python 3 (ipykernel)",
   "language": "python",
   "name": "python3"
  },
  "language_info": {
   "codemirror_mode": {
    "name": "ipython",
    "version": 3
   },
   "file_extension": ".py",
   "mimetype": "text/x-python",
   "name": "python",
   "nbconvert_exporter": "python",
   "pygments_lexer": "ipython3",
   "version": "3.12.4"
  }
 },
 "nbformat": 4,
 "nbformat_minor": 5
}
