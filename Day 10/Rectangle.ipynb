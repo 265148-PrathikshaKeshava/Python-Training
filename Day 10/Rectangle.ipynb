{
 "cells": [
  {
   "cell_type": "markdown",
   "id": "dc1811b1-4f21-46b0-8d3b-94992a50c312",
   "metadata": {},
   "source": [
    "3️⃣ Class with Methods and Properties: Rectangle\n",
    "------------------------------------------------------------------\n",
    "Task: Design a Rectangle class:\n",
    "\n",
    "Attributes: length, width\n",
    "\n",
    "Methods:\n",
    "\n",
    "area(): Returns area.\n",
    "\n",
    "perimeter(): Returns perimeter.\n",
    "\n",
    "is_square(): Returns True if it’s a square, otherwise False.\n",
    "\n",
    "✅ Enhance: Use logic to prevent setting negative values for length and width."
   ]
  },
  {
   "cell_type": "code",
   "execution_count": 5,
   "id": "a4b16cae-b7b5-41a4-bc9c-432397aed57a",
   "metadata": {},
   "outputs": [
    {
     "name": "stdout",
     "output_type": "stream",
     "text": [
      "Area: 50\n",
      "Perimeter: 30\n",
      "Is Square? False\n",
      "Area after invalid updates: 12\n"
     ]
    }
   ],
   "source": [
    "class Rectangle:\n",
    "    def __init__(self, length, width):\n",
    "\n",
    "        self.length = length\n",
    "        self.width = width\n",
    "\n",
    "    def length(self, value):\n",
    "        \n",
    "        if value >= 0:\n",
    "            self._length = value\n",
    "            return self._length\n",
    "        else:\n",
    "            return print(\"Length cannot be negative.\")\n",
    "\n",
    "        if value >= 0:\n",
    "            self._width = value\n",
    "            return self._width\n",
    "        else:\n",
    "            return print(\"Width cannot be negative.\")\n",
    "\n",
    "    \n",
    "    def area(self):\n",
    "        return self.length * self.width\n",
    "\n",
    "   \n",
    "    def perimeter(self):\n",
    "        return 2 * (self.length + self.width)\n",
    "\n",
    "    \n",
    "    def is_square(self):\n",
    "        return self.length == self.width\n",
    "\n",
    "\n",
    "rect1 = Rectangle(10, 5)\n",
    "print(f\"Area: {rect1.area()}\")          \n",
    "print(f\"Perimeter: {rect1.perimeter()}\")  \n",
    "print(f\"Is Square? {rect1.is_square()}\")  \n",
    "\n",
    "rect1.length = -3    \n",
    "rect1.width = -4     \n",
    "\n",
    "\n",
    "print(f\"Area after invalid updates: {rect1.area()}\")  \n"
   ]
  },
  {
   "cell_type": "code",
   "execution_count": 6,
   "id": "e0ff503e-49cc-48ad-884b-c48d574f2bb5",
   "metadata": {},
   "outputs": [],
   "source": [
    "class Cuboid(Rectangle):\n",
    "    def __init__(self, length, width, height):\n",
    "        super().__init__(length, width)\n",
    "        self.height = height\n",
    "\n",
    "    def volume(self):\n",
    "        \"\"\"Calculates the volume of the cuboid.\"\"\"\n",
    "        return self.area() * self.height\n",
    "\n",
    "    def surface_area(self):\n",
    "        \"\"\"Calculates the total surface area of the cuboid.\"\"\"\n",
    "        # Surface Area = 2 * (lw + lh + wh)\n",
    "        return 2 * (self.area() + self.length * self.height + self.width * self.height)"
   ]
  },
  {
   "cell_type": "code",
   "execution_count": 7,
   "id": "bf0874a9-4a49-4598-9d07-1ad3b6933da9",
   "metadata": {},
   "outputs": [
    {
     "name": "stdout",
     "output_type": "stream",
     "text": [
      "Rectangle Area: 20 square units\n",
      "Rectangle Perimeter: 18 units\n",
      "Is Rectangle a Square? No\n",
      "\n",
      "\n",
      "Cuboid Volume: 200 cubic units\n",
      "Cuboid Surface Area: 220 square units\n"
     ]
    }
   ],
   "source": [
    "rect = Rectangle(4, 5)\n",
    "print(f\"Rectangle Area: {rect.area()} square units\")\n",
    "print(f\"Rectangle Perimeter: {rect.perimeter()} units\")\n",
    "print(f\"Is Rectangle a Square? {'Yes' if rect.is_square() else 'No'}\")\n",
    "\n",
    "print(\"\\n\")\n",
    "\n",
    "\n",
    "cuboid = Cuboid(4, 5, 10)\n",
    "print(f\"Cuboid Volume: {cuboid.volume()} cubic units\")\n",
    "print(f\"Cuboid Surface Area: {cuboid.surface_area()} square units\")"
   ]
  },
  {
   "cell_type": "code",
   "execution_count": null,
   "id": "48d703c4-cfb7-463a-ac5a-c5b5a8c08dbd",
   "metadata": {},
   "outputs": [],
   "source": []
  }
 ],
 "metadata": {
  "kernelspec": {
   "display_name": "Python 3 (ipykernel)",
   "language": "python",
   "name": "python3"
  },
  "language_info": {
   "codemirror_mode": {
    "name": "ipython",
    "version": 3
   },
   "file_extension": ".py",
   "mimetype": "text/x-python",
   "name": "python",
   "nbconvert_exporter": "python",
   "pygments_lexer": "ipython3",
   "version": "3.12.4"
  }
 },
 "nbformat": 4,
 "nbformat_minor": 5
}
