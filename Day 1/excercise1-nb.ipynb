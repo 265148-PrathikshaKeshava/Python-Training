{
 "cells": [
  {
   "cell_type": "code",
   "execution_count": 1,
   "id": "0df58555-663e-42ea-b82d-815720cb46cc",
   "metadata": {},
   "outputs": [
    {
     "name": "stdout",
     "output_type": "stream",
     "text": [
      "Hello world\n"
     ]
    }
   ],
   "source": [
    "print(\"Hello world\")"
   ]
  },
  {
   "cell_type": "code",
   "execution_count": 2,
   "id": "731d6f86-da4f-452a-ae78-3a5b84b0b8fa",
   "metadata": {},
   "outputs": [
    {
     "name": "stdout",
     "output_type": "stream",
     "text": [
      "Hello world\n"
     ]
    }
   ],
   "source": [
    "print(\"Hello world\")"
   ]
  },
  {
   "cell_type": "code",
   "execution_count": 5,
   "id": "f2cd6c7d-4dd4-4dbb-97f1-bff9203d3928",
   "metadata": {},
   "outputs": [],
   "source": [
    "a = '10011'"
   ]
  },
  {
   "cell_type": "code",
   "execution_count": 6,
   "id": "12eab55b-a4d5-45dd-9df4-35c4ca7c7917",
   "metadata": {},
   "outputs": [
    {
     "data": {
      "text/plain": [
       "19"
      ]
     },
     "execution_count": 6,
     "metadata": {},
     "output_type": "execute_result"
    }
   ],
   "source": [
    "int(a, base =2)"
   ]
  },
  {
   "cell_type": "code",
   "execution_count": 7,
   "id": "eae74dc6-ccb7-417f-92ae-9b35ea25efa9",
   "metadata": {},
   "outputs": [],
   "source": [
    "import math"
   ]
  },
  {
   "cell_type": "markdown",
   "id": "abe45d0b-e84b-4e9b-a433-6e424fdd0492",
   "metadata": {},
   "source": [
    "# Excercise1"
   ]
  },
  {
   "cell_type": "code",
   "execution_count": 8,
   "id": "7d6651b8-2d00-426b-82c6-0ebe457bb3f1",
   "metadata": {},
   "outputs": [],
   "source": [
    "a = 90"
   ]
  },
  {
   "cell_type": "code",
   "execution_count": 15,
   "id": "c99b5c88-14ad-47c9-99a1-62bd74f94426",
   "metadata": {},
   "outputs": [],
   "source": [
    "c = 100"
   ]
  },
  {
   "cell_type": "code",
   "execution_count": 18,
   "id": "d8fb4449-d5d4-40da-9e68-e546bd0ad5cd",
   "metadata": {},
   "outputs": [
    {
     "data": {
      "text/plain": [
       "212.0"
      ]
     },
     "execution_count": 18,
     "metadata": {},
     "output_type": "execute_result"
    }
   ],
   "source": [
    "f=(c * 9/5) + 32\n",
    "f"
   ]
  },
  {
   "cell_type": "markdown",
   "id": "fdd10c8b-d19e-488c-aa9c-82c90fd73e05",
   "metadata": {},
   "source": [
    "# Excercise2"
   ]
  },
  {
   "cell_type": "code",
   "execution_count": 31,
   "id": "69352a63-faf5-4636-8783-0b9b2db32dea",
   "metadata": {},
   "outputs": [],
   "source": [
    "x1=2\n",
    "y1=3\n",
    "x2=4\n",
    "y2=1\n"
   ]
  },
  {
   "cell_type": "code",
   "execution_count": 23,
   "id": "1e2a37a7-1126-4fc7-8a6d-3adb685f36e2",
   "metadata": {},
   "outputs": [],
   "source": [
    "import math"
   ]
  },
  {
   "cell_type": "code",
   "execution_count": 24,
   "id": "83946ecd-0257-4f53-b48e-c78b4ff5c72f",
   "metadata": {},
   "outputs": [
    {
     "data": {
      "text/plain": [
       "2.8284271247461903"
      ]
     },
     "execution_count": 24,
     "metadata": {},
     "output_type": "execute_result"
    }
   ],
   "source": [
    "math.sqrt(math.pow((x2-x1),2) + math.pow ((y2-y1),2))"
   ]
  },
  {
   "cell_type": "markdown",
   "id": "2c4f5a2e-66e3-4d62-bbb5-1a436254d077",
   "metadata": {},
   "source": [
    "# Excercise3"
   ]
  },
  {
   "cell_type": "code",
   "execution_count": null,
   "id": "5ccbe8ac-0dc7-4195-a522-61f54d7113cc",
   "metadata": {},
   "outputs": [],
   "source": [
    "x1=2\n",
    "y1=3\n",
    "x2=4\n",
    "y2=1\n",
    "x3=5\n",
    "y3=4"
   ]
  },
  {
   "cell_type": "code",
   "execution_count": 28,
   "id": "8bf78ce9-56d4-470f-8482-72fd864693bc",
   "metadata": {},
   "outputs": [],
   "source": [
    "area = 0.5 * abs(x1 * (y2 - y3) + x2 * (y3 - y1) + x3 * (y1 - y2))"
   ]
  },
  {
   "cell_type": "code",
   "execution_count": 30,
   "id": "fa58e5d0-be96-4b4a-b081-35051718423f",
   "metadata": {},
   "outputs": [
    {
     "data": {
      "text/plain": [
       "4.0"
      ]
     },
     "execution_count": 30,
     "metadata": {},
     "output_type": "execute_result"
    }
   ],
   "source": [
    "area"
   ]
  },
  {
   "cell_type": "code",
   "execution_count": null,
   "id": "1088440a-dc11-47cb-a9d4-8f8898d33b10",
   "metadata": {},
   "outputs": [],
   "source": []
  },
  {
   "cell_type": "code",
   "execution_count": null,
   "id": "f04d67d6-34cd-4526-af9c-14ee75caa39c",
   "metadata": {},
   "outputs": [],
   "source": []
  }
 ],
 "metadata": {
  "kernelspec": {
   "display_name": "Python 3 (ipykernel)",
   "language": "python",
   "name": "python3"
  },
  "language_info": {
   "codemirror_mode": {
    "name": "ipython",
    "version": 3
   },
   "file_extension": ".py",
   "mimetype": "text/x-python",
   "name": "python",
   "nbconvert_exporter": "python",
   "pygments_lexer": "ipython3",
   "version": "3.12.4"
  }
 },
 "nbformat": 4,
 "nbformat_minor": 5
}
