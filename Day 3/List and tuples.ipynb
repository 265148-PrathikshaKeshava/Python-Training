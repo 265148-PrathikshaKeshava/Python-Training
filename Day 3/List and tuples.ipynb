{
 "cells": [
  {
   "cell_type": "markdown",
   "id": "4b4a1853-e9ff-47e9-859f-b43d301cbd9b",
   "metadata": {},
   "source": [
    "Adding an item"
   ]
  },
  {
   "cell_type": "code",
   "execution_count": 6,
   "id": "7c6eb23b-f7b3-4aaf-bc9a-b59be045e900",
   "metadata": {},
   "outputs": [],
   "source": [
    "list1 = ['blue','red','purple','pink']"
   ]
  },
  {
   "cell_type": "code",
   "execution_count": 7,
   "id": "16c6363b-333c-4262-bfe6-bdb70ff97631",
   "metadata": {},
   "outputs": [],
   "source": [
    "list1.append('green')"
   ]
  },
  {
   "cell_type": "code",
   "execution_count": 8,
   "id": "f828d960-fd08-40b7-843f-c27365f3d5de",
   "metadata": {},
   "outputs": [
    {
     "data": {
      "text/plain": [
       "['blue', 'red', 'purple', 'pink', 'green']"
      ]
     },
     "execution_count": 8,
     "metadata": {},
     "output_type": "execute_result"
    }
   ],
   "source": [
    "list1"
   ]
  },
  {
   "cell_type": "code",
   "execution_count": 44,
   "id": "1cd6efb6-d61a-4652-b9c9-0eda2011bf2c",
   "metadata": {},
   "outputs": [
    {
     "data": {
      "text/plain": [
       "['blue', 'yellow', 'yellow', 'red', 'purple', 'pink', 'green', 'grey', 'white']"
      ]
     },
     "execution_count": 44,
     "metadata": {},
     "output_type": "execute_result"
    }
   ],
   "source": [
    "list1.insert(1,'yellow')\n",
    "list1.insert(1,'yellow')\n",
    "list1"
   ]
  },
  {
   "cell_type": "code",
   "execution_count": 25,
   "id": "49890bcd-b3f0-4423-8ef7-e0f608fbebbe",
   "metadata": {},
   "outputs": [],
   "source": [
    "list1.remove('yellow')"
   ]
  },
  {
   "cell_type": "code",
   "execution_count": 26,
   "id": "f53359d6-768c-4254-a4dd-26c11d6abf39",
   "metadata": {},
   "outputs": [
    {
     "data": {
      "text/plain": [
       "['blue', 'yellow', 'red', 'purple', 'pink', 'green']"
      ]
     },
     "execution_count": 26,
     "metadata": {},
     "output_type": "execute_result"
    }
   ],
   "source": [
    "list1"
   ]
  },
  {
   "cell_type": "code",
   "execution_count": 27,
   "id": "2eb112c3-c025-43a6-9f38-d1e95be86dad",
   "metadata": {},
   "outputs": [],
   "source": [
    "list1.remove('yellow')"
   ]
  },
  {
   "cell_type": "code",
   "execution_count": 30,
   "id": "b1e54763-097f-47ed-bdd0-2d8f1fa8d75b",
   "metadata": {},
   "outputs": [],
   "source": [
    "list1\n",
    "list2 = ['grey','white']"
   ]
  },
  {
   "cell_type": "code",
   "execution_count": 31,
   "id": "72c5e255-5e8d-47f4-a54b-c1146da812c3",
   "metadata": {},
   "outputs": [],
   "source": [
    "list1.extend(list2)"
   ]
  },
  {
   "cell_type": "code",
   "execution_count": 32,
   "id": "d408446c-36e6-4991-8159-650927bc80ec",
   "metadata": {},
   "outputs": [
    {
     "data": {
      "text/plain": [
       "['blue', 'red', 'purple', 'pink', 'green', 'grey', 'white']"
      ]
     },
     "execution_count": 32,
     "metadata": {},
     "output_type": "execute_result"
    }
   ],
   "source": [
    "list1"
   ]
  },
  {
   "cell_type": "markdown",
   "id": "0650b5c3-20f6-43c0-9b6e-0ff7cb3eae0f",
   "metadata": {},
   "source": [
    "# Modifying the list"
   ]
  },
  {
   "cell_type": "code",
   "execution_count": 33,
   "id": "af119cdc-e2c2-45c5-8d5e-65358d58c42f",
   "metadata": {},
   "outputs": [],
   "source": [
    "l1 = ['blue', 'yellow', 'red', 'purple', 'pink', 'green']"
   ]
  },
  {
   "cell_type": "code",
   "execution_count": 36,
   "id": "171ae012-3f96-4631-be4a-75b49fb3895a",
   "metadata": {},
   "outputs": [
    {
     "data": {
      "text/plain": [
       "['blue', 'aqua', 'red', 'purple', 'pink', 'green']"
      ]
     },
     "execution_count": 36,
     "metadata": {},
     "output_type": "execute_result"
    }
   ],
   "source": [
    "l1[1] = 'aqua'\n",
    "l1"
   ]
  },
  {
   "cell_type": "code",
   "execution_count": 37,
   "id": "944bb8dd-e429-4801-834c-f9b54611ec7f",
   "metadata": {},
   "outputs": [
    {
     "data": {
      "text/plain": [
       "['aqua']"
      ]
     },
     "execution_count": 37,
     "metadata": {},
     "output_type": "execute_result"
    }
   ],
   "source": [
    "l1[1:2]"
   ]
  },
  {
   "cell_type": "code",
   "execution_count": 38,
   "id": "098a9303-4c0c-49df-92de-62cdd2e769c1",
   "metadata": {},
   "outputs": [],
   "source": [
    "l1[1:2] = list2"
   ]
  },
  {
   "cell_type": "code",
   "execution_count": 39,
   "id": "7ae3cc4d-8d8d-486d-8300-a9c38f71f2f7",
   "metadata": {},
   "outputs": [
    {
     "data": {
      "text/plain": [
       "['blue', 'grey', 'white', 'red', 'purple', 'pink', 'green']"
      ]
     },
     "execution_count": 39,
     "metadata": {},
     "output_type": "execute_result"
    }
   ],
   "source": [
    "l1"
   ]
  },
  {
   "cell_type": "code",
   "execution_count": 69,
   "id": "4ce23cb0-867a-4bdb-828e-39e1bf6a1a36",
   "metadata": {
    "scrolled": true
   },
   "outputs": [
    {
     "data": {
      "text/plain": [
       "['black',\n",
       " 'orange',\n",
       " 'golden',\n",
       " 'black',\n",
       " 'black',\n",
       " 'black',\n",
       " 'blue',\n",
       " 'golden',\n",
       " 'golden',\n",
       " 'golden',\n",
       " 'green',\n",
       " 'olden',\n",
       " 'orange',\n",
       " 'orange',\n",
       " 'pink',\n",
       " 'white']"
      ]
     },
     "execution_count": 69,
     "metadata": {},
     "output_type": "execute_result"
    }
   ],
   "source": [
    "l1[1:2] = ['orange', 'golden', 'black']\n",
    "l1"
   ]
  },
  {
   "cell_type": "code",
   "execution_count": 59,
   "id": "f3e71011-5d7c-449b-9e2b-f3a30bcc9356",
   "metadata": {},
   "outputs": [
    {
     "data": {
      "text/plain": [
       "'orange'"
      ]
     },
     "execution_count": 59,
     "metadata": {},
     "output_type": "execute_result"
    }
   ],
   "source": [
    "l1.pop(4)"
   ]
  },
  {
   "cell_type": "code",
   "execution_count": 60,
   "id": "1b0fd15d-9cef-40b1-a19e-0ba602e267e7",
   "metadata": {},
   "outputs": [
    {
     "data": {
      "text/plain": [
       "<list_reverseiterator at 0x22bd3c9bca0>"
      ]
     },
     "execution_count": 60,
     "metadata": {},
     "output_type": "execute_result"
    }
   ],
   "source": [
    "reversed(l1)"
   ]
  },
  {
   "cell_type": "code",
   "execution_count": 53,
   "id": "7b0ec0da-997a-4e5d-a0a3-f6afbe064bc2",
   "metadata": {},
   "outputs": [
    {
     "data": {
      "text/plain": [
       "['green',\n",
       " 'pink',\n",
       " 'purple',\n",
       " 'red',\n",
       " 'white',\n",
       " 'black',\n",
       " 'golden',\n",
       " 'orange',\n",
       " 'blue']"
      ]
     },
     "execution_count": 53,
     "metadata": {},
     "output_type": "execute_result"
    }
   ],
   "source": [
    "list(reversed(l1))"
   ]
  },
  {
   "cell_type": "code",
   "execution_count": 62,
   "id": "708cd9ef-d90a-4f04-8555-6f4486add75a",
   "metadata": {},
   "outputs": [
    {
     "data": {
      "text/plain": [
       "['white', 'red', 'purple', 'pink', 'green', 'golden', 'blue', 'black']"
      ]
     },
     "execution_count": 62,
     "metadata": {},
     "output_type": "execute_result"
    }
   ],
   "source": [
    "list(sorted(l1))\n",
    "l1"
   ]
  },
  {
   "cell_type": "code",
   "execution_count": 68,
   "id": "60a933a8-c38f-407e-9404-cd753f01685d",
   "metadata": {},
   "outputs": [
    {
     "data": {
      "text/plain": [
       "['black',\n",
       " 'black',\n",
       " 'black',\n",
       " 'black',\n",
       " 'blue',\n",
       " 'golden',\n",
       " 'golden',\n",
       " 'golden',\n",
       " 'green',\n",
       " 'olden',\n",
       " 'orange',\n",
       " 'orange',\n",
       " 'pink',\n",
       " 'white']"
      ]
     },
     "execution_count": 68,
     "metadata": {},
     "output_type": "execute_result"
    }
   ],
   "source": [
    "l1.sort()\n",
    "l1"
   ]
  },
  {
   "cell_type": "code",
   "execution_count": 65,
   "id": "20fbcc12-41b2-462c-8fde-9e42680aaf80",
   "metadata": {},
   "outputs": [
    {
     "data": {
      "text/plain": [
       "['white',\n",
       " 'purple',\n",
       " 'pink',\n",
       " 'orange',\n",
       " 'green',\n",
       " 'golden',\n",
       " 'golden',\n",
       " 'blue',\n",
       " 'black',\n",
       " 'black']"
      ]
     },
     "execution_count": 65,
     "metadata": {},
     "output_type": "execute_result"
    }
   ],
   "source": [
    "l1"
   ]
  },
  {
   "cell_type": "markdown",
   "id": "26cf76bd-ca3d-4297-909e-ef9b5793b994",
   "metadata": {},
   "source": [
    "# Tuples"
   ]
  },
  {
   "cell_type": "code",
   "execution_count": 71,
   "id": "cf2b02b7-c0c4-412d-b17f-bdb2a00735e2",
   "metadata": {},
   "outputs": [],
   "source": [
    "t1 = ('white', 'purple', 'pink', 'orange')"
   ]
  },
  {
   "cell_type": "code",
   "execution_count": 73,
   "id": "17945002-99af-456d-b17d-edd68adab326",
   "metadata": {},
   "outputs": [
    {
     "data": {
      "text/plain": [
       "tuple"
      ]
     },
     "execution_count": 73,
     "metadata": {},
     "output_type": "execute_result"
    }
   ],
   "source": [
    "type(t1)"
   ]
  },
  {
   "cell_type": "markdown",
   "id": "76ec243b-602a-47c3-a5fc-6667af87c569",
   "metadata": {},
   "source": [
    "# sets"
   ]
  },
  {
   "cell_type": "code",
   "execution_count": 77,
   "id": "a4db7a19-2406-4135-b809-430fafbbf3c6",
   "metadata": {},
   "outputs": [],
   "source": [
    "s = \"prathiksha\""
   ]
  },
  {
   "cell_type": "code",
   "execution_count": 78,
   "id": "1a82e207-5712-414b-9f51-27494381a65a",
   "metadata": {},
   "outputs": [
    {
     "data": {
      "text/plain": [
       "{'a', 'h', 'i', 'k', 'p', 'r', 's', 't'}"
      ]
     },
     "execution_count": 78,
     "metadata": {},
     "output_type": "execute_result"
    }
   ],
   "source": [
    "set(s)"
   ]
  },
  {
   "cell_type": "code",
   "execution_count": 79,
   "id": "4d8195f4-46c3-4685-b719-5a32e68f89e0",
   "metadata": {},
   "outputs": [
    {
     "data": {
      "text/plain": [
       "['p', 'r', 'a', 't', 'h', 'i', 'k', 's', 'h', 'a']"
      ]
     },
     "execution_count": 79,
     "metadata": {},
     "output_type": "execute_result"
    }
   ],
   "source": [
    "list(s)"
   ]
  },
  {
   "cell_type": "code",
   "execution_count": 81,
   "id": "a9d3da68-9d5c-4755-9d56-634d1fdcfad3",
   "metadata": {},
   "outputs": [
    {
     "data": {
      "text/plain": [
       "{1, 2, 5, 6, 'a'}"
      ]
     },
     "execution_count": 81,
     "metadata": {},
     "output_type": "execute_result"
    }
   ],
   "source": [
    "s1 = {1, 2, 3, 4}\n",
    "s2 = {3, 4, 5, 6, 'a'}\n",
    "\n",
    "s1 ^ s2"
   ]
  },
  {
   "cell_type": "code",
   "execution_count": 82,
   "id": "077ef118-da37-4fcf-bdab-087a0166e180",
   "metadata": {},
   "outputs": [],
   "source": [
    "set1 = {'Mahesh', 'Lakith', 25, 26}"
   ]
  },
  {
   "cell_type": "code",
   "execution_count": 90,
   "id": "c267ede6-4bc0-4fa0-908b-1d272b68e43e",
   "metadata": {},
   "outputs": [],
   "source": [
    "d1 = {'name': 'Prathiksha',\n",
    "    'age' : 25,\n",
    "     'salary' : 1000000}"
   ]
  },
  {
   "cell_type": "code",
   "execution_count": 91,
   "id": "5cbf087a-07d8-49f7-a76f-81455317b246",
   "metadata": {},
   "outputs": [
    {
     "data": {
      "text/plain": [
       "1000000"
      ]
     },
     "execution_count": 91,
     "metadata": {},
     "output_type": "execute_result"
    }
   ],
   "source": [
    "d1['salary']"
   ]
  },
  {
   "cell_type": "code",
   "execution_count": 93,
   "id": "47959be3-c1ed-47a0-861b-2c498242fc0b",
   "metadata": {},
   "outputs": [
    {
     "data": {
      "text/plain": [
       "{'r': 'red', 'g': 'green', 'b': 'blue'}"
      ]
     },
     "execution_count": 93,
     "metadata": {},
     "output_type": "execute_result"
    }
   ],
   "source": [
    "l1 = ['r', 'g', 'b']\n",
    "l2 = ['red', 'green', 'blue']\n",
    "\n",
    "dict(zip(l1 , l2))"
   ]
  },
  {
   "cell_type": "code",
   "execution_count": 114,
   "id": "ee05e911-5672-45b8-95d0-5e35c97547f8",
   "metadata": {},
   "outputs": [
    {
     "name": "stdout",
     "output_type": "stream",
     "text": [
      "{'m': 1, 'i': 4, 's': 4, 'p': 2}\n"
     ]
    }
   ],
   "source": [
    "s = 'mississippi'\n",
    "\n",
    "ch = {}\n",
    "\n",
    "for i in s:\n",
    "    if i in ch:\n",
    "        ch[i] = ch[i] + 1\n",
    "    else:\n",
    "        ch[i] = 1\n",
    "\n",
    "print(ch)\n",
    "\n"
   ]
  },
  {
   "cell_type": "code",
   "execution_count": 112,
   "id": "0c905737-890b-45d1-af62-0c0d097ebeab",
   "metadata": {},
   "outputs": [
    {
     "name": "stdout",
     "output_type": "stream",
     "text": [
      "{'m': 1, 'i': 4, 's': 4, 'p': 2}\n"
     ]
    }
   ],
   "source": [
    "s = 'mississippi'\n",
    "\n",
    "ch = {}\n",
    "\n",
    "for i in s:\n",
    "    if i in ch:\n",
    "        ch[i] = ch[i] + 1\n",
    "    else:\n",
    "        ch[i] = 1\n",
    "\n",
    "print(ch)\n"
   ]
  },
  {
   "cell_type": "code",
   "execution_count": 107,
   "id": "1aea6747-bf69-453c-a82b-717b1f9eaa72",
   "metadata": {},
   "outputs": [
    {
     "data": {
      "text/plain": [
       "{'Mahesh': 25, 'Lakith': 26}"
      ]
     },
     "execution_count": 107,
     "metadata": {},
     "output_type": "execute_result"
    }
   ],
   "source": [
    "a = ['Mahesh', 'Lakith', 25, 26]\n",
    "j=0\n",
    "for i in a:\n",
    "    if isinstance(i, str):\n",
    "        j=j+1\n",
    "x=a[:j:]\n",
    "y=a[j::]\n",
    "dict(zip(x,y))"
   ]
  },
  {
   "cell_type": "code",
   "execution_count": null,
   "id": "52b96ef0-5b7e-4094-aa9a-809e3d69bcf9",
   "metadata": {},
   "outputs": [],
   "source": []
  }
 ],
 "metadata": {
  "kernelspec": {
   "display_name": "Python 3 (ipykernel)",
   "language": "python",
   "name": "python3"
  },
  "language_info": {
   "codemirror_mode": {
    "name": "ipython",
    "version": 3
   },
   "file_extension": ".py",
   "mimetype": "text/x-python",
   "name": "python",
   "nbconvert_exporter": "python",
   "pygments_lexer": "ipython3",
   "version": "3.12.4"
  }
 },
 "nbformat": 4,
 "nbformat_minor": 5
}
