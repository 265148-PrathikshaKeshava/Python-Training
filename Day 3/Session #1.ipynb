{
 "cells": [
  {
   "cell_type": "markdown",
   "id": "518f40e7-8b78-4dd5-b22f-1590cc7cb566",
   "metadata": {},
   "source": [
    "Session #1: [45]\r\n",
    "-------------------------------------------------------------------------------------------------------------------\r\n",
    "basket = [\"Apple\", \"Banana\", \"Cherry\", \"Mango\"]  \r\n",
    "Task: Insert \"Grapes\" between \"Banana\" and \"Cherry\".  \r\n",
    "\r\n",
    "data = [10, 20, [30, 40, 50], 60, 70]  \r\n",
    "Task: Change 40 to 45 inside the nested list.  \r\n",
    "\r\n",
    "nums = [3, 6, 9, 12, 15, 18, 21]  \r\n",
    "Task: Extract [9, 12, 15] and reverse it.  \r\n",
    "\r\n",
    "numbers = [5, 3, 8, 5, 10, 5, 12, 5]  \r\n",
    "Task: Remove all occurrences of 5 from numbers.  \r\n",
    "\r\n",
    "list1 = [8, 3, 1, 7]  \r\n",
    "list2 = [4, 9, 2, 6]  \r\n",
    "Task: Merge list1 and list2, then sort the combined list.  \r\n",
    "\r\n",
    "colors = (\"Red\", \"Green\", \"Blue\", \"Yellow\")  \r\n",
    "Task: Convert colors to a list, change \"Green\" to \"Cyan\", and convert it back to a tuple.  \r\n",
    "\r\n",
    "names = [\"Alice\", \"Bob\", \"Charlie\", \"David\", \"Eve\"]  \r\n",
    "Task: Find the index of \"Charlie\".  \r\n",
    "\r\n",
    "nums_tuple = (4, 2, 4, 6, 4, 8, 4, 10)  \r\n",
    "Task: Count how many times 4 appears in nums_tuple.  \r\n",
    "\r\n",
    "values = [10, 20, 30, 40, 50]  \r\n",
    "Task: Swap the first and last elements.  \r\n",
    "\r\n",
    "values = []\r\n",
    "Task: Generate a list of squares for numbers from 1 to 10.  \r\n",
    "\r\n",
    "my_tuple = (1, 2, 3, 4, 5)  \r\n",
    "Task: Reverse my_tuple without converting it to a list.  \r\n",
    "\r\n",
    "data = [23, 45, 67, 12, 89, 34]  \r\n",
    "Task: Find the maximum and minimum values in data.  \r\n",
    "\r\n",
    "nums = [10, 20, 30, 40, 50, 60, 70]  \r\n",
    "Task: Extract every second element from nums.  \r\n",
    "\r\n",
    "nested_list = [[1, 2, 3], [4, 5, 6], [7, 8, 9]]  \r\n",
    "Task: Convert nested_list into a single flat list.  \r\n",
    "\r\n",
    "list_a = [1, 2, 3, 4, 5, 6]  \r\n",
    "list_b = [4, 5, 6, 7, 8, 9]  \r\n",
    "Task: Find common elements between list_a and list_b.  \r\n",
    "\r\n",
    "scores = [78, 55, 92, 30, 88, 62]  \r\n",
    "Task: Sort scores in descending order.  \r\n",
    "\r\n",
    "my_tuple = (1, 2, 3)  \r\n",
    "Task: Repeat my_tuple three times and store the result.  \r\n",
    "\r\n",
    "numbers = [1, 2, 2, 3, 4, 4, 5, 6, 6]  \r\n",
    "Task: Remove duplicates while keeping the order.  \r\n",
    "\r\n",
    "words = [\"Hello\", \"World\", \"Python\", \"Programming\"]  \r\n",
    "Task: Insert \"Amazing\" at index 2.  \r\n",
    "\r\n",
    "pairs = [(\"a\", 1), (\"b\", 2), (\"c\", 3)]  \r\n",
    "Task: Convert pairs into a dictionary.  "
   ]
  },
  {
   "cell_type": "code",
   "execution_count": 1,
   "id": "03ed90c4-99e4-4dd8-8ff0-cfb384bc7d08",
   "metadata": {},
   "outputs": [],
   "source": [
    "basket = [\"Apple\", \"Banana\", \"Cherry\", \"Mango\"]"
   ]
  },
  {
   "cell_type": "code",
   "execution_count": 2,
   "id": "ed47fba9-e383-4729-ae15-1267088be033",
   "metadata": {},
   "outputs": [],
   "source": [
    "basket = [\"Apple\", \"Banana\", \"Cherry\", \"Mango\"]\n",
    "basket.insert(2, \"Grapes\")"
   ]
  },
  {
   "cell_type": "code",
   "execution_count": 3,
   "id": "cf0c202e-51c2-4574-904f-11289d749d47",
   "metadata": {},
   "outputs": [],
   "source": [
    "data = [10, 20, [30, 40, 50], 60, 70]  "
   ]
  },
  {
   "cell_type": "code",
   "execution_count": 5,
   "id": "480fdf9f-531b-4bea-81cb-d63bf4d91436",
   "metadata": {},
   "outputs": [
    {
     "data": {
      "text/plain": [
       "[10, 20, [30, 45, 50], 60, 70]"
      ]
     },
     "execution_count": 5,
     "metadata": {},
     "output_type": "execute_result"
    }
   ],
   "source": [
    "data[2][1] = 45\n",
    "data"
   ]
  },
  {
   "cell_type": "code",
   "execution_count": 16,
   "id": "639c48f1-3d51-45de-9385-d291b52a434e",
   "metadata": {},
   "outputs": [],
   "source": [
    "nums = [3, 6, 9, 12, 15, 18, 21]\n",
    "temp = nums[2:5]"
   ]
  },
  {
   "cell_type": "code",
   "execution_count": 17,
   "id": "9c74e912-e826-4cbe-82aa-7411958a40d1",
   "metadata": {},
   "outputs": [],
   "source": [
    "temp.reverse()"
   ]
  },
  {
   "cell_type": "code",
   "execution_count": 18,
   "id": "d851a47b-a261-4800-8899-74d65c4c68ab",
   "metadata": {},
   "outputs": [
    {
     "data": {
      "text/plain": [
       "[15, 12, 9]"
      ]
     },
     "execution_count": 18,
     "metadata": {},
     "output_type": "execute_result"
    }
   ],
   "source": [
    "temp"
   ]
  },
  {
   "cell_type": "code",
   "execution_count": 21,
   "id": "430d8d72-b901-4fec-99e5-32d43036c6c6",
   "metadata": {},
   "outputs": [],
   "source": [
    "numbers = [5, 3, 8, 5, 10, 5, 12, 5] "
   ]
  },
  {
   "cell_type": "code",
   "execution_count": 25,
   "id": "ed172174-de6e-4203-aa53-6109b98014af",
   "metadata": {},
   "outputs": [],
   "source": [
    "for items in numbers:\n",
    "    if items == 5:\n",
    "        numbers.remove(items)"
   ]
  },
  {
   "cell_type": "code",
   "execution_count": 26,
   "id": "59b3cc04-6a39-4ccc-8759-2fc776264e4c",
   "metadata": {},
   "outputs": [
    {
     "data": {
      "text/plain": [
       "[3, 8, 10, 12]"
      ]
     },
     "execution_count": 26,
     "metadata": {},
     "output_type": "execute_result"
    }
   ],
   "source": [
    "numbers"
   ]
  },
  {
   "cell_type": "code",
   "execution_count": 28,
   "id": "62d75957-c5b6-4ad7-926e-bcb876db95da",
   "metadata": {},
   "outputs": [
    {
     "data": {
      "text/plain": [
       "[1, 2, 3, 4, 6, 7, 8, 9]"
      ]
     },
     "execution_count": 28,
     "metadata": {},
     "output_type": "execute_result"
    }
   ],
   "source": [
    "list1 = [8, 3, 1, 7]  \n",
    "list2 = [4, 9, 2, 6]  \n",
    "\n",
    "list(sorted(list1 + list2))\n"
   ]
  },
  {
   "cell_type": "code",
   "execution_count": 29,
   "id": "b4e105b6-f933-415c-9152-2e7c7ca0fc73",
   "metadata": {},
   "outputs": [],
   "source": [
    "colors = (\"Red\", \"Green\", \"Blue\", \"Yellow\")  \n",
    "#colors = (\"Red\", \"Green\", \"Blue\", \"Yellow\")  \n",
    "#Task: Convert colors to a list, change \"Green\" to \"Cyan\", and convert it back to a tuple.  "
   ]
  },
  {
   "cell_type": "code",
   "execution_count": 30,
   "id": "6966fd3e-f6a3-4cc5-ac6a-bbd7ed32f3c3",
   "metadata": {},
   "outputs": [],
   "source": [
    "temp1 = list(colors)"
   ]
  },
  {
   "cell_type": "code",
   "execution_count": 31,
   "id": "d28db816-3450-43fe-a420-e79bdfbca72f",
   "metadata": {},
   "outputs": [],
   "source": [
    "temp1[1:2] = [\"Cyan\"]"
   ]
  },
  {
   "cell_type": "code",
   "execution_count": 32,
   "id": "d2fc543d-c2d0-470b-a29c-8019886dbdde",
   "metadata": {},
   "outputs": [],
   "source": [
    "colors = tuple(temp1)"
   ]
  },
  {
   "cell_type": "code",
   "execution_count": 33,
   "id": "04a670a2-34a7-4928-84ff-8b727f11898b",
   "metadata": {},
   "outputs": [
    {
     "data": {
      "text/plain": [
       "('Red', 'Cyan', 'Blue', 'Yellow')"
      ]
     },
     "execution_count": 33,
     "metadata": {},
     "output_type": "execute_result"
    }
   ],
   "source": [
    "colors"
   ]
  },
  {
   "cell_type": "code",
   "execution_count": 34,
   "id": "cd2a7ff6-b915-49b8-bffa-68c037b9cb97",
   "metadata": {},
   "outputs": [
    {
     "data": {
      "text/plain": [
       "2"
      ]
     },
     "execution_count": 34,
     "metadata": {},
     "output_type": "execute_result"
    }
   ],
   "source": [
    "names = [\"Alice\", \"Bob\", \"Charlie\", \"David\", \"Eve\"]  \n",
    "#Task: Find the index of \"Charlie\".  \n",
    "names.index(\"Charlie\")\n"
   ]
  },
  {
   "cell_type": "code",
   "execution_count": 36,
   "id": "0830445b-07d4-489c-85f2-c1a3a8cbc733",
   "metadata": {},
   "outputs": [
    {
     "data": {
      "text/plain": [
       "4"
      ]
     },
     "execution_count": 36,
     "metadata": {},
     "output_type": "execute_result"
    }
   ],
   "source": [
    "nums_tuple = (4, 2, 4, 6, 4, 8, 4, 10)  \n",
    "#Task: Count how many times 4 appears in nums_tuple.\n",
    "nums_tuple.count(4)"
   ]
  },
  {
   "cell_type": "code",
   "execution_count": 39,
   "id": "900edc77-317f-48e2-a515-d76606a02a68",
   "metadata": {},
   "outputs": [
    {
     "data": {
      "text/plain": [
       "[50, 20, 30, 40, 10]"
      ]
     },
     "execution_count": 39,
     "metadata": {},
     "output_type": "execute_result"
    }
   ],
   "source": [
    "values = [10, 20, 30, 40, 50]  \n",
    "#Task: Swap the first and last elements.  \n",
    "\n",
    "temp = values[0]\n",
    "values[0] = values[-1]\n",
    "values[-1] = temp\n",
    "\n",
    "values"
   ]
  },
  {
   "cell_type": "code",
   "execution_count": 42,
   "id": "da69b64e-833e-4a07-a201-9efb85cc9dfe",
   "metadata": {},
   "outputs": [
    {
     "data": {
      "text/plain": [
       "[0, 1, 4, 9, 16, 25, 36, 49, 64, 81]"
      ]
     },
     "execution_count": 42,
     "metadata": {},
     "output_type": "execute_result"
    }
   ],
   "source": [
    "values = []\n",
    "#Task: Generate a list of squares for numbers from 1 to 10.  \n",
    "\n",
    "for i in range(10):\n",
    "    values.append(i**2)\n",
    "\n",
    "values"
   ]
  },
  {
   "cell_type": "code",
   "execution_count": 43,
   "id": "2c2829c4-cd39-4028-80d7-3ca592468ba4",
   "metadata": {},
   "outputs": [
    {
     "data": {
      "text/plain": [
       "(5, 4, 3, 2, 1)"
      ]
     },
     "execution_count": 43,
     "metadata": {},
     "output_type": "execute_result"
    }
   ],
   "source": [
    "my_tuple = (1, 2, 3, 4, 5)  \n",
    "#Task: Reverse my_tuple without converting it to a list.  \n",
    "\n",
    "tuple(reversed(my_tuple))"
   ]
  },
  {
   "cell_type": "code",
   "execution_count": 47,
   "id": "52633e58-de8e-4f15-96f6-9c395f644878",
   "metadata": {},
   "outputs": [
    {
     "data": {
      "text/plain": [
       "12"
      ]
     },
     "execution_count": 47,
     "metadata": {},
     "output_type": "execute_result"
    }
   ],
   "source": [
    "data = [23, 45, 67, 12, 89, 34]  \n",
    "#Task: Find the maximum and minimum values in data.  \n",
    "\n",
    "min(data)\n"
   ]
  },
  {
   "cell_type": "code",
   "execution_count": 48,
   "id": "2069b799-5fd3-4917-a5a6-b41bda2a19ad",
   "metadata": {},
   "outputs": [
    {
     "data": {
      "text/plain": [
       "89"
      ]
     },
     "execution_count": 48,
     "metadata": {},
     "output_type": "execute_result"
    }
   ],
   "source": [
    "max(data)"
   ]
  },
  {
   "cell_type": "code",
   "execution_count": 49,
   "id": "af83fc1b-cd35-46e3-aea9-2c2232180c17",
   "metadata": {},
   "outputs": [
    {
     "data": {
      "text/plain": [
       "[10, 30, 50, 70]"
      ]
     },
     "execution_count": 49,
     "metadata": {},
     "output_type": "execute_result"
    }
   ],
   "source": [
    "nums = [10, 20, 30, 40, 50, 60, 70]  \n",
    "#Task: Extract every second element from nums. \n",
    "nums[::2]"
   ]
  },
  {
   "cell_type": "code",
   "execution_count": 50,
   "id": "0fba8b75-dd19-4d27-9936-6eb7302838bf",
   "metadata": {},
   "outputs": [
    {
     "data": {
      "text/plain": [
       "[1, 2, 3, 4, 5, 6, 7, 8, 9]"
      ]
     },
     "execution_count": 50,
     "metadata": {},
     "output_type": "execute_result"
    }
   ],
   "source": [
    "nested_list = [[1, 2, 3], [4, 5, 6], [7, 8, 9]]  \n",
    "#Task: Convert nested_list into a single flat list. \n",
    "nested_list[0]+nested_list[1]+nested_list[2]"
   ]
  },
  {
   "cell_type": "code",
   "execution_count": 67,
   "id": "b3ac1d42-c24c-4934-946b-6d879ecd016c",
   "metadata": {},
   "outputs": [
    {
     "data": {
      "text/plain": [
       "[4, 5, 6]"
      ]
     },
     "execution_count": 67,
     "metadata": {},
     "output_type": "execute_result"
    }
   ],
   "source": [
    "list_a = [1, 2, 3, 4, 5, 6]  \n",
    "list_b = [4, 5, 6, 7, 8, 9]  \n",
    "#Task: Find common elements between list_a and list_b.  \n",
    "temp2 = []\n",
    "for i in list_a:\n",
    "    for j in list_b:\n",
    "        if i==j:\n",
    "            temp2.append(i)\n",
    "temp2"
   ]
  },
  {
   "cell_type": "code",
   "execution_count": 69,
   "id": "d8d001d6-57fd-424c-8984-1b9e3097ccef",
   "metadata": {},
   "outputs": [
    {
     "data": {
      "text/plain": [
       "[92, 88, 78, 62, 55, 30]"
      ]
     },
     "execution_count": 69,
     "metadata": {},
     "output_type": "execute_result"
    }
   ],
   "source": [
    "scores = [78, 55, 92, 30, 88, 62]  \n",
    "#Task: Sort scores in descending order.  \n",
    "\n",
    "scores.sort(reverse='True')\n",
    "\n",
    "scores"
   ]
  },
  {
   "cell_type": "code",
   "execution_count": 70,
   "id": "b4dbbc72-75f4-4fde-97a0-e8d765063d33",
   "metadata": {},
   "outputs": [
    {
     "data": {
      "text/plain": [
       "(1, 2, 3, 1, 2, 3, 1, 2, 3)"
      ]
     },
     "execution_count": 70,
     "metadata": {},
     "output_type": "execute_result"
    }
   ],
   "source": [
    "my_tuple = (1, 2, 3)  \n",
    "#Task: Repeat my_tuple three times and store the result.  \n",
    "\n",
    "my_tuple*3"
   ]
  },
  {
   "cell_type": "code",
   "execution_count": 84,
   "id": "d342bcb2-3c6e-4634-bb67-cea453cfe3c8",
   "metadata": {},
   "outputs": [
    {
     "name": "stdout",
     "output_type": "stream",
     "text": [
      "[1, 2, 3, 4, 5, 6]\n"
     ]
    }
   ],
   "source": [
    "numbers = [1, 2, 2, 3, 4, 4, 5, 6, 6]  \n",
    "#Task: Remove duplicates while keeping the order.  \n",
    "unique = []\n",
    "for i in numbers:\n",
    "    a = numbers.count(i)\n",
    "\n",
    "    if a > 1:\n",
    "        numbers.remove(i)\n",
    "\n",
    "numbers.sort()\n",
    "\n",
    "\n",
    "for num in numbers:\n",
    "    if num not in unique:\n",
    "        unique.append(num)\n",
    "\n",
    "print(unique)"
   ]
  },
  {
   "cell_type": "code",
   "execution_count": 74,
   "id": "b4c1b1bc-de27-4ed3-bbfc-b467a22048fa",
   "metadata": {},
   "outputs": [
    {
     "data": {
      "text/plain": [
       "['Hello', 'World', 'Amazing', 'Python', 'Programming']"
      ]
     },
     "execution_count": 74,
     "metadata": {},
     "output_type": "execute_result"
    }
   ],
   "source": [
    "words = [\"Hello\", \"World\", \"Python\", \"Programming\"]  \n",
    "#Task: Insert \"Amazing\" at index 2.  \n",
    "\n",
    "words.insert(2, 'Amazing')\n",
    "words"
   ]
  },
  {
   "cell_type": "code",
   "execution_count": 77,
   "id": "6219db61-b456-4b38-b780-5855c91a1fa2",
   "metadata": {},
   "outputs": [
    {
     "data": {
      "text/plain": [
       "{'a': 1, 'b': 2, 'c': 3}"
      ]
     },
     "execution_count": 77,
     "metadata": {},
     "output_type": "execute_result"
    }
   ],
   "source": [
    "pairs = [(\"a\", 1), (\"b\", 2), (\"c\", 3)]  \n",
    "#Task: Convert pairs into a dictionary.  \n",
    "a = dict(pairs)\n",
    "a"
   ]
  },
  {
   "cell_type": "code",
   "execution_count": 78,
   "id": "c4f07228-250c-482d-b1e7-a0d2df5f7f9a",
   "metadata": {},
   "outputs": [
    {
     "data": {
      "text/plain": [
       "dict"
      ]
     },
     "execution_count": 78,
     "metadata": {},
     "output_type": "execute_result"
    }
   ],
   "source": [
    "type(a)"
   ]
  },
  {
   "cell_type": "code",
   "execution_count": null,
   "id": "7f2155f7-c364-49b3-b11a-b2be4d60255a",
   "metadata": {},
   "outputs": [],
   "source": []
  }
 ],
 "metadata": {
  "kernelspec": {
   "display_name": "Python 3 (ipykernel)",
   "language": "python",
   "name": "python3"
  },
  "language_info": {
   "codemirror_mode": {
    "name": "ipython",
    "version": 3
   },
   "file_extension": ".py",
   "mimetype": "text/x-python",
   "name": "python",
   "nbconvert_exporter": "python",
   "pygments_lexer": "ipython3",
   "version": "3.12.4"
  }
 },
 "nbformat": 4,
 "nbformat_minor": 5
}
