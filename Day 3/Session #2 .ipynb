{
 "cells": [
  {
   "cell_type": "markdown",
   "id": "7da9e53e-319d-44c7-8c85-ace3d4088784",
   "metadata": {},
   "source": [
    "Session #2 [30 - 40]\n",
    "-------------------------------------------------------------------------------------------------------------------\n",
    "\n",
    "\n",
    "nums = [1, 2, 3, 4, 5]  \n",
    "Task: Use a for loop to calculate the sum of all elements in nums.  \n",
    "\n",
    "count = 5  \n",
    "Task: Use a while loop to print numbers from count down to 1.  \n",
    "\n",
    "fruits = [\"Apple\", \"Banana\", \"Cherry\", \"Mango\"]  \n",
    "Task: Use a for loop to print each fruit in uppercase.  \n",
    "\n",
    "num = 1  \n",
    "Task: Use a while loop to print squares of numbers from 1 to 10.  \n",
    "\n",
    "values = [2, 4, 6, 8, 10]  \n",
    "Task: Use a for loop to create a new list containing cubes of values.  \n",
    "\n",
    "sentence = \"Python is fun\"  \n",
    "Task: Use a for loop to count how many times 'o' appears in sentence.  \n",
    "\n",
    "num = 10  \n",
    "Task: Use a while loop to print even numbers from 10 to 2 in reverse order.  \n",
    "\n",
    "matrix = [[1, 2], [3, 4], [5, 6]]  \n",
    "Task: Use nested for loops to print all elements in matrix.  \n",
    "\n",
    "num = 7  \n",
    "Task: Use a while loop to find the factorial of num.  \n",
    "\n",
    "numbers = [3, 9, 12, 18, 21, 25]  \n",
    "Task: Use a for loop to print only the numbers divisible by 3. "
   ]
  },
  {
   "cell_type": "code",
   "execution_count": 4,
   "id": "633d9769-ab25-4e76-aafe-63e20c354594",
   "metadata": {},
   "outputs": [
    {
     "name": "stdout",
     "output_type": "stream",
     "text": [
      "15\n"
     ]
    }
   ],
   "source": [
    "nums = [1, 2, 3, 4, 5]\n",
    "#Task: Use a for loop to calculate the sum of all elements in nums.\n",
    "\n",
    "sums = 0\n",
    "for i in nums:\n",
    "    sums = sums + i\n",
    "\n",
    "print(sums)\n"
   ]
  },
  {
   "cell_type": "code",
   "execution_count": 6,
   "id": "504fe2f4-1837-4947-a5bd-517b75448d02",
   "metadata": {},
   "outputs": [
    {
     "name": "stdout",
     "output_type": "stream",
     "text": [
      "5\n",
      "4\n",
      "3\n",
      "2\n",
      "1\n"
     ]
    }
   ],
   "source": [
    "count = 5\n",
    "#Task: Use a while loop to print numbers from count down to 1.\n",
    "\n",
    "while count >= 1:\n",
    "    print(count)\n",
    "    count -= 1\n",
    "    "
   ]
  },
  {
   "cell_type": "code",
   "execution_count": 13,
   "id": "3d616133-0118-41b4-ae44-6ab74477bf8a",
   "metadata": {},
   "outputs": [
    {
     "name": "stdout",
     "output_type": "stream",
     "text": [
      "APPLE\n",
      "BANANA\n",
      "CHERRY\n",
      "MANGO\n"
     ]
    }
   ],
   "source": [
    "fruits = [\"Apple\", \"Banana\", \"Cherry\", \"Mango\"]\n",
    "#Task: Use a for loop to print each fruit in uppercase.\n",
    "\n",
    "for i in fruits:\n",
    "    tr1 = str(i)\n",
    "    print(tr1.upper())"
   ]
  },
  {
   "cell_type": "code",
   "execution_count": 39,
   "id": "5dc04f4d-84ca-47ab-ba9d-14591954f8be",
   "metadata": {},
   "outputs": [
    {
     "name": "stdout",
     "output_type": "stream",
     "text": [
      "1 1\n",
      "2 4\n",
      "3 9\n",
      "4 16\n",
      "5 25\n",
      "6 36\n",
      "7 49\n",
      "8 64\n",
      "9 81\n",
      "10 100\n"
     ]
    }
   ],
   "source": [
    "num = 1\n",
    "#Task: Use a while loop to print squares of numbers from 1 to 10.\n",
    "while num < 11:\n",
    "    print(num, num**2)\n",
    "    num += 1\n"
   ]
  },
  {
   "cell_type": "code",
   "execution_count": 23,
   "id": "4302e89b-25ba-4f6d-821d-c16a321402f9",
   "metadata": {},
   "outputs": [
    {
     "data": {
      "text/plain": [
       "[8, 64, 216, 512, 1000]"
      ]
     },
     "execution_count": 23,
     "metadata": {},
     "output_type": "execute_result"
    }
   ],
   "source": [
    "values = [2, 4, 6, 8, 10]\n",
    "new = []\n",
    "#Task: Use a for loop to create a new list containing cubes of values.\n",
    "for i in values:\n",
    "    new.append(i**3)\n",
    "new"
   ]
  },
  {
   "cell_type": "code",
   "execution_count": 32,
   "id": "7127bb95-5290-4d4f-b808-ed409c97af25",
   "metadata": {},
   "outputs": [
    {
     "name": "stdout",
     "output_type": "stream",
     "text": [
      "1\n"
     ]
    }
   ],
   "source": [
    "sentence = \"Python is fun\"\n",
    "#Task: Use a for loop to count how many times 'o' appears in sentence.\n",
    "count = 0\n",
    "\n",
    "for i in sentence:\n",
    "    if i == \"o\":\n",
    "        count += 1\n",
    "        \n",
    "print(count)"
   ]
  },
  {
   "cell_type": "code",
   "execution_count": 33,
   "id": "5f5419ac-731d-428b-8db2-0a53df70ae09",
   "metadata": {},
   "outputs": [
    {
     "name": "stdout",
     "output_type": "stream",
     "text": [
      "10\n",
      "8\n",
      "6\n",
      "4\n",
      "2\n"
     ]
    }
   ],
   "source": [
    "num = 10\n",
    "#Task: Use a while loop to print even numbers from 10 to 2 in reverse order.\n",
    "\n",
    "while(num >= 2):\n",
    "    if num%2 == 0:\n",
    "        print(num)\n",
    "    num -= 1\n"
   ]
  },
  {
   "cell_type": "code",
   "execution_count": 48,
   "id": "204423e8-6a06-4fb6-8b3d-47b32833ba1e",
   "metadata": {},
   "outputs": [
    {
     "name": "stdout",
     "output_type": "stream",
     "text": [
      "1\n",
      "2\n",
      "3\n",
      "4\n",
      "5\n",
      "6\n"
     ]
    }
   ],
   "source": [
    "matrix = [[1, 2], [3, 4], [5, 6]]\n",
    "#Task: Use nested for loops to print all elements in matrix.\n",
    "\n",
    "for i in matrix:\n",
    "    for j in i:\n",
    "        print(j)\n",
    "\n"
   ]
  },
  {
   "cell_type": "code",
   "execution_count": 40,
   "id": "389f29a4-1de7-4231-9915-6c2e844951a1",
   "metadata": {},
   "outputs": [
    {
     "name": "stdout",
     "output_type": "stream",
     "text": [
      "5040\n"
     ]
    }
   ],
   "source": [
    "num = 7\n",
    "#Task: Use a while loop to find the factorial of num.\n",
    "fact = 1\n",
    "\n",
    "while num >= 1:\n",
    "    fact = fact * num\n",
    "    num -= 1\n",
    "print(fact)"
   ]
  },
  {
   "cell_type": "code",
   "execution_count": 41,
   "id": "b0fab3f0-79c4-4e49-8df0-e47c88e82c96",
   "metadata": {},
   "outputs": [
    {
     "name": "stdout",
     "output_type": "stream",
     "text": [
      "3\n",
      "9\n",
      "12\n",
      "18\n",
      "21\n"
     ]
    }
   ],
   "source": [
    "numbers = [3, 9, 12, 18, 21, 25]\n",
    "#Task: Use a for loop to print only the numbers divisible by 3.\n",
    "\n",
    "for i in numbers:\n",
    "    if i%3 == 0:\n",
    "        print(i)"
   ]
  },
  {
   "cell_type": "code",
   "execution_count": null,
   "id": "03b45148-594a-40ac-91f0-0328f64ca0f3",
   "metadata": {},
   "outputs": [],
   "source": []
  }
 ],
 "metadata": {
  "kernelspec": {
   "display_name": "Python 3 (ipykernel)",
   "language": "python",
   "name": "python3"
  },
  "language_info": {
   "codemirror_mode": {
    "name": "ipython",
    "version": 3
   },
   "file_extension": ".py",
   "mimetype": "text/x-python",
   "name": "python",
   "nbconvert_exporter": "python",
   "pygments_lexer": "ipython3",
   "version": "3.12.4"
  }
 },
 "nbformat": 4,
 "nbformat_minor": 5
}
