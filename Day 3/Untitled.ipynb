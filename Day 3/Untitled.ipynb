{
 "cells": [
  {
   "cell_type": "code",
   "execution_count": 1,
   "id": "5339f0ad-3e54-402c-93c6-4f6d09238f8b",
   "metadata": {},
   "outputs": [
    {
     "name": "stdout",
     "output_type": "stream",
     "text": [
      "1 2 3\n",
      "4 5 6\n",
      "7 8 9\n"
     ]
    }
   ],
   "source": [
    "# Given list (matrix)\n",
    "list1 = [[1, 2, 3], [4, 5, 6], [7, 8, 9]]\n",
    "\n",
    "# Loop through each row and print elements on a single line\n",
    "for row in list1:\n",
    "    print(\" \".join(map(str, row)))\n"
   ]
  },
  {
   "cell_type": "code",
   "execution_count": 2,
   "id": "389ff920-e890-40fb-8723-7ec295ccbcf3",
   "metadata": {},
   "outputs": [
    {
     "name": "stdout",
     "output_type": "stream",
     "text": [
      "[1, 2, 3]\n",
      "[4, 5, 6]\n",
      "[7, 8, 9]\n"
     ]
    }
   ],
   "source": [
    "for i in list1:\n",
    "    print(i)"
   ]
  },
  {
   "cell_type": "code",
   "execution_count": 6,
   "id": "f5d95db9-56b1-42f0-8fd5-c9f79129e627",
   "metadata": {},
   "outputs": [
    {
     "name": "stdout",
     "output_type": "stream",
     "text": [
      "Prog separate the prime numbers from the user input\n",
      "------------------------------------------------------------\n"
     ]
    }
   ],
   "source": [
    "# Prog to separate the prime numbers from the user input\n",
    "\n",
    "print(\"Prog separate the prime numbers from the user input\")\n",
    "print(\"-\"*60)"
   ]
  },
  {
   "cell_type": "code",
   "execution_count": 10,
   "id": "93580dc7-07f5-4308-8e53-3b2f327d0c4b",
   "metadata": {},
   "outputs": [
    {
     "data": {
      "text/plain": [
       "[4, 9, 16, 100]"
      ]
     },
     "execution_count": 10,
     "metadata": {},
     "output_type": "execute_result"
    }
   ],
   "source": [
    "[n**2 for n in range(20) if n in [2, 4,3,10]]"
   ]
  },
  {
   "cell_type": "code",
   "execution_count": 11,
   "id": "3c7d0194-aec4-4c02-8d9a-05769dab7e2c",
   "metadata": {},
   "outputs": [
    {
     "data": {
      "text/plain": [
       "[0, 4, 16, 36, 64, 100, 144, 196, 256, 324]"
      ]
     },
     "execution_count": 11,
     "metadata": {},
     "output_type": "execute_result"
    }
   ],
   "source": [
    "[n**2 for n in range(20) if n%2 == 0]"
   ]
  },
  {
   "cell_type": "code",
   "execution_count": null,
   "id": "88f8bb13-afc8-452c-93fd-28a1e3ad5f2b",
   "metadata": {},
   "outputs": [],
   "source": []
  }
 ],
 "metadata": {
  "kernelspec": {
   "display_name": "Python 3 (ipykernel)",
   "language": "python",
   "name": "python3"
  },
  "language_info": {
   "codemirror_mode": {
    "name": "ipython",
    "version": 3
   },
   "file_extension": ".py",
   "mimetype": "text/x-python",
   "name": "python",
   "nbconvert_exporter": "python",
   "pygments_lexer": "ipython3",
   "version": "3.12.4"
  }
 },
 "nbformat": 4,
 "nbformat_minor": 5
}
