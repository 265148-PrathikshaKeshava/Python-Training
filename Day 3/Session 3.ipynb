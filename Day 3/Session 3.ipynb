{
 "cells": [
  {
   "cell_type": "markdown",
   "id": "a9189d36-f30b-4f52-b52e-5e96b556ff90",
   "metadata": {},
   "source": [
    "1. Count Word Frequency in a Sentence  \n",
    "Task: Given a sentence, count the occurrences of each word using a dictionary.  \n",
    "Example:  \n",
    "sentence = \"apple banana apple orange banana apple\"  \n",
    "Output: {'apple': 3, 'banana': 2, 'orange': 1}  \n",
    "\n",
    "2. Find Unique Elements in Two Lists Using Sets  \n",
    "Task: Given two lists, find the elements that are unique to each list using sets.  \n",
    "Example:  \n",
    "list1 = {1, 2, 3, 4}  \n",
    "list2 = {3, 4, 5, 6}  \n",
    "Output: Unique in list1: {1, 2}, Unique in list2: {5, 6}  \n",
    "\n",
    "3. Merge Two Dictionaries  \n",
    "Task: Merge two dictionaries and sum the values of common keys.  \n",
    "Example:  \n",
    "dict1 = {'a': 10, 'b': 20}  \n",
    "dict2 = {'b': 30, 'c': 40}  \n",
    "Output: {'a': 10, 'b': 50, 'c': 40}  \n",
    "\n",
    "4. Find the Intersection of Two Sets  \n",
    "Task: Given two sets, find the common elements.  \n",
    "Example:  \n",
    "set1 = {1, 2, 3, 4}  \n",
    "set2 = {3, 4, 5, 6}  \n",
    "Output: {3, 4}  \n",
    "\n",
    "5. Find the Most Frequent Element in a List  \n",
    "Task: Given a list, find the element that appears the most times.  \n",
    "Example:  \n",
    "numbers = [1, 3, 2, 3, 4, 3, 5, 2, 1, 3]  \n",
    "Output: Most frequent: 3 (appears 4 times)  \n",
    "\n",
    "6. Remove Duplicates from a List Using Sets  \n",
    "Task: Remove duplicates from a list while maintaining order.  \n",
    "Example:  \n",
    "lst = [1, 2, 2, 3, 4, 4, 5, 6, 6, 6]  \n",
    "Output: [1, 2, 3, 4, 5, 6]  \n",
    "\n",
    "7. Find Students Who Enrolled in Both Courses  \n",
    "Task: Given two sets of students, find those who are enrolled in both courses.  \n",
    "Example:  \n",
    "course_A = {\"Alice\", \"Bob\", \"Charlie\"}  \n",
    "course_B = {\"Bob\", \"David\", \"Charlie\"}  \n",
    "Output: {\"Bob\", \"Charlie\"}  \n",
    "\n",
    "8. Find the Union of Multiple Sets  \n",
    "Task: Find the union of three sets.  \n",
    "Example:  \n",
    "set1 = {1, 2, 3}  \n",
    "set2 = {3, 4, 5}  \n",
    "set3 = {5, 6, 7}  \n",
    "Output: {1, 2, 3, 4, 5, 6, 7}  \n",
    "\n",
    "9. Reverse a Dictionary (Keys Become Values, Values Become Keys)  \n",
    "Task: Swap keys and values in a dictionary.  \n",
    "Example:  \n",
    "original_dict = {'a': 1, 'b': 2, 'c': 3}  \n",
    "Output: {1: 'a', 2: 'b', 3: 'c'}  \n",
    "\n",
    "10. Check If Two Words Are Anagrams Using Dictionaries  \n",
    "Task: Given two words, check if they are anagrams (i.e., contain the same letters with the same frequency).  \n",
    "Example:  \n",
    "word1 = \"listen\"  \n",
    "word2 = \"silent\"  \n",
    "Output: True (They are anagrams)  "
   ]
  },
  {
   "cell_type": "markdown",
   "id": "b64485af-ad13-4011-a801-ec52dd250243",
   "metadata": {},
   "source": [
    "1. Count Word Frequency in a Sentence  \n",
    "Task: Given a sentence, count the occurrences of each word using a dictionary.  \n",
    "Example:  \n",
    "sentence = \"apple banana apple orange banana apple\"  \n",
    "Output: {'apple': 3, 'banana': 2, 'orange': 1}  \n",
    "\n",
    "2. Find Unique Elements in Two Lists Using Sets  \n",
    "Task: Given two lists, find the elements that are unique to each list using sets.  \n",
    "Example:  \n",
    "list1 = {1, 2, 3, 4}  \n",
    "list2 = {3, 4, 5, 6}  \n",
    "Output: Unique in list1: {1, 2}, Unique in list2: {5, 6}  \n",
    "\n",
    "3. Merge Two Dictionaries  \n",
    "Task: Merge two dictionaries and sum the values of common keys.  \n",
    "Example:  \n",
    "dict1 = {'a': 10, 'b': 20}  \n",
    "dict2 = {'b': 30, 'c': 40}  \n",
    "Output: {'a': 10, 'b': 50, 'c': 40}  \n",
    "\n",
    "4. Find the Intersection of Two Sets  \n",
    "Task: Given two sets, find the common elements.  \n",
    "Example:  \n",
    "set1 = {1, 2, 3, 4}  \n",
    "set2 = {3, 4, 5, 6}  \n",
    "Output: {3, 4}  \n",
    "\n",
    "5. Find the Most Frequent Element in a List  \n",
    "Task: Given a list, find the element that appears the most times.  \n",
    "Example:  \n",
    "numbers = [1, 3, 2, 3, 4, 3, 5, 2, 1, 3]  \n",
    "Output: Most frequent: 3 (appears 4 times)  \n",
    "\n",
    "6. Remove Duplicates from a List Using Sets  \n",
    "Task: Remove duplicates from a list while maintaining order.  \n",
    "Example:  \n",
    "lst = [1, 2, 2, 3, 4, 4, 5, 6, 6, 6]  \n",
    "Output: [1, 2, 3, 4, 5, 6]  \n",
    "\n",
    "7. Find Students Who Enrolled in Both Courses  \n",
    "Task: Given two sets of students, find those who are enrolled in both courses.  \n",
    "Example:  \n",
    "course_A = {\"Alice\", \"Bob\", \"Charlie\"}  \n",
    "course_B = {\"Bob\", \"David\", \"Charlie\"}  \n",
    "Output: {\"Bob\", \"Charlie\"}  \n",
    "\n",
    "8. Find the Union of Multiple Sets  \n",
    "Task: Find the union of three sets.  \n",
    "Example:  \n",
    "set1 = {1, 2, 3}  \n",
    "set2 = {3, 4, 5}  \n",
    "set3 = {5, 6, 7}  \n",
    "Output: {1, 2, 3, 4, 5, 6, 7}  \n",
    "\n",
    "9. Reverse a Dictionary (Keys Become Values, Values Become Keys)  \n",
    "Task: Swap keys and values in a dictionary.  \n",
    "Example:  \n",
    "original_dict = {'a': 1, 'b': 2, 'c': 3}  \n",
    "Output: {1: 'a', 2: 'b', 3: 'c'}  \n",
    "\n",
    "10. Check If Two Words Are Anagrams Using Dictionaries  \n",
    "Task: Given two words, check if they are anagrams (i.e., contain the same letters with the same frequency).  \n",
    "Example:  \n",
    "word1 = \"listen\"  \n",
    "word2 = \"silent\"  \n",
    "Output: True (They are anagrams)  "
   ]
  },
  {
   "cell_type": "markdown",
   "id": "f3b4cf14-55e5-4be5-b78a-04dafdc442f9",
   "metadata": {},
   "source": [
    "1. Count Word Frequency in a Sentence  \n",
    "Task: Given a sentence, count the occurrences of each word using a dictionary.  \n",
    "Example:  \n",
    "sentence = \"apple banana apple orange banana apple\"  \n",
    "Output: {'apple': 3, 'banana': 2, 'orange': 1}  "
   ]
  },
  {
   "cell_type": "code",
   "execution_count": 4,
   "id": "47ef58a7-7dda-462a-9017-3f568e35d22e",
   "metadata": {},
   "outputs": [],
   "source": [
    "sentence = \"apple banana apple orange banana apple\"  \n",
    "\n",
    "list1 = sentence.split(' ')"
   ]
  },
  {
   "cell_type": "code",
   "execution_count": 5,
   "id": "760321b4-a81d-4132-a763-2be538e5d1a5",
   "metadata": {},
   "outputs": [
    {
     "name": "stdout",
     "output_type": "stream",
     "text": [
      "{'apple': 3, 'banana': 2, 'orange': 1}\n"
     ]
    }
   ],
   "source": [
    "ch = {}\n",
    "\n",
    "for i in list1:\n",
    "    if i in ch:\n",
    "        ch[i] = ch[i] + 1\n",
    "    else:\n",
    "        ch[i] = 1\n",
    "\n",
    "print(ch)\n"
   ]
  },
  {
   "cell_type": "code",
   "execution_count": null,
   "id": "9ea9ecf5-31ee-42cd-b887-5025f8706809",
   "metadata": {},
   "outputs": [],
   "source": [
    "'''Find Unique Elements in Two Lists Using Sets\n",
    "Task: Given two lists, find the elements that are unique to each list using sets.\n",
    "Example:\n",
    "list1 = {1, 2, 3, 4}\n",
    "list2 = {3, 4, 5, 6}\n",
    "Output: Unique in list1: {1, 2}, Unique in list2: {5, 6}'''"
   ]
  },
  {
   "cell_type": "code",
   "execution_count": 8,
   "id": "2b791066-7e33-41db-bd74-c21ace195771",
   "metadata": {},
   "outputs": [
    {
     "data": {
      "text/plain": [
       "{1, 2}"
      ]
     },
     "execution_count": 8,
     "metadata": {},
     "output_type": "execute_result"
    }
   ],
   "source": [
    "list1 = {1, 2, 3, 4}\n",
    "list2 = {3, 4, 5, 6}\n",
    "\n",
    "list1.difference(list2)\n"
   ]
  },
  {
   "cell_type": "code",
   "execution_count": 9,
   "id": "01cd0e8b-bb69-499e-89de-b504107ad0f9",
   "metadata": {},
   "outputs": [
    {
     "data": {
      "text/plain": [
       "{5, 6}"
      ]
     },
     "execution_count": 9,
     "metadata": {},
     "output_type": "execute_result"
    }
   ],
   "source": [
    "list2.difference(list1)"
   ]
  },
  {
   "cell_type": "code",
   "execution_count": 10,
   "id": "32e8c98d-edee-484d-bbc7-be6458f3c73c",
   "metadata": {},
   "outputs": [
    {
     "data": {
      "text/plain": [
       "\"Merge Two Dictionaries\\nTask: Merge two dictionaries and sum the values of common keys.\\nExample:\\ndict1 = {'a': 10, 'b': 20}\\ndict2 = {'b': 30, 'c': 40}\\nOutput: {'a': 10, 'b': 50, 'c': 40}\""
      ]
     },
     "execution_count": 10,
     "metadata": {},
     "output_type": "execute_result"
    }
   ],
   "source": [
    "'''for key, value in dict2.items():\n",
    "        if key in dict1:\n",
    "            # If the key is in both dictionaries, sum the values\n",
    "            dict1[key] += value\n",
    "        else:\n",
    "            # If the key is only in dict2, add it to dict1\n",
    "            dict1[key] = valuefor key, value in dict2.items():\n",
    "        if key in dict1:\n",
    "            # If the key is in both dictionaries, sum the values\n",
    "            dict1[key] += value\n",
    "        else:\n",
    "            # If the key is only in dict2, add it to dict1\n",
    "            dict1[key] = value'''"
   ]
  },
  {
   "cell_type": "code",
   "execution_count": 52,
   "id": "efa46961-21b2-4404-9642-1bd91442c98c",
   "metadata": {},
   "outputs": [
    {
     "data": {
      "text/plain": [
       "{'a': 10, 'b': 50, 'c': 40}"
      ]
     },
     "execution_count": 52,
     "metadata": {},
     "output_type": "execute_result"
    }
   ],
   "source": [
    "dict1 = {'a': 10, 'b': 20}  \n",
    "dict2 = {'b': 30, 'c': 40} \n",
    "c_dict = {}\n",
    "for i in dict1.keys():\n",
    "    if i in dict2:\n",
    "        c_dict[i] = dict1[i] + dict2[i]\n",
    "    else:\n",
    "        c_dict[i] = dict1[i]\n",
    "\n",
    "for i in dict2.keys():\n",
    "    if i not in dict1:\n",
    "        c_dict[i] = dict2[i]\n",
    "\n",
    "c_dict"
   ]
  },
  {
   "cell_type": "code",
   "execution_count": 56,
   "id": "53bb4d37-cf35-4b48-82bb-a84cd8e660b2",
   "metadata": {},
   "outputs": [],
   "source": [
    "dict1 = {'a': 10, 'b': 20}  \n",
    "dict2 = {'b': 30, 'c': 40} \n",
    "d = {}\n",
    "\n",
    "for k,v in dict2.items():\n",
    "    d[k] += "
   ]
  },
  {
   "cell_type": "code",
   "execution_count": 13,
   "id": "48327c25-6600-4a82-9e11-439a0fe26779",
   "metadata": {},
   "outputs": [
    {
     "data": {
      "text/plain": [
       "'Find the Intersection of Two Sets\\nTask: Given two sets, find the common elements.\\nExample:\\nset1 = {1, 2, 3, 4}\\nset2 = {3, 4, 5, 6}\\nOutput: {3, 4}'"
      ]
     },
     "execution_count": 13,
     "metadata": {},
     "output_type": "execute_result"
    }
   ],
   "source": [
    "'''Find the Intersection of Two Sets\n",
    "Task: Given two sets, find the common elements.\n",
    "Example:\n",
    "set1 = {1, 2, 3, 4}\n",
    "set2 = {3, 4, 5, 6}\n",
    "Output: {3, 4}'''"
   ]
  },
  {
   "cell_type": "code",
   "execution_count": 14,
   "id": "2be8023d-ebbc-437a-a744-3fe10d24cd11",
   "metadata": {},
   "outputs": [
    {
     "data": {
      "text/plain": [
       "{3, 4}"
      ]
     },
     "execution_count": 14,
     "metadata": {},
     "output_type": "execute_result"
    }
   ],
   "source": [
    "set1 = {1, 2, 3, 4}\n",
    "set2 = {3, 4, 5, 6}\n",
    "\n",
    "set1.intersection(set2)"
   ]
  },
  {
   "cell_type": "code",
   "execution_count": null,
   "id": "123a01ac-df54-4680-9e12-e2269c40bfde",
   "metadata": {},
   "outputs": [],
   "source": [
    "'''Find the Most Frequent Element in a List\n",
    "Task: Given a list, find the element that appears the most times.\n",
    "Example:\n",
    "numbers = [1, 3, 2, 3, 4, 3, 5, 2, 1, 3]\n",
    "Output: Most frequent: 3 (appears 4 times)'''"
   ]
  },
  {
   "cell_type": "code",
   "execution_count": 26,
   "id": "20d80c6c-72e9-4d94-af54-1a4cc21ee03c",
   "metadata": {},
   "outputs": [
    {
     "name": "stdout",
     "output_type": "stream",
     "text": [
      "The most frequent:  4\n"
     ]
    }
   ],
   "source": [
    "numbers = [1, 3, 2, 3, 4, 3, 5, 2, 1, 3]\n",
    "\n",
    "\n",
    "ch = {}\n",
    "\n",
    "for i in numbers:\n",
    "    if i in ch:\n",
    "        ch[i] = ch[i] + 1\n",
    "    else:\n",
    "        ch[i] = 1   \n",
    "\n",
    "\n",
    "\n",
    "print(\"The most frequent: \", max(ch.values()))\n",
    "\n",
    "set_new = {}\n",
    "\n"
   ]
  },
  {
   "cell_type": "code",
   "execution_count": null,
   "id": "8065c568-8749-4f4f-b773-9f36b2aa0222",
   "metadata": {},
   "outputs": [],
   "source": [
    "'''6. Remove Duplicates from a List Using Sets  \n",
    "Task: Remove duplicates from a list while maintaining order.  \n",
    "Example:  \n",
    "lst = [1, 2, 2, 3, 4, 4, 5, 6, 6, 6]  \n",
    "Output: [1, 2, 3, 4, 5, 6] ''' "
   ]
  },
  {
   "cell_type": "code",
   "execution_count": 32,
   "id": "14cf69a3-e3f5-433f-af83-7137e468e3a2",
   "metadata": {},
   "outputs": [
    {
     "data": {
      "text/plain": [
       "{1, 2, 3, 4, 5, 6}"
      ]
     },
     "execution_count": 32,
     "metadata": {},
     "output_type": "execute_result"
    }
   ],
   "source": [
    "lst = [1, 2, 2, 3, 4, 4, 5, 6, 6, 6] \n",
    "set(lst)\n"
   ]
  },
  {
   "cell_type": "code",
   "execution_count": null,
   "id": "ec17fd23-0327-46df-ac6a-a710a15fc433",
   "metadata": {},
   "outputs": [],
   "source": [
    "'''\n",
    "7. Find Students Who Enrolled in Both Courses  \n",
    "Task: Given two sets of students, find those who are enrolled in both courses.  \n",
    "Example:  \n",
    "course_A = {\"Alice\", \"Bob\", \"Charlie\"}  \n",
    "course_B = {\"Bob\", \"David\", \"Charlie\"}  \n",
    "Output: {\"Bob\", \"Charlie\"}  '''"
   ]
  },
  {
   "cell_type": "code",
   "execution_count": 33,
   "id": "c2f9279d-c4a6-4695-a93f-7a4cbd242219",
   "metadata": {},
   "outputs": [
    {
     "data": {
      "text/plain": [
       "{'Bob', 'Charlie'}"
      ]
     },
     "execution_count": 33,
     "metadata": {},
     "output_type": "execute_result"
    }
   ],
   "source": [
    "course_A = {\"Alice\", \"Bob\", \"Charlie\"}  \n",
    "course_B = {\"Bob\", \"David\", \"Charlie\"}  \n",
    "\n",
    "course_A.intersection(course_B)"
   ]
  },
  {
   "cell_type": "code",
   "execution_count": null,
   "id": "84e4ab08-9bd9-4086-96b6-226f833f0cd0",
   "metadata": {},
   "outputs": [],
   "source": [
    "'''8. Find the Union of Multiple Sets  \n",
    "Task: Find the union of three sets.  \n",
    "Example:  \n",
    "set1 = {1, 2, 3}  \n",
    "set2 = {3, 4, 5}  \n",
    "set3 = {5, 6, 7}  \n",
    "Output: {1, 2, 3, 4, 5, 6, 7}  '''"
   ]
  },
  {
   "cell_type": "code",
   "execution_count": 34,
   "id": "91cb4d34-4e10-45b7-b719-5e1eb954040a",
   "metadata": {},
   "outputs": [
    {
     "data": {
      "text/plain": [
       "{1, 2, 3, 4, 5, 6, 7}"
      ]
     },
     "execution_count": 34,
     "metadata": {},
     "output_type": "execute_result"
    }
   ],
   "source": [
    "set1 = {1, 2, 3}  \n",
    "set2 = {3, 4, 5}  \n",
    "set3 = {5, 6, 7}  \n",
    "\n",
    "set1.union(set2,set3)"
   ]
  },
  {
   "cell_type": "code",
   "execution_count": null,
   "id": "b7ffa45f-bbbb-4668-829d-bd7ae148cdd8",
   "metadata": {},
   "outputs": [],
   "source": [
    "'''9. Reverse a Dictionary (Keys Become Values, Values Become Keys)  \n",
    "Task: Swap keys and values in a dictionary.  \n",
    "Example:  \n",
    "original_dict = {'a': 1, 'b': 2, 'c': 3}  \n",
    "Output: {1: 'a', 2: 'b', 3: 'c'}  '''"
   ]
  },
  {
   "cell_type": "code",
   "execution_count": 35,
   "id": "950bd5ad-cd5f-4514-9a42-ef7d214133e7",
   "metadata": {},
   "outputs": [
    {
     "data": {
      "text/plain": [
       "{1: 'a', 2: 'b', 3: 'c'}"
      ]
     },
     "execution_count": 35,
     "metadata": {},
     "output_type": "execute_result"
    }
   ],
   "source": [
    "original_dict = {'a': 1, 'b': 2, 'c': 3}  \n",
    "D1 = {}\n",
    "for key,value in original_dict.items():\n",
    "    D1[value] = key\n",
    "D1\n",
    "\n",
    "\n"
   ]
  },
  {
   "cell_type": "code",
   "execution_count": null,
   "id": "a1acb509-aa41-458b-ae95-11ffc4799467",
   "metadata": {},
   "outputs": [],
   "source": [
    "'''10. Check If Two Words Are Anagrams Using Dictionaries  \n",
    "Task: Given two words, check if they are anagrams (i.e., contain the same letters with the same frequency).  \n",
    "Example:  \n",
    "word1 = \"listen\"  \n",
    "word2 = \"silent\"  \n",
    "Output: True (They are anagrams)  '''"
   ]
  },
  {
   "cell_type": "code",
   "execution_count": 50,
   "id": "f9d1eb9a-50d4-482c-b6f0-45d44e6f5e23",
   "metadata": {},
   "outputs": [
    {
     "name": "stdout",
     "output_type": "stream",
     "text": [
      "True\n",
      "1\n"
     ]
    }
   ],
   "source": [
    "freq1 = {}\n",
    "freq2 = {}\n",
    "word1 = \"listen\"\n",
    "word2 = \"silent\"  \n",
    "    \n",
    "for char in word1:\n",
    "    freq1[char] = freq1.get(char, 0) + 1\n",
    "    \n",
    "   \n",
    "for char in word2:\n",
    "    freq2[char] = freq2.get(char, 0) + 1\n",
    "    \n",
    "    \n",
    "print(freq1 == freq2)\n",
    "\n"
   ]
  },
  {
   "cell_type": "code",
   "execution_count": null,
   "id": "76063f4c-4693-4a53-b0d0-7b8148d984ad",
   "metadata": {},
   "outputs": [],
   "source": []
  }
 ],
 "metadata": {
  "kernelspec": {
   "display_name": "Python 3 (ipykernel)",
   "language": "python",
   "name": "python3"
  },
  "language_info": {
   "codemirror_mode": {
    "name": "ipython",
    "version": 3
   },
   "file_extension": ".py",
   "mimetype": "text/x-python",
   "name": "python",
   "nbconvert_exporter": "python",
   "pygments_lexer": "ipython3",
   "version": "3.12.4"
  }
 },
 "nbformat": 4,
 "nbformat_minor": 5
}
