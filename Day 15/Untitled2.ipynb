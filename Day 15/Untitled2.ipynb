{
 "cells": [
  {
   "cell_type": "code",
   "execution_count": 5,
   "id": "36ef57fa-3c52-496e-85b5-60cd6aea7471",
   "metadata": {},
   "outputs": [
    {
     "name": "stdout",
     "output_type": "stream",
     "text": [
      "Person: Prathiksha\n"
     ]
    }
   ],
   "source": [
    "class RequireToString(type):\n",
    "    def __new__(cls, name, bases, dct):\n",
    "        if '__str__' not in dct:\n",
    "            raise TypeError(f\"Class '{name}' must define a '__str__' method.\")\n",
    "        return super().__new__(cls, name, bases, dct)\n",
    "\n",
    "class Person(metaclass=RequireToString):\n",
    "    def __init__(self, name):\n",
    "        self.name = name\n",
    "\n",
    "    def __str__(self):\n",
    "        return f\"Person: {self.name}\"\n",
    "\n",
    "p = Person(\"Prathiksha\")\n",
    "print(p)\n",
    "\n"
   ]
  },
  {
   "cell_type": "code",
   "execution_count": 2,
   "id": "a042e0d0-8039-483d-a2fc-da593f2bad53",
   "metadata": {},
   "outputs": [
    {
     "name": "stdout",
     "output_type": "stream",
     "text": [
      "Employee: Bob, Salary: 50000\n",
      "Employee: Alice, Salary: 60000\n",
      "'init_fields' in class 'InvalidEmployee' must be a list.\n"
     ]
    }
   ],
   "source": [
    "class AutoInit(type):\n",
    "    def __new__(cls, name, bases, dct):\n",
    "        # Check if 'init_fields' exists and is a list\n",
    "        init_fields = dct.get('init_fields')\n",
    "        if init_fields is None:\n",
    "            raise TypeError(f\"Class '{name}' must define 'init_fields' as a list.\")\n",
    "        if not isinstance(init_fields, list):\n",
    "            raise TypeError(f\"'init_fields' in class '{name}' must be a list.\")\n",
    "\n",
    "        # Inject __init__ only if it's not already defined\n",
    "        if '__init__' not in dct:\n",
    "            def __init__(self, *args, **kwargs):\n",
    "                # Assign positional arguments\n",
    "                for field, value in zip(init_fields, args):\n",
    "                    setattr(self, field, value)\n",
    "                # Assign keyword arguments if provided\n",
    "                for field in init_fields[len(args):]:\n",
    "                    setattr(self, field, kwargs.get(field, None))\n",
    "            dct['__init__'] = __init__\n",
    "\n",
    "        return super().__new__(cls, name, bases, dct)\n",
    "\n",
    "# Example class using AutoInit\n",
    "class Employee(metaclass=AutoInit):\n",
    "    init_fields = ['name', 'salary']\n",
    "\n",
    "    def __str__(self):\n",
    "        return f\"Employee: {self.name}, Salary: {self.salary}\"\n",
    "\n",
    "# Working with positional arguments\n",
    "e = Employee(\"Bob\", 50000)\n",
    "print(e)  # Output: Employee: Bob, Salary: 50000\n",
    "\n",
    "# Working with keyword arguments\n",
    "e2 = Employee(name=\"Alice\", salary=60000)\n",
    "print(e2)  # Output: Employee: Alice, Salary: 60000\n",
    "\n",
    "# Example where an error will be raised\n",
    "try:\n",
    "    class InvalidEmployee(metaclass=AutoInit):\n",
    "        init_fields = \"not_a_list\"  # This will raise an error\n",
    "except TypeError as e:\n",
    "    print(e)\n",
    "\n"
   ]
  },
  {
   "cell_type": "code",
   "execution_count": 11,
   "id": "22a5942f-aeb9-4286-89fc-711b9678df47",
   "metadata": {},
   "outputs": [
    {
     "name": "stdout",
     "output_type": "stream",
     "text": [
      "120\n",
      "Error: Factorial is not defined for negative numbers.\n"
     ]
    }
   ],
   "source": [
    "class NegativeNumException(Exception):\n",
    "    def __init__(self, message=\"Factorial is not defined for negative numbers.\"):\n",
    "        self.message = message\n",
    "        super().__init__(self.message)\n",
    "\n",
    "\n",
    "def nfactorial(n):\n",
    "    if n < 0:\n",
    "        raise NegativeNumException()\n",
    "    result = 1\n",
    "    for i in range(1, n + 1):\n",
    "        result *= i\n",
    "    return result\n",
    "\n",
    "\n",
    "try:\n",
    "    print(nfactorial(5))    \n",
    "    print(nfactorial(-3))   \n",
    "except NegativeNumException as e:\n",
    "    print(f\"Error: {e}\")\n"
   ]
  },
  {
   "cell_type": "code",
   "execution_count": null,
   "id": "367dc602-ccee-47be-b36c-d9aff86cf652",
   "metadata": {},
   "outputs": [],
   "source": []
  }
 ],
 "metadata": {
  "kernelspec": {
   "display_name": "Python 3 (ipykernel)",
   "language": "python",
   "name": "python3"
  },
  "language_info": {
   "codemirror_mode": {
    "name": "ipython",
    "version": 3
   },
   "file_extension": ".py",
   "mimetype": "text/x-python",
   "name": "python",
   "nbconvert_exporter": "python",
   "pygments_lexer": "ipython3",
   "version": "3.12.4"
  }
 },
 "nbformat": 4,
 "nbformat_minor": 5
}
