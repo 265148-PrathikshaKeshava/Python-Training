{
 "cells": [
  {
   "cell_type": "code",
   "execution_count": 9,
   "id": "f2607181-f7c4-411a-b5b6-7fa837b33ba9",
   "metadata": {},
   "outputs": [
    {
     "name": "stdout",
     "output_type": "stream",
     "text": [
      "Processing chunk: [1, 2, 3]...[98, 99, 100]\n",
      "Processing chunk: [101, 102, 103]...[198, 199, 200]\n",
      "Processing chunk: [201, 202, 203]...[298, 299, 300]\n",
      "Processing chunk: [301, 302, 303]...[398, 399, 400]\n",
      "Processing chunk: [401, 402, 403]...[498, 499, 500]\n",
      "Processing chunk: [501, 502, 503]...[598, 599, 600]\n",
      "Processing chunk: [601, 602, 603]...[698, 699, 700]\n",
      "Processing chunk: [701, 702, 703]...[798, 799, 800]\n",
      "Processing chunk: [801, 802, 803]...[898, 899, 900]\n",
      "Processing chunk: [901, 902, 903]...[998, 999, 1000]\n"
     ]
    }
   ],
   "source": [
    "def chunk_data(data, chunk_size):\n",
    "    \"\"\"Yield successive chunks of data from the list.\"\"\"\n",
    "    for i in range(0, len(data), chunk_size):\n",
    "        yield data[i:i + chunk_size]\n",
    "\n",
    "# Example usage:\n",
    "user_ids = list(range(1, 1001))  # 1000 user IDs\n",
    "\n",
    "for chunk in chunk_data(user_ids, 100):\n",
    "    print(f\"Processing chunk: {chunk[:3]}...{chunk[-3:]}\")"
   ]
  },
  {
   "cell_type": "code",
   "execution_count": 6,
   "id": "84771f49-dbab-499d-8e4f-5e716e942c81",
   "metadata": {},
   "outputs": [
    {
     "name": "stdout",
     "output_type": "stream",
     "text": [
      ">> 2025-04-07 ERROR Failed to load resource\n",
      ">> 2025-04-07 ERROR Timeout occurred\n"
     ]
    }
   ],
   "source": [
    "def filter_log_lines(log_lines, keyword):\n",
    "    \"\"\"Yield log lines that contain the specified keyword.\"\"\"\n",
    "    for line in log_lines:\n",
    "        if keyword in line:\n",
    "            yield line\n",
    "\n",
    "# Example usage:\n",
    "log_lines = [\n",
    "    \"2025-04-07 INFO User logged in\",\n",
    "    \"2025-04-07 ERROR Failed to load resource\",\n",
    "    \"2025-04-07 DEBUG Memory usage stable\",\n",
    "    \"2025-04-07 ERROR Timeout occurred\",\n",
    "]\n",
    "\n",
    "# Filter for error lines\n",
    "for error in filter_log_lines(log_lines, keyword=\"ERROR\"):\n",
    "    print(\">>\", error)\n"
   ]
  },
  {
   "cell_type": "code",
   "execution_count": 7,
   "id": "8adec4d8-177b-4125-a7fb-7e303bd5df87",
   "metadata": {},
   "outputs": [
    {
     "name": "stdout",
     "output_type": "stream",
     "text": [
      "Progress: 20%\n",
      "Progress: 40%\n",
      "Progress: 60%\n",
      "Progress: 80%\n",
      "Progress: 100%\n"
     ]
    }
   ],
   "source": [
    "def progress_tracker(total_steps):\n",
    "    \"\"\"Yield progress percentage at each step.\"\"\"\n",
    "    for step in range(1, total_steps + 1):\n",
    "        progress = (step / total_steps) * 100\n",
    "        yield f\"Progress: {int(progress)}%\"\n",
    "\n",
    "# Example usage:\n",
    "for p in progress_tracker(5):\n",
    "    print(p)\n"
   ]
  },
  {
   "cell_type": "code",
   "execution_count": 10,
   "id": "a47030ee-0355-4326-b0ff-8a67cac2a838",
   "metadata": {},
   "outputs": [
    {
     "name": "stdout",
     "output_type": "stream",
     "text": [
      "Python\n",
      "is\n",
      "a\n",
      "powerful\n",
      "and\n",
      "versatile\n",
      "programming\n",
      "language.\n"
     ]
    }
   ],
   "source": [
    "class WordIterator:\n",
    "    def __init__(self, text):\n",
    "        self.words = text.split()  \n",
    "        self.index = 0             \n",
    "\n",
    "    def __iter__(self):\n",
    "        return self\n",
    "\n",
    "    def __next__(self):\n",
    "        if self.index < len(self.words):\n",
    "            word = self.words[self.index]\n",
    "            self.index += 1\n",
    "            return word\n",
    "        else:\n",
    "            raise StopIteration  \n",
    "\n",
    "\n",
    "paragraph = \"Python is a powerful and versatile programming language.\"\n",
    "\n",
    "word_iter = WordIterator(paragraph)\n",
    "\n",
    "for word in word_iter:\n",
    "    print(word)\n"
   ]
  },
  {
   "cell_type": "code",
   "execution_count": null,
   "id": "3bc283db-e96c-4f6d-9022-1bd59f38323e",
   "metadata": {},
   "outputs": [],
   "source": []
  }
 ],
 "metadata": {
  "kernelspec": {
   "display_name": "Python 3 (ipykernel)",
   "language": "python",
   "name": "python3"
  },
  "language_info": {
   "codemirror_mode": {
    "name": "ipython",
    "version": 3
   },
   "file_extension": ".py",
   "mimetype": "text/x-python",
   "name": "python",
   "nbconvert_exporter": "python",
   "pygments_lexer": "ipython3",
   "version": "3.12.4"
  }
 },
 "nbformat": 4,
 "nbformat_minor": 5
}
