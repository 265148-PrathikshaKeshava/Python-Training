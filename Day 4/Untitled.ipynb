{
 "cells": [
  {
   "cell_type": "code",
   "execution_count": 1,
   "id": "70144539-f832-44e7-b539-079e2a9a8897",
   "metadata": {},
   "outputs": [],
   "source": [
    "# function"
   ]
  },
  {
   "cell_type": "code",
   "execution_count": 2,
   "id": "e31a2045-61fe-40f7-970f-03734cc44d6c",
   "metadata": {},
   "outputs": [],
   "source": [
    "def checkprime(n):\n",
    "    prime = True\n",
    "    for i in range(2, n):\n",
    "        if(n % i == 0):\n",
    "            prime = False\n",
    "            break\n",
    "    return prime"
   ]
  },
  {
   "cell_type": "code",
   "execution_count": 3,
   "id": "78bcb536-57de-4f51-be2e-7d723e4037aa",
   "metadata": {},
   "outputs": [
    {
     "data": {
      "text/plain": [
       "False"
      ]
     },
     "execution_count": 3,
     "metadata": {},
     "output_type": "execute_result"
    }
   ],
   "source": [
    "checkprime(10)"
   ]
  },
  {
   "cell_type": "code",
   "execution_count": 4,
   "id": "b06d7ab7-f7e3-4d6a-9134-e8dd35c69d3d",
   "metadata": {},
   "outputs": [],
   "source": [
    "N = list(range(100))"
   ]
  },
  {
   "cell_type": "code",
   "execution_count": 5,
   "id": "0f62897d-e492-44f8-96ae-509a5579ff33",
   "metadata": {},
   "outputs": [],
   "source": [
    "prime = []\n",
    "for i in N:\n",
    "    if checkprime(i):\n",
    "        prime.append(i)"
   ]
  },
  {
   "cell_type": "code",
   "execution_count": 6,
   "id": "9e40b3b3-6b96-4486-bc63-556ceedd280d",
   "metadata": {},
   "outputs": [],
   "source": [
    "f = lambda a,b: a+b"
   ]
  },
  {
   "cell_type": "code",
   "execution_count": 8,
   "id": "02a9882b-4ec2-4f6c-94a7-5cba90053313",
   "metadata": {},
   "outputs": [
    {
     "data": {
      "text/plain": [
       "function"
      ]
     },
     "execution_count": 8,
     "metadata": {},
     "output_type": "execute_result"
    }
   ],
   "source": [
    "type(f)"
   ]
  },
  {
   "cell_type": "code",
   "execution_count": 10,
   "id": "e2c39fc8-717a-434c-a437-477e973e3ccf",
   "metadata": {},
   "outputs": [
    {
     "data": {
      "text/plain": [
       "30"
      ]
     },
     "execution_count": 10,
     "metadata": {},
     "output_type": "execute_result"
    }
   ],
   "source": [
    "f(10,20)"
   ]
  },
  {
   "cell_type": "code",
   "execution_count": 11,
   "id": "0bbc295a-2cd3-4dd5-b303-cc7dfda553b4",
   "metadata": {},
   "outputs": [
    {
     "data": {
      "text/plain": [
       "[212.0, 68.0, 572.0, 118.4]"
      ]
     },
     "execution_count": 11,
     "metadata": {},
     "output_type": "execute_result"
    }
   ],
   "source": [
    "T = [100, 20, 300, 48]\n",
    "\n",
    "F = []\n",
    "\n",
    "for temp in T:\n",
    "    F.append(temp*1.8 + 32)\n",
    "\n",
    "F"
   ]
  },
  {
   "cell_type": "code",
   "execution_count": 12,
   "id": "3c133abd-6c45-4f41-be5d-d3e27b9e2017",
   "metadata": {},
   "outputs": [],
   "source": [
    "F = map(lambda t: t*1.8 + 32, T)"
   ]
  },
  {
   "cell_type": "code",
   "execution_count": 15,
   "id": "2a3be4c6-7d6e-409e-ae64-ae33889c4e79",
   "metadata": {},
   "outputs": [
    {
     "data": {
      "text/plain": [
       "[212.0, 68.0, 572.0, 118.4]"
      ]
     },
     "execution_count": 15,
     "metadata": {},
     "output_type": "execute_result"
    }
   ],
   "source": [
    "list(F)"
   ]
  },
  {
   "cell_type": "code",
   "execution_count": 17,
   "id": "ed5a2a7c-f19a-4166-9202-8e2f1e2a9904",
   "metadata": {},
   "outputs": [
    {
     "data": {
      "text/plain": [
       "[2, 3, 5, 7, 11, 13, 17, 19, 23, 29, 31, 37, 41, 43, 47]"
      ]
     },
     "execution_count": 17,
     "metadata": {},
     "output_type": "execute_result"
    }
   ],
   "source": [
    "f = filter(checkprime, range(2, 50))\n",
    "\n",
    "list(f)"
   ]
  },
  {
   "cell_type": "code",
   "execution_count": 18,
   "id": "e79fb44d-f200-4316-86f4-0ee87fe4507c",
   "metadata": {},
   "outputs": [],
   "source": [
    "a = [1,2,3]\n",
    "b = ['apple', 'green', 'blue']\n",
    "\n",
    "z = zip(a,b)\n"
   ]
  },
  {
   "cell_type": "code",
   "execution_count": 19,
   "id": "c3a69054-5247-4dee-accd-f2f3e6ffd4e9",
   "metadata": {},
   "outputs": [
    {
     "data": {
      "text/plain": [
       "[(1, 'apple'), (2, 'green'), (3, 'blue')]"
      ]
     },
     "execution_count": 19,
     "metadata": {},
     "output_type": "execute_result"
    }
   ],
   "source": [
    "list(z)"
   ]
  },
  {
   "cell_type": "code",
   "execution_count": 20,
   "id": "7a361cdc-12ff-4c20-b4bf-87d5b1bebaaa",
   "metadata": {},
   "outputs": [
    {
     "data": {
      "text/plain": [
       "{}"
      ]
     },
     "execution_count": 20,
     "metadata": {},
     "output_type": "execute_result"
    }
   ],
   "source": [
    "dict(z)"
   ]
  },
  {
   "cell_type": "code",
   "execution_count": 21,
   "id": "1b8cb0f3-ec81-46ca-a963-a074fad24aa0",
   "metadata": {},
   "outputs": [],
   "source": [
    "a = [1,2,3]\n",
    "b = ['apple', 'green', 'blue']\n",
    "\n",
    "z = zip(a,b)"
   ]
  },
  {
   "cell_type": "code",
   "execution_count": 22,
   "id": "da15a37e-b2c8-4494-83e9-00f43c7587f5",
   "metadata": {},
   "outputs": [
    {
     "data": {
      "text/plain": [
       "[(1, 'apple'), (2, 'green'), (3, 'blue')]"
      ]
     },
     "execution_count": 22,
     "metadata": {},
     "output_type": "execute_result"
    }
   ],
   "source": [
    "list(z)"
   ]
  },
  {
   "cell_type": "code",
   "execution_count": 23,
   "id": "83eddc6f-75a4-424d-b747-174258d8a5a1",
   "metadata": {},
   "outputs": [
    {
     "data": {
      "text/plain": [
       "[]"
      ]
     },
     "execution_count": 23,
     "metadata": {},
     "output_type": "execute_result"
    }
   ],
   "source": [
    "list(z)"
   ]
  },
  {
   "cell_type": "code",
   "execution_count": 25,
   "id": "42ff9665-8b38-49b9-aa89-01b7558bbef7",
   "metadata": {},
   "outputs": [
    {
     "data": {
      "text/plain": [
       "[('apple', 10), ('green', 22), ('blue', 3)]"
      ]
     },
     "execution_count": 25,
     "metadata": {},
     "output_type": "execute_result"
    }
   ],
   "source": [
    "a = ['apple', 'green', 'blue']\n",
    "b = [10,22,3]\n",
    "\n",
    "z = zip(a,b)\n",
    "list(z)\n"
   ]
  },
  {
   "cell_type": "code",
   "execution_count": 28,
   "id": "fe4d56e7-26d3-4ba9-814d-402fcf314a2c",
   "metadata": {},
   "outputs": [
    {
     "data": {
      "text/plain": [
       "[('apple', 10), ('blue', 3), ('green', 22)]"
      ]
     },
     "execution_count": 28,
     "metadata": {},
     "output_type": "execute_result"
    }
   ],
   "source": [
    "list1 = [('apple', 10), ('green', 22), ('blue', 3)]\n",
    "\n",
    "list1.sort()\n",
    "list1"
   ]
  },
  {
   "cell_type": "code",
   "execution_count": 31,
   "id": "77fcacc1-0806-40f2-90e4-875c18f93b34",
   "metadata": {},
   "outputs": [
    {
     "data": {
      "text/plain": [
       "[('blue', 3), ('apple', 10), ('green', 22)]"
      ]
     },
     "execution_count": 31,
     "metadata": {},
     "output_type": "execute_result"
    }
   ],
   "source": [
    "list1.sort(key=lambda ele: ele[1])\n",
    "\n",
    "list1"
   ]
  },
  {
   "cell_type": "code",
   "execution_count": 34,
   "id": "b50703af-7de9-4ae5-b1f3-23a478fa8486",
   "metadata": {},
   "outputs": [],
   "source": [
    "N = list(range(1,10))"
   ]
  },
  {
   "cell_type": "code",
   "execution_count": 35,
   "id": "7da89bc3-1e44-42e2-a6cb-66de02aff45f",
   "metadata": {},
   "outputs": [
    {
     "data": {
      "text/plain": [
       "[1, 4, 3, 4, 25, 6, 7, 8, 9]"
      ]
     },
     "execution_count": 35,
     "metadata": {},
     "output_type": "execute_result"
    }
   ],
   "source": [
    "[n**2 if n in [2,5] else n for n in N]"
   ]
  },
  {
   "cell_type": "code",
   "execution_count": 37,
   "id": "b83014c4-d76d-48b5-b99a-d8c68fa3e298",
   "metadata": {},
   "outputs": [
    {
     "data": {
      "text/plain": [
       "{3: 'red', 5: 'green', 4: 'blue', 6: 'yellow'}"
      ]
     },
     "execution_count": 37,
     "metadata": {},
     "output_type": "execute_result"
    }
   ],
   "source": [
    "d = {'red': 3, 'green': 5, 'blue': 4, 'yellow': 6}\n",
    "\n",
    "{v:k for k,v in d.items()}"
   ]
  },
  {
   "cell_type": "code",
   "execution_count": null,
   "id": "aa590adf-342b-4c1d-85c6-251a998f8536",
   "metadata": {},
   "outputs": [],
   "source": []
  }
 ],
 "metadata": {
  "kernelspec": {
   "display_name": "Python 3 (ipykernel)",
   "language": "python",
   "name": "python3"
  },
  "language_info": {
   "codemirror_mode": {
    "name": "ipython",
    "version": 3
   },
   "file_extension": ".py",
   "mimetype": "text/x-python",
   "name": "python",
   "nbconvert_exporter": "python",
   "pygments_lexer": "ipython3",
   "version": "3.12.4"
  }
 },
 "nbformat": 4,
 "nbformat_minor": 5
}
