{
 "cells": [
  {
   "cell_type": "markdown",
   "id": "512962c0-b594-40c4-b031-3a1594357eeb",
   "metadata": {},
   "source": [
    "Session 1: [30]\n",
    "-----------------------------------------------------------------------------------------\n",
    "\n",
    "Write a function to return the sum of individual digits \n",
    "Example: sum_individual(123) -> 6\n",
    "\n",
    "Create a list of squares of numbers between 1 and 10\n",
    "Use map()\n",
    "\n",
    "List all three digit numbers between 100 and 1000 whose sum of individual digits \n",
    "equate to 11. Use filter()\n",
    "\n",
    "Given L = [\"red\", \"green\", \"blue\", \"yellow\"]\n",
    "Sort the list in descending order with respect to the last charecter of the element\n",
    "output -> ['yellow', 'green', 'blue', 'red']"
   ]
  },
  {
   "cell_type": "code",
   "execution_count": 1,
   "id": "fcbd69c3-68c5-40b4-b9bb-ab04b2ac6a5e",
   "metadata": {},
   "outputs": [
    {
     "data": {
      "text/plain": [
       "[1, 4, 9, 16, 25, 36, 49, 64, 81, 100]"
      ]
     },
     "execution_count": 1,
     "metadata": {},
     "output_type": "execute_result"
    }
   ],
   "source": [
    "#Create a list of squares of numbers between 1 and 10\n",
    "#Use map()\n",
    "\n",
    "F1 = map(lambda t : t **2, range(1,11))\n",
    "list(F1)"
   ]
  },
  {
   "cell_type": "code",
   "execution_count": null,
   "id": "58a3d5f8-a95a-4e7c-8337-360a3e7e06da",
   "metadata": {},
   "outputs": [],
   "source": [
    "#List all three digit numbers between 100 and 1000 whose sum of individual digits \n",
    "#equate to 11. Use filter()\n",
    "\n",
    "\n",
    "\n",
    "P2 = filter(lambda t : t **2, range(100, 1000))\n",
    "list(P2)"
   ]
  },
  {
   "cell_type": "code",
   "execution_count": 22,
   "id": "c09822c8-a627-4ffe-8d3d-023b5453cc01",
   "metadata": {},
   "outputs": [
    {
     "data": {
      "text/plain": [
       "['yellow', 'green', 'blue', 'red']"
      ]
     },
     "execution_count": 22,
     "metadata": {},
     "output_type": "execute_result"
    }
   ],
   "source": [
    "'''Given L = [\"red\", \"green\", \"blue\", \"yellow\"]\n",
    "Sort the list in descending order with respect to the last charecter of the element\n",
    "output -> ['yellow', 'green', 'blue', 'red']'''\n",
    "L = [\"red\", \"green\", \"blue\", \"yellow\"]\n",
    "L.sort(key=lambda e : e[-1], reverse=\"True\")\n",
    "L"
   ]
  },
  {
   "cell_type": "code",
   "execution_count": 25,
   "id": "36c2934b-e1a2-4572-a9f9-ef0fdeeeac82",
   "metadata": {},
   "outputs": [
    {
     "data": {
      "text/plain": [
       "7"
      ]
     },
     "execution_count": 25,
     "metadata": {},
     "output_type": "execute_result"
    }
   ],
   "source": [
    "#Write a function to return the sum of individual digits \n",
    "#Example: sum_individual(123) -> 6\n",
    "def sum_individual(num):\n",
    " return sum(map(int, str(num)))\n",
    "sum_individual(124)"
   ]
  },
  {
   "cell_type": "code",
   "execution_count": 13,
   "id": "c0e18855-e062-410c-be84-d25a3118b4dd",
   "metadata": {},
   "outputs": [
    {
     "data": {
      "text/plain": [
       "[119,\n",
       " 128,\n",
       " 137,\n",
       " 146,\n",
       " 155,\n",
       " 164,\n",
       " 173,\n",
       " 182,\n",
       " 191,\n",
       " 209,\n",
       " 218,\n",
       " 227,\n",
       " 236,\n",
       " 245,\n",
       " 254,\n",
       " 263,\n",
       " 272,\n",
       " 281,\n",
       " 290,\n",
       " 308,\n",
       " 317,\n",
       " 326,\n",
       " 335,\n",
       " 344,\n",
       " 353,\n",
       " 362,\n",
       " 371,\n",
       " 380,\n",
       " 407,\n",
       " 416,\n",
       " 425,\n",
       " 434,\n",
       " 443,\n",
       " 452,\n",
       " 461,\n",
       " 470,\n",
       " 506,\n",
       " 515,\n",
       " 524,\n",
       " 533,\n",
       " 542,\n",
       " 551,\n",
       " 560,\n",
       " 605,\n",
       " 614,\n",
       " 623,\n",
       " 632,\n",
       " 641,\n",
       " 650,\n",
       " 704,\n",
       " 713,\n",
       " 722,\n",
       " 731,\n",
       " 740,\n",
       " 803,\n",
       " 812,\n",
       " 821,\n",
       " 830,\n",
       " 902,\n",
       " 911,\n",
       " 920]"
      ]
     },
     "execution_count": 13,
     "metadata": {},
     "output_type": "execute_result"
    }
   ],
   "source": [
    "def sum_of_digits_equals_11(n):\n",
    "    return sum(map(int, str(n))) == 11\n",
    "\n",
    "result = list(filter(sum_of_digits_equals_11, range(100, 1000)))\n",
    "\n",
    "result"
   ]
  },
  {
   "cell_type": "code",
   "execution_count": 14,
   "id": "690d1d0e-196d-46dc-aa54-37ef35ebabe9",
   "metadata": {},
   "outputs": [
    {
     "data": {
      "text/plain": [
       "6"
      ]
     },
     "execution_count": 14,
     "metadata": {},
     "output_type": "execute_result"
    }
   ],
   "source": [
    "sum(map(int,str(123)))"
   ]
  },
  {
   "cell_type": "code",
   "execution_count": 20,
   "id": "e6036088-a536-43ef-b0af-7f1755309ca8",
   "metadata": {},
   "outputs": [
    {
     "data": {
      "text/plain": [
       "[119,\n",
       " 128,\n",
       " 137,\n",
       " 146,\n",
       " 155,\n",
       " 164,\n",
       " 173,\n",
       " 182,\n",
       " 191,\n",
       " 209,\n",
       " 218,\n",
       " 227,\n",
       " 236,\n",
       " 245,\n",
       " 254,\n",
       " 263,\n",
       " 272,\n",
       " 281,\n",
       " 290,\n",
       " 308,\n",
       " 317,\n",
       " 326,\n",
       " 335,\n",
       " 344,\n",
       " 353,\n",
       " 362,\n",
       " 371,\n",
       " 380,\n",
       " 407,\n",
       " 416,\n",
       " 425,\n",
       " 434,\n",
       " 443,\n",
       " 452,\n",
       " 461,\n",
       " 470,\n",
       " 506,\n",
       " 515,\n",
       " 524,\n",
       " 533,\n",
       " 542,\n",
       " 551,\n",
       " 560,\n",
       " 605,\n",
       " 614,\n",
       " 623,\n",
       " 632,\n",
       " 641,\n",
       " 650,\n",
       " 704,\n",
       " 713,\n",
       " 722,\n",
       " 731,\n",
       " 740,\n",
       " 803,\n",
       " 812,\n",
       " 821,\n",
       " 830,\n",
       " 902,\n",
       " 911,\n",
       " 920]"
      ]
     },
     "execution_count": 20,
     "metadata": {},
     "output_type": "execute_result"
    }
   ],
   "source": [
    "def funct1(n):\n",
    "    return sum(map(int,str(n))) == 11\n",
    "\n",
    "list(filter(funct1, range(100,1000)))"
   ]
  },
  {
   "cell_type": "code",
   "execution_count": 19,
   "id": "97fbfd9d-1979-4787-84f0-e155e80ef86a",
   "metadata": {},
   "outputs": [
    {
     "data": {
      "text/plain": [
       "[119,\n",
       " 128,\n",
       " 137,\n",
       " 146,\n",
       " 155,\n",
       " 164,\n",
       " 173,\n",
       " 182,\n",
       " 191,\n",
       " 209,\n",
       " 218,\n",
       " 227,\n",
       " 236,\n",
       " 245,\n",
       " 254,\n",
       " 263,\n",
       " 272,\n",
       " 281,\n",
       " 290,\n",
       " 308,\n",
       " 317,\n",
       " 326,\n",
       " 335,\n",
       " 344,\n",
       " 353,\n",
       " 362,\n",
       " 371,\n",
       " 380,\n",
       " 407,\n",
       " 416,\n",
       " 425,\n",
       " 434,\n",
       " 443,\n",
       " 452,\n",
       " 461,\n",
       " 470,\n",
       " 506,\n",
       " 515,\n",
       " 524,\n",
       " 533,\n",
       " 542,\n",
       " 551,\n",
       " 560,\n",
       " 605,\n",
       " 614,\n",
       " 623,\n",
       " 632,\n",
       " 641,\n",
       " 650,\n",
       " 704,\n",
       " 713,\n",
       " 722,\n",
       " 731,\n",
       " 740,\n",
       " 803,\n",
       " 812,\n",
       " 821,\n",
       " 830,\n",
       " 902,\n",
       " 911,\n",
       " 920]"
      ]
     },
     "execution_count": 19,
     "metadata": {},
     "output_type": "execute_result"
    }
   ],
   "source": [
    "def funct1(n):\n",
    "    return sum(map(int,str(n))) == 11\n",
    "\n",
    "List all three digit numbers between 100 and 1000 whose sum of individual digits \n",
    "equate to 11. Use filter()\n",
    "numb = range(100,1000)\n",
    "list(filter(funct1, numb))"
   ]
  },
  {
   "cell_type": "code",
   "execution_count": null,
   "id": "c1ae3ed1-bfa9-43d5-a956-e3832573c267",
   "metadata": {},
   "outputs": [],
   "source": []
  }
 ],
 "metadata": {
  "kernelspec": {
   "display_name": "Python 3 (ipykernel)",
   "language": "python",
   "name": "python3"
  },
  "language_info": {
   "codemirror_mode": {
    "name": "ipython",
    "version": 3
   },
   "file_extension": ".py",
   "mimetype": "text/x-python",
   "name": "python",
   "nbconvert_exporter": "python",
   "pygments_lexer": "ipython3",
   "version": "3.12.4"
  }
 },
 "nbformat": 4,
 "nbformat_minor": 5
}
